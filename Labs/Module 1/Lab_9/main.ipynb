{
 "cells": [
  {
   "cell_type": "markdown",
   "metadata": {},
   "source": [
    "# Loops\n",
    "\n",
    "Complete the following set of exercises to solidify your knowledge for Loops."
   ]
  },
  {
   "cell_type": "markdown",
   "metadata": {},
   "source": [
    "#### 1. Print first 10 natural numbers using while loop"
   ]
  },
  {
   "cell_type": "code",
   "execution_count": 1,
   "metadata": {},
   "outputs": [
    {
     "name": "stdout",
     "output_type": "stream",
     "text": [
      "1\n",
      "2\n",
      "3\n",
      "4\n",
      "5\n",
      "6\n",
      "7\n",
      "8\n",
      "9\n",
      "10\n"
     ]
    }
   ],
   "source": [
    "i=1\n",
    "while (i<=10):\n",
    "    print(i)\n",
    "    i+=1\n",
    "    "
   ]
  },
  {
   "cell_type": "markdown",
   "metadata": {},
   "source": [
    "#### 2. Display numbers from a list using loop\n",
    "Write a program to display only those numbers from a list that satisfy the following conditions\n",
    "\n",
    "The number must be divisible by five\n",
    "\n",
    "If the number is greater than 150, then skip it and move to the next number\n",
    "\n",
    "If the number is greater than 500, then stop the loop\n",
    "\n",
    "numbers = [12, 75, 150, 180, 145, 525, 50]"
   ]
  },
  {
   "cell_type": "code",
   "execution_count": 36,
   "metadata": {},
   "outputs": [
    {
     "name": "stdout",
     "output_type": "stream",
     "text": [
      "75\n",
      "150\n",
      "145\n"
     ]
    }
   ],
   "source": [
    "numbers = [12, 75, 150, 180, 145, 525, 50]\n",
    "for i in numbers:\n",
    "    if i%5==0 and i<=150:\n",
    "        print(i)\n",
    "    elif i in range(150,501):\n",
    "        continue\n",
    "    elif i>500:\n",
    "        break\n",
    "        \n"
   ]
  },
  {
   "cell_type": "markdown",
   "metadata": {},
   "source": [
    "#### 3.Write a Python program to check the validity of a password (input from users).\n",
    "\n",
    "Validation :\n",
    "\n",
    "At least 1 letter between [a-z] and 1 letter between [A-Z].\n",
    "\n",
    "At least 1 number between [0-9].\n",
    "\n",
    "At least 1 character from [$#@].\n",
    "\n",
    "Minimum length 6 characters.\n",
    "\n",
    "Maximum length 16 characters."
   ]
  },
  {
   "cell_type": "code",
   "execution_count": 124,
   "metadata": {},
   "outputs": [
    {
     "name": "stdout",
     "output_type": "stream",
     "text": [
      "Write the password= anaka\n",
      "Should content At least 1 letter between [a-z] and 1 letter between [A-Z].\n",
      "Should content At least 1 number between [0-9]\n",
      "Should content At least 1 character from [$#@]\n",
      "It should content at least 6 characters\n"
     ]
    }
   ],
   "source": [
    "import re\n",
    "pas=input(\"Write the password= \")\n",
    "if re.search(\"[a-z]+\",pas)==None or re.search(\"[A-Z]+\",pas)==None:\n",
    "    print(\"Should content At least 1 letter between [a-z] and 1 letter between [A-Z].\")\n",
    "if re.search(\"[0-9]+\",pas)==None:\n",
    "    print(\"Should content At least 1 number between [0-9]\")\n",
    "if re.search(\"[$#@]+\",pas)==None:\n",
    "    print(\"Should content At least 1 character from [$#@]\")\n",
    "if (len(pas))<=5:\n",
    "    print(\"It should content at least 6 characters\")\n",
    "if (len(pas))>16:\n",
    "    print(\"It should content maximal 16 characters\")\n",
    "    \n"
   ]
  },
  {
   "cell_type": "markdown",
   "metadata": {},
   "source": [
    "#### 4. Break the loop when x is 6, and see what happens with the else block"
   ]
  },
  {
   "cell_type": "code",
   "execution_count": 125,
   "metadata": {},
   "outputs": [
    {
     "name": "stdout",
     "output_type": "stream",
     "text": [
      "i\n",
      "i\n",
      "i\n",
      "i\n",
      "i\n",
      "a\n"
     ]
    }
   ],
   "source": [
    "i=1\n",
    "while i<6:\n",
    "    i+=1\n",
    "    print(\"i\")\n",
    "else:\n",
    "    print(\"a\")\n",
    "        \n",
    "#else is considered in the last step just once"
   ]
  },
  {
   "cell_type": "markdown",
   "metadata": {},
   "source": [
    "#### 5. Write a Python program to calculate the sum and average of n integer numbers (input from the user). Input 0 to finish.\n"
   ]
  },
  {
   "cell_type": "code",
   "execution_count": 123,
   "metadata": {},
   "outputs": [
    {
     "name": "stdout",
     "output_type": "stream",
     "text": [
      "Write the number: 1\n",
      "Write the number: 2\n",
      "Write the number: 3\n",
      "Write the number: 4\n",
      "Write the number: 5\n",
      "Write the number: 6\n",
      "Write the number: 7\n",
      "Write the number: 8\n",
      "Write the number: 9\n",
      "Write the number: 10\n",
      "Write the number: 0\n",
      "The sum is 55  and the average is 5\n"
     ]
    }
   ],
   "source": [
    "n=int(input(\"Write the number: \"))\n",
    "suma=0\n",
    "avr=0\n",
    "i=1\n",
    "while n!=0:\n",
    "    suma=suma+n\n",
    "    avr=suma/i\n",
    "    n=int(input(\"Write the number: \"))\n",
    "    i+=1\n",
    "    \n",
    "print(\"The sum is %d  and the average is %d\" % (suma,avr))\n"
   ]
  }
 ],
 "metadata": {
  "kernelspec": {
   "display_name": "Python 3",
   "language": "python",
   "name": "python3"
  },
  "language_info": {
   "codemirror_mode": {
    "name": "ipython",
    "version": 3
   },
   "file_extension": ".py",
   "mimetype": "text/x-python",
   "name": "python",
   "nbconvert_exporter": "python",
   "pygments_lexer": "ipython3",
   "version": "3.8.8"
  }
 },
 "nbformat": 4,
 "nbformat_minor": 2
}
