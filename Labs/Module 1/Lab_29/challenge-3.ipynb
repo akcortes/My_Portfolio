{
 "cells": [
  {
   "cell_type": "markdown",
   "metadata": {
    "toc": true
   },
   "source": [
    "<h1>Table of Contents<span class=\"tocSkip\"></span></h1>\n",
    "<div class=\"toc\"><ul class=\"toc-item\"><li><span><a href=\"#Challenge-3\" data-toc-modified-id=\"Challenge-3-1\"><span class=\"toc-item-num\">1&nbsp;&nbsp;</span>Challenge 3</a></span><ul class=\"toc-item\"><li><span><a href=\"#Q1:-How-to-identify-VIP-&amp;-Preferred-Customers?\" data-toc-modified-id=\"Q1:-How-to-identify-VIP-&amp;-Preferred-Customers?-1.1\"><span class=\"toc-item-num\">1.1&nbsp;&nbsp;</span>Q1: How to identify VIP &amp; Preferred Customers?</a></span></li><li><span><a href=\"#How-to-label-customers-whose-aggregated-amount_spent-is-in-a-given-quantile-range?\" data-toc-modified-id=\"How-to-label-customers-whose-aggregated-amount_spent-is-in-a-given-quantile-range?-1.2\"><span class=\"toc-item-num\">1.2&nbsp;&nbsp;</span>How to label customers whose aggregated <code>amount_spent</code> is in a given quantile range?</a></span><ul class=\"toc-item\"><li><ul class=\"toc-item\"><li><span><a href=\"#Sub-Problem-1:-How-to-aggregate-the--amount_spent-for-unique-customers?\" data-toc-modified-id=\"Sub-Problem-1:-How-to-aggregate-the--amount_spent-for-unique-customers?-1.2.0.1\"><span class=\"toc-item-num\">1.2.0.1&nbsp;&nbsp;</span>Sub Problem 1: How to aggregate the  <code>amount_spent</code> for unique customers?</a></span></li><li><span><a href=\"#Sub-Problem-2:-How-to-select-customers-whose-aggregated-amount_spent-is-in-a-given-quantile-range?\" data-toc-modified-id=\"Sub-Problem-2:-How-to-select-customers-whose-aggregated-amount_spent-is-in-a-given-quantile-range?-1.2.0.2\"><span class=\"toc-item-num\">1.2.0.2&nbsp;&nbsp;</span>Sub Problem 2: How to select customers whose aggregated <code>amount_spent</code> is in a given quantile range?</a></span></li><li><span><a href=\"#Sub-Problem-3:-How-to-label-selected-customers-as-&quot;VIP&quot;-or-&quot;Preferred&quot;?\" data-toc-modified-id=\"Sub-Problem-3:-How-to-label-selected-customers-as-&quot;VIP&quot;-or-&quot;Preferred&quot;?-1.2.0.3\"><span class=\"toc-item-num\">1.2.0.3&nbsp;&nbsp;</span>Sub Problem 3: How to label selected customers as \"VIP\" or \"Preferred\"?</a></span></li></ul></li></ul></li><li><span><a href=\"#Q2:-How-to-identify-which-country-has-the-most-VIP-Customers?\" data-toc-modified-id=\"Q2:-How-to-identify-which-country-has-the-most-VIP-Customers?-1.3\"><span class=\"toc-item-num\">1.3&nbsp;&nbsp;</span>Q2: How to identify which country has the most VIP Customers?</a></span></li><li><span><a href=\"#Q3:-How-to-identify-which-country-has-the-most-VIP+Preferred-Customers-combined?\" data-toc-modified-id=\"Q3:-How-to-identify-which-country-has-the-most-VIP+Preferred-Customers-combined?-1.4\"><span class=\"toc-item-num\">1.4&nbsp;&nbsp;</span>Q3: How to identify which country has the most VIP+Preferred Customers combined?</a></span></li></ul></li></ul></div>"
   ]
  },
  {
   "cell_type": "markdown",
   "metadata": {},
   "source": [
    "# Challenge 3\n",
    "\n",
    "In this challenge we will work on the `Orders` data set. In your work you will apply the thinking process and workflow we showed you in Challenge 2.\n",
    "\n",
    "You are serving as a Business Intelligence Analyst at the headquarter of an international fashion goods chain store. Your boss today asked you to do two things for her:\n",
    "\n",
    "**First, identify two groups of customers from the data set.** The first group is **VIP Customers** whose **aggregated expenses** at your global chain stores are **above the 95th percentile** (aka. 0.95 quantile). The second group is **Preferred Customers** whose **aggregated expenses** are **between the 75th and 95th percentile**.\n",
    "\n",
    "**Second, identify which country has the most of your VIP customers, and which country has the most of your VIP+Preferred Customers combined.**"
   ]
  },
  {
   "cell_type": "markdown",
   "metadata": {},
   "source": [
    "## Q1: How to identify VIP & Preferred Customers?\n",
    "\n",
    "We start by importing all the required libraries:"
   ]
  },
  {
   "cell_type": "code",
   "execution_count": 2,
   "metadata": {},
   "outputs": [],
   "source": [
    "# import required libraries\n",
    "import numpy as np\n",
    "import pandas as pd"
   ]
  },
  {
   "cell_type": "markdown",
   "metadata": {},
   "source": [
    "Next, import `Orders` from Ironhack's database into a dataframe variable called `orders`. Print the head of `orders` to overview the data:"
   ]
  },
  {
   "cell_type": "code",
   "execution_count": 5,
   "metadata": {},
   "outputs": [],
   "source": [
    "# your code here\n",
    "orders=pd.read_csv('Orders.csv')"
   ]
  },
  {
   "cell_type": "markdown",
   "metadata": {},
   "source": [
    "---\n",
    "\n",
    "\"Identify VIP and Preferred Customers\" is the non-technical goal of your boss. You need to translate that goal into technical languages that data analysts use:\n",
    "\n",
    "## How to label customers whose aggregated `amount_spent` is in a given quantile range?\n"
   ]
  },
  {
   "cell_type": "markdown",
   "metadata": {},
   "source": [
    "We break down the main problem into several sub problems:\n",
    "\n",
    "#### Sub Problem 1: How to aggregate the  `amount_spent` for unique customers?\n",
    "\n",
    "#### Sub Problem 2: How to select customers whose aggregated `amount_spent` is in a given quantile range?\n",
    "\n",
    "#### Sub Problem 3: How to label selected customers as \"VIP\" or \"Preferred\"?\n",
    "\n",
    "*Note: If you want to break down the main problem in a different way, please feel free to revise the sub problems above.*\n",
    "\n",
    "Now in the workspace below, tackle each of the sub problems using the iterative problem solving workflow. Insert cells as necessary to write your codes and explain your steps."
   ]
  },
  {
   "cell_type": "code",
   "execution_count": 7,
   "metadata": {},
   "outputs": [
    {
     "data": {
      "text/html": [
       "<div>\n",
       "<style scoped>\n",
       "    .dataframe tbody tr th:only-of-type {\n",
       "        vertical-align: middle;\n",
       "    }\n",
       "\n",
       "    .dataframe tbody tr th {\n",
       "        vertical-align: top;\n",
       "    }\n",
       "\n",
       "    .dataframe thead th {\n",
       "        text-align: right;\n",
       "    }\n",
       "</style>\n",
       "<table border=\"1\" class=\"dataframe\">\n",
       "  <thead>\n",
       "    <tr style=\"text-align: right;\">\n",
       "      <th></th>\n",
       "      <th>CustomerID</th>\n",
       "      <th>amount_spent</th>\n",
       "    </tr>\n",
       "  </thead>\n",
       "  <tbody>\n",
       "    <tr>\n",
       "      <th>1690</th>\n",
       "      <td>14646</td>\n",
       "      <td>280206.02</td>\n",
       "    </tr>\n",
       "    <tr>\n",
       "      <th>4202</th>\n",
       "      <td>18102</td>\n",
       "      <td>259657.30</td>\n",
       "    </tr>\n",
       "    <tr>\n",
       "      <th>3729</th>\n",
       "      <td>17450</td>\n",
       "      <td>194550.79</td>\n",
       "    </tr>\n",
       "    <tr>\n",
       "      <th>3009</th>\n",
       "      <td>16446</td>\n",
       "      <td>168472.50</td>\n",
       "    </tr>\n",
       "    <tr>\n",
       "      <th>1880</th>\n",
       "      <td>14911</td>\n",
       "      <td>143825.06</td>\n",
       "    </tr>\n",
       "    <tr>\n",
       "      <th>...</th>\n",
       "      <td>...</td>\n",
       "      <td>...</td>\n",
       "    </tr>\n",
       "    <tr>\n",
       "      <th>4099</th>\n",
       "      <td>17956</td>\n",
       "      <td>12.75</td>\n",
       "    </tr>\n",
       "    <tr>\n",
       "      <th>3015</th>\n",
       "      <td>16454</td>\n",
       "      <td>6.90</td>\n",
       "    </tr>\n",
       "    <tr>\n",
       "      <th>1794</th>\n",
       "      <td>14792</td>\n",
       "      <td>6.20</td>\n",
       "    </tr>\n",
       "    <tr>\n",
       "      <th>3218</th>\n",
       "      <td>16738</td>\n",
       "      <td>3.75</td>\n",
       "    </tr>\n",
       "    <tr>\n",
       "      <th>685</th>\n",
       "      <td>13256</td>\n",
       "      <td>0.00</td>\n",
       "    </tr>\n",
       "  </tbody>\n",
       "</table>\n",
       "<p>4339 rows × 2 columns</p>\n",
       "</div>"
      ],
      "text/plain": [
       "      CustomerID  amount_spent\n",
       "1690       14646     280206.02\n",
       "4202       18102     259657.30\n",
       "3729       17450     194550.79\n",
       "3009       16446     168472.50\n",
       "1880       14911     143825.06\n",
       "...          ...           ...\n",
       "4099       17956         12.75\n",
       "3015       16454          6.90\n",
       "1794       14792          6.20\n",
       "3218       16738          3.75\n",
       "685        13256          0.00\n",
       "\n",
       "[4339 rows x 2 columns]"
      ]
     },
     "execution_count": 7,
     "metadata": {},
     "output_type": "execute_result"
    }
   ],
   "source": [
    "# your code here\n",
    "ordersor = orders.groupby('CustomerID', as_index=False).agg({'amount_spent':'sum'})\n",
    "ordersor.sort_values('amount_spent', ascending=False, inplace=True)\n",
    "ordersor\n"
   ]
  },
  {
   "cell_type": "code",
   "execution_count": 13,
   "metadata": {},
   "outputs": [
    {
     "data": {
      "text/html": [
       "<div>\n",
       "<style scoped>\n",
       "    .dataframe tbody tr th:only-of-type {\n",
       "        vertical-align: middle;\n",
       "    }\n",
       "\n",
       "    .dataframe tbody tr th {\n",
       "        vertical-align: top;\n",
       "    }\n",
       "\n",
       "    .dataframe thead th {\n",
       "        text-align: right;\n",
       "    }\n",
       "</style>\n",
       "<table border=\"1\" class=\"dataframe\">\n",
       "  <thead>\n",
       "    <tr style=\"text-align: right;\">\n",
       "      <th></th>\n",
       "      <th>CustomerID</th>\n",
       "      <th>amount_spent</th>\n",
       "    </tr>\n",
       "  </thead>\n",
       "  <tbody>\n",
       "    <tr>\n",
       "      <th>1690</th>\n",
       "      <td>14646</td>\n",
       "      <td>280206.02</td>\n",
       "    </tr>\n",
       "    <tr>\n",
       "      <th>4202</th>\n",
       "      <td>18102</td>\n",
       "      <td>259657.30</td>\n",
       "    </tr>\n",
       "    <tr>\n",
       "      <th>3729</th>\n",
       "      <td>17450</td>\n",
       "      <td>194550.79</td>\n",
       "    </tr>\n",
       "    <tr>\n",
       "      <th>3009</th>\n",
       "      <td>16446</td>\n",
       "      <td>168472.50</td>\n",
       "    </tr>\n",
       "    <tr>\n",
       "      <th>1880</th>\n",
       "      <td>14911</td>\n",
       "      <td>143825.06</td>\n",
       "    </tr>\n",
       "    <tr>\n",
       "      <th>...</th>\n",
       "      <td>...</td>\n",
       "      <td>...</td>\n",
       "    </tr>\n",
       "    <tr>\n",
       "      <th>4099</th>\n",
       "      <td>17956</td>\n",
       "      <td>12.75</td>\n",
       "    </tr>\n",
       "    <tr>\n",
       "      <th>3015</th>\n",
       "      <td>16454</td>\n",
       "      <td>6.90</td>\n",
       "    </tr>\n",
       "    <tr>\n",
       "      <th>1794</th>\n",
       "      <td>14792</td>\n",
       "      <td>6.20</td>\n",
       "    </tr>\n",
       "    <tr>\n",
       "      <th>3218</th>\n",
       "      <td>16738</td>\n",
       "      <td>3.75</td>\n",
       "    </tr>\n",
       "    <tr>\n",
       "      <th>685</th>\n",
       "      <td>13256</td>\n",
       "      <td>0.00</td>\n",
       "    </tr>\n",
       "  </tbody>\n",
       "</table>\n",
       "<p>4339 rows × 2 columns</p>\n",
       "</div>"
      ],
      "text/plain": [
       "      CustomerID  amount_spent\n",
       "1690       14646     280206.02\n",
       "4202       18102     259657.30\n",
       "3729       17450     194550.79\n",
       "3009       16446     168472.50\n",
       "1880       14911     143825.06\n",
       "...          ...           ...\n",
       "4099       17956         12.75\n",
       "3015       16454          6.90\n",
       "1794       14792          6.20\n",
       "3218       16738          3.75\n",
       "685        13256          0.00\n",
       "\n",
       "[4339 rows x 2 columns]"
      ]
     },
     "execution_count": 13,
     "metadata": {},
     "output_type": "execute_result"
    }
   ],
   "source": [
    "orders = orders[['CustomerID','amount_spent','Country']]\n",
    "\n",
    "solo = orders.groupby('CustomerID',as_index=False).sum()\n",
    "solo.sort_values(by='amount_spent', ascending = False)\n"
   ]
  },
  {
   "cell_type": "code",
   "execution_count": 21,
   "metadata": {},
   "outputs": [
    {
     "name": "stdout",
     "output_type": "stream",
     "text": [
      "5840.181999999983\n"
     ]
    },
    {
     "data": {
      "text/html": [
       "<div>\n",
       "<style scoped>\n",
       "    .dataframe tbody tr th:only-of-type {\n",
       "        vertical-align: middle;\n",
       "    }\n",
       "\n",
       "    .dataframe tbody tr th {\n",
       "        vertical-align: top;\n",
       "    }\n",
       "\n",
       "    .dataframe thead th {\n",
       "        text-align: right;\n",
       "    }\n",
       "</style>\n",
       "<table border=\"1\" class=\"dataframe\">\n",
       "  <thead>\n",
       "    <tr style=\"text-align: right;\">\n",
       "      <th></th>\n",
       "      <th>CustomerID</th>\n",
       "      <th>amount_spent</th>\n",
       "    </tr>\n",
       "  </thead>\n",
       "  <tbody>\n",
       "    <tr>\n",
       "      <th>0</th>\n",
       "      <td>12346</td>\n",
       "      <td>77183.60</td>\n",
       "    </tr>\n",
       "    <tr>\n",
       "      <th>10</th>\n",
       "      <td>12357</td>\n",
       "      <td>6207.67</td>\n",
       "    </tr>\n",
       "    <tr>\n",
       "      <th>12</th>\n",
       "      <td>12359</td>\n",
       "      <td>6372.58</td>\n",
       "    </tr>\n",
       "    <tr>\n",
       "      <th>50</th>\n",
       "      <td>12409</td>\n",
       "      <td>11072.67</td>\n",
       "    </tr>\n",
       "    <tr>\n",
       "      <th>55</th>\n",
       "      <td>12415</td>\n",
       "      <td>124914.53</td>\n",
       "    </tr>\n",
       "    <tr>\n",
       "      <th>...</th>\n",
       "      <td>...</td>\n",
       "      <td>...</td>\n",
       "    </tr>\n",
       "    <tr>\n",
       "      <th>4207</th>\n",
       "      <td>18109</td>\n",
       "      <td>8052.97</td>\n",
       "    </tr>\n",
       "    <tr>\n",
       "      <th>4229</th>\n",
       "      <td>18139</td>\n",
       "      <td>8438.34</td>\n",
       "    </tr>\n",
       "    <tr>\n",
       "      <th>4253</th>\n",
       "      <td>18172</td>\n",
       "      <td>7561.68</td>\n",
       "    </tr>\n",
       "    <tr>\n",
       "      <th>4292</th>\n",
       "      <td>18223</td>\n",
       "      <td>6484.54</td>\n",
       "    </tr>\n",
       "    <tr>\n",
       "      <th>4298</th>\n",
       "      <td>18229</td>\n",
       "      <td>7276.90</td>\n",
       "    </tr>\n",
       "  </tbody>\n",
       "</table>\n",
       "<p>217 rows × 2 columns</p>\n",
       "</div>"
      ],
      "text/plain": [
       "      CustomerID  amount_spent\n",
       "0          12346      77183.60\n",
       "10         12357       6207.67\n",
       "12         12359       6372.58\n",
       "50         12409      11072.67\n",
       "55         12415     124914.53\n",
       "...          ...           ...\n",
       "4207       18109       8052.97\n",
       "4229       18139       8438.34\n",
       "4253       18172       7561.68\n",
       "4292       18223       6484.54\n",
       "4298       18229       7276.90\n",
       "\n",
       "[217 rows x 2 columns]"
      ]
     },
     "execution_count": 21,
     "metadata": {},
     "output_type": "execute_result"
    }
   ],
   "source": [
    "vip= solo.amount_spent.quantile(0.95)\n",
    "vips = solo.loc[(solo['amount_spent'] >= vip)]\n",
    "print(vip)\n",
    "vips"
   ]
  },
  {
   "cell_type": "code",
   "execution_count": 23,
   "metadata": {},
   "outputs": [
    {
     "data": {
      "text/plain": [
       "0.75    1661.640\n",
       "0.95    5840.182\n",
       "Name: amount_spent, dtype: float64"
      ]
     },
     "execution_count": 23,
     "metadata": {},
     "output_type": "execute_result"
    }
   ],
   "source": [
    "perc = solo.amount_spent.quantile([.75, .95])\n",
    "perc # 0.75 is 1661.640, 0.95 is 5840.182\n"
   ]
  },
  {
   "cell_type": "code",
   "execution_count": 26,
   "metadata": {},
   "outputs": [
    {
     "data": {
      "text/html": [
       "<div>\n",
       "<style scoped>\n",
       "    .dataframe tbody tr th:only-of-type {\n",
       "        vertical-align: middle;\n",
       "    }\n",
       "\n",
       "    .dataframe tbody tr th {\n",
       "        vertical-align: top;\n",
       "    }\n",
       "\n",
       "    .dataframe thead th {\n",
       "        text-align: right;\n",
       "    }\n",
       "</style>\n",
       "<table border=\"1\" class=\"dataframe\">\n",
       "  <thead>\n",
       "    <tr style=\"text-align: right;\">\n",
       "      <th></th>\n",
       "      <th>CustomerID</th>\n",
       "      <th>amount_spent</th>\n",
       "    </tr>\n",
       "  </thead>\n",
       "  <tbody>\n",
       "    <tr>\n",
       "      <th>1</th>\n",
       "      <td>12347</td>\n",
       "      <td>4310.00</td>\n",
       "    </tr>\n",
       "    <tr>\n",
       "      <th>2</th>\n",
       "      <td>12348</td>\n",
       "      <td>1797.24</td>\n",
       "    </tr>\n",
       "    <tr>\n",
       "      <th>3</th>\n",
       "      <td>12349</td>\n",
       "      <td>1757.55</td>\n",
       "    </tr>\n",
       "    <tr>\n",
       "      <th>5</th>\n",
       "      <td>12352</td>\n",
       "      <td>2506.04</td>\n",
       "    </tr>\n",
       "    <tr>\n",
       "      <th>9</th>\n",
       "      <td>12356</td>\n",
       "      <td>2811.43</td>\n",
       "    </tr>\n",
       "    <tr>\n",
       "      <th>...</th>\n",
       "      <td>...</td>\n",
       "      <td>...</td>\n",
       "    </tr>\n",
       "    <tr>\n",
       "      <th>4319</th>\n",
       "      <td>18259</td>\n",
       "      <td>2338.60</td>\n",
       "    </tr>\n",
       "    <tr>\n",
       "      <th>4320</th>\n",
       "      <td>18260</td>\n",
       "      <td>2643.20</td>\n",
       "    </tr>\n",
       "    <tr>\n",
       "      <th>4328</th>\n",
       "      <td>18272</td>\n",
       "      <td>3078.58</td>\n",
       "    </tr>\n",
       "    <tr>\n",
       "      <th>4337</th>\n",
       "      <td>18283</td>\n",
       "      <td>2094.88</td>\n",
       "    </tr>\n",
       "    <tr>\n",
       "      <th>4338</th>\n",
       "      <td>18287</td>\n",
       "      <td>1837.28</td>\n",
       "    </tr>\n",
       "  </tbody>\n",
       "</table>\n",
       "<p>868 rows × 2 columns</p>\n",
       "</div>"
      ],
      "text/plain": [
       "      CustomerID  amount_spent\n",
       "1          12347       4310.00\n",
       "2          12348       1797.24\n",
       "3          12349       1757.55\n",
       "5          12352       2506.04\n",
       "9          12356       2811.43\n",
       "...          ...           ...\n",
       "4319       18259       2338.60\n",
       "4320       18260       2643.20\n",
       "4328       18272       3078.58\n",
       "4337       18283       2094.88\n",
       "4338       18287       1837.28\n",
       "\n",
       "[868 rows x 2 columns]"
      ]
     },
     "execution_count": 26,
     "metadata": {},
     "output_type": "execute_result"
    }
   ],
   "source": [
    "prefcust = solo.loc[(solo['amount_spent'] >= 1661.640) & (solo['amount_spent'] < 5840.182)]\n",
    "prefcust \n"
   ]
  },
  {
   "cell_type": "code",
   "execution_count": 27,
   "metadata": {},
   "outputs": [
    {
     "data": {
      "text/plain": [
       "                      3254\n",
       "Preferred_customer     868\n",
       "VIP                    217\n",
       "Name: Client_type, dtype: int64"
      ]
     },
     "execution_count": 27,
     "metadata": {},
     "output_type": "execute_result"
    }
   ],
   "source": [
    "solo['Client_type'] =np.where(solo['amount_spent']>=1661.640, 'Preferred_customer','')\n",
    "solo['Client_type'] =np.where(solo['amount_spent']>=5840.182, 'VIP', solo['Client_type'])\n",
    "solo.head()\n",
    "solo['Client_type'].value_counts()"
   ]
  },
  {
   "cell_type": "markdown",
   "metadata": {},
   "source": [
    "Now we'll leave it to you to solve Q2 & Q3, which you can leverage from your solution for Q1:\n",
    "\n",
    "## Q2: How to identify which country has the most VIP Customers?"
   ]
  },
  {
   "cell_type": "code",
   "execution_count": 28,
   "metadata": {},
   "outputs": [
    {
     "data": {
      "text/plain": [
       "United Kingdom     3948\n",
       "France               74\n",
       "Germany              66\n",
       "Norway               60\n",
       "EIRE                 60\n",
       "Spain                46\n",
       "Japan                39\n",
       "Denmark              17\n",
       "Portugal             17\n",
       "Channel Islands      12\n",
       "Name: Country, dtype: int64"
      ]
     },
     "execution_count": 28,
     "metadata": {},
     "output_type": "execute_result"
    }
   ],
   "source": [
    "solo['Country']=\"\"\n",
    "solo['Country']=solo['CustomerID'].map(orders['Country'])\n",
    "solo['Country'].value_counts()"
   ]
  },
  {
   "cell_type": "code",
   "execution_count": 29,
   "metadata": {},
   "outputs": [
    {
     "data": {
      "text/plain": [
       "United Kingdom    191\n",
       "Germany             6\n",
       "Norway              6\n",
       "France              6\n",
       "EIRE                3\n",
       "Spain               2\n",
       "Portugal            2\n",
       "Japan               1\n",
       "Name: Country, dtype: int64"
      ]
     },
     "execution_count": 29,
     "metadata": {},
     "output_type": "execute_result"
    }
   ],
   "source": [
    "vip=solo[solo['Client_type']== 'VIP']\n",
    "vip['Country'].value_counts()"
   ]
  },
  {
   "cell_type": "markdown",
   "metadata": {},
   "source": [
    "## Q3: How to identify which country has the most VIP+Preferred Customers combined?"
   ]
  },
  {
   "cell_type": "code",
   "execution_count": 31,
   "metadata": {},
   "outputs": [
    {
     "data": {
      "text/plain": [
       "United Kingdom     780\n",
       "Norway              18\n",
       "Germany             16\n",
       "France              13\n",
       "Spain               13\n",
       "EIRE                 9\n",
       "Denmark              8\n",
       "Japan                5\n",
       "Portugal             4\n",
       "Channel Islands      2\n",
       "Name: Country, dtype: int64"
      ]
     },
     "execution_count": 31,
     "metadata": {},
     "output_type": "execute_result"
    }
   ],
   "source": [
    "# your code here\n",
    "Pref=solo[solo['Client_type']== 'Preferred_customer']\n",
    "\n",
    "todo = [VIP, Pref]\n",
    "todos= pd.concat(todo)\n",
    "todos['Country'].value_counts()"
   ]
  },
  {
   "cell_type": "code",
   "execution_count": null,
   "metadata": {},
   "outputs": [],
   "source": []
  }
 ],
 "metadata": {
  "kernelspec": {
   "display_name": "Python 3",
   "language": "python",
   "name": "python3"
  },
  "language_info": {
   "codemirror_mode": {
    "name": "ipython",
    "version": 3
   },
   "file_extension": ".py",
   "mimetype": "text/x-python",
   "name": "python",
   "nbconvert_exporter": "python",
   "pygments_lexer": "ipython3",
   "version": "3.8.8"
  },
  "toc": {
   "base_numbering": 1,
   "nav_menu": {},
   "number_sections": true,
   "sideBar": true,
   "skip_h1_title": false,
   "title_cell": "Table of Contents",
   "title_sidebar": "Contents",
   "toc_cell": true,
   "toc_position": {},
   "toc_section_display": true,
   "toc_window_display": false
  }
 },
 "nbformat": 4,
 "nbformat_minor": 2
}
