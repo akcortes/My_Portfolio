{
 "cells": [
  {
   "cell_type": "markdown",
   "id": "0af24074",
   "metadata": {},
   "source": [
    "\n",
    "* [Ordered Count of Characters](https://www.codewars.com/kata/ordered-count-of-characters)"
   ]
  },
  {
   "cell_type": "code",
   "execution_count": null,
   "id": "2dc93423",
   "metadata": {},
   "outputs": [],
   "source": [
    "#Exercise1\n",
    "#[Remove All The Marked Elements of a List](https://www.codewars.com/kata/remove-all-the-marked-elements-of-a-list)\n",
    "\n",
    "Define a method/function that removes from a given array of integers all the values contained in a second array.\n",
    "\n",
    "Examples:\n",
    "\n",
    "l = List()\n",
    "\n",
    "integer_list =  [1, 1, 2 ,3 ,1 ,2 ,3 ,4]\n",
    "values_list = [1, 3]\n",
    "l.remove_(integer_list, values_list) == [2, 2, 4]\n",
    "\n",
    "integer_list = [1, 1, 2 ,3 ,1 ,2 ,3 ,4, 4, 3 ,5, 6, 7, 2, 8]\n",
    "lst = [1, 3, 4, 2]\n",
    "l.remove_(integer_list, values_list) == [5, 6 ,7 ,8]\n",
    "\n",
    "integer_list = [8, 2, 7, 2, 3, 4, 6, 5, 4, 4, 1, 2 , 3]\n",
    "lst = [2, 4, 3]\n",
    "l.remove_(integer_list, values_list) == [8, 7, 6, 5, 1]\n",
    "\n",
    "integer_list =  [1, 1, 2 ,3 ,1 ,2 ,3 ,4]\n",
    "values_list = [1, 3]\n"
   ]
  },
  {
   "cell_type": "code",
   "execution_count": 70,
   "id": "1cf1f3d8",
   "metadata": {},
   "outputs": [
    {
     "name": "stdout",
     "output_type": "stream",
     "text": [
      "[8, 7, 6, 5, 1]\n"
     ]
    }
   ],
   "source": [
    "integer_list = [8, 2, 7, 2, 3, 4, 6, 5, 4, 4, 1, 2 , 3]\n",
    "lst = [2, 4, 3]\n",
    "\n",
    "\n",
    "def fuctionremove(integer_list,lst):\n",
    "    z=[]\n",
    "    for i in integer_list:\n",
    "        write=True\n",
    "        for a in lst:\n",
    "            if i==a:\n",
    "                write=False\n",
    "        if write==True:\n",
    "            z.append(i)\n",
    "    return z\n",
    "\n",
    "print(fuctionremove(integer_list,lst))"
   ]
  },
  {
   "cell_type": "code",
   "execution_count": null,
   "id": "91d42ed7",
   "metadata": {},
   "outputs": [],
   "source": [
    "#Exercise2\n",
    "#the same as in Lab 10\n",
    "* [Method For Counting Total Occurence Of Specific Digits](https://www.codewars.com/kata/method-for-counting-total-occurence-of-specific-digits)"
   ]
  },
  {
   "cell_type": "code",
   "execution_count": null,
   "id": "af1f36a1",
   "metadata": {},
   "outputs": [],
   "source": [
    "#Exercise3\n",
    "\n",
    "Count the number of occurrences of each character and return it as a list of tuples in order of appearance. For empty output return an empty list.\n",
    "\n",
    "Example:\n",
    "\n",
    "ordered_count(\"abracadabra\") == [('a', 5), ('b', 2), ('r', 2), ('c', 1), ('d', 1)]\n",
    "\n"
   ]
  },
  {
   "cell_type": "code",
   "execution_count": 76,
   "id": "eb7cd6f3",
   "metadata": {},
   "outputs": [
    {
     "name": "stdout",
     "output_type": "stream",
     "text": [
      "Write the word: anakat\n",
      "[('a', 3), ('n', 1), ('k', 1), ('t', 1)]\n"
     ]
    }
   ],
   "source": [
    "from collections import Counter\n",
    "word=input(\"Write the word: \")\n",
    "print(Counter(word).most_common())"
   ]
  },
  {
   "cell_type": "code",
   "execution_count": null,
   "id": "659561bd",
   "metadata": {},
   "outputs": [],
   "source": []
  },
  {
   "cell_type": "code",
   "execution_count": null,
   "id": "5d05d4cf",
   "metadata": {},
   "outputs": [],
   "source": []
  }
 ],
 "metadata": {
  "kernelspec": {
   "display_name": "Python 3",
   "language": "python",
   "name": "python3"
  },
  "language_info": {
   "codemirror_mode": {
    "name": "ipython",
    "version": 3
   },
   "file_extension": ".py",
   "mimetype": "text/x-python",
   "name": "python",
   "nbconvert_exporter": "python",
   "pygments_lexer": "ipython3",
   "version": "3.8.8"
  }
 },
 "nbformat": 4,
 "nbformat_minor": 5
}
