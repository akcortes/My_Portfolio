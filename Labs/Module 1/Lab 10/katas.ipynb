{
 "cells": [
  {
   "cell_type": "markdown",
   "id": "eed4464f",
   "metadata": {},
   "source": [
    "#Exercise1\n",
    "[Counting Sheeps] (https://www.codewars.com/kata/54edbc7200b811e956000556)\n",
    "Consider an array/list of sheep where some sheep may be missing from their place. We need a function that counts the number of sheep present in the array (true means present)."
   ]
  },
  {
   "cell_type": "markdown",
   "id": "dfc4672b",
   "metadata": {},
   "source": [
    "[True,  True,  True,  False,\n",
    "  True,  True,  True,  True ,\n",
    "  True,  False, True,  False,\n",
    "  True,  False, False, True ,\n",
    "  True,  True,  True,  True ,\n",
    "  False, False, True,  True]\n",
    "\n",
    "The correct answer would be 17.\n",
    "\n",
    "Hint: Don't forget to check for bad values like null/undefined\n",
    "    "
   ]
  },
  {
   "cell_type": "code",
   "execution_count": 9,
   "id": "79202c35",
   "metadata": {
    "scrolled": true
   },
   "outputs": [
    {
     "name": "stdout",
     "output_type": "stream",
     "text": [
      "The number of True is 17\n"
     ]
    }
   ],
   "source": [
    "lista=[True,True,True,False,True,True,True,True,True,False,True,False,True,False,False,True,True,True,True,True,False,False,True,True]\n",
    "\n",
    "def sheepp(lista):\n",
    "    suma=0\n",
    "    for i in lista:\n",
    "        if i==True:\n",
    "            suma=suma+1\n",
    "    return suma\n",
    "\n",
    "print(\"The number of True is\",sheepp(lista))"
   ]
  },
  {
   "cell_type": "markdown",
   "id": "7244690e",
   "metadata": {},
   "source": [
    "#Exercise2\n",
    "[Removing elements] (https://www.codewars.com/kata/5769b3802ae6f8e4890009d2)\n",
    "\n",
    "Take an array and remove every second element from the array. Always keep the first element and start removing with the next element.\n",
    "\n",
    "Example:\n",
    "\n",
    "[\"Keep\", \"Remove\", \"Keep\", \"Remove\", \"Keep\", ...] --> [\"Keep\", \"Keep\", \"Keep\", ...]\n",
    "None of the arrays will be empty, so you don't have to worry about that!\n"
   ]
  },
  {
   "cell_type": "code",
   "execution_count": 23,
   "id": "3d7ae315",
   "metadata": {},
   "outputs": [
    {
     "name": "stdout",
     "output_type": "stream",
     "text": [
      "[1, 3, 5, 7, 9, 78]\n"
     ]
    }
   ],
   "source": [
    "lista=[1,2,3,4,5,6,7,8,9,19,78]\n",
    "def remove(lista):\n",
    "    z=[]\n",
    "    erase=False\n",
    "    for i in lista:\n",
    "        if erase==False:\n",
    "            z.append(i)\n",
    "            erase=True\n",
    "        elif erase==True:\n",
    "             erase=False\n",
    "    return z\n",
    "print(remove(lista))\n",
    "            \n"
   ]
  },
  {
   "cell_type": "markdown",
   "id": "77d0e0db",
   "metadata": {},
   "source": [
    "#Exercise3\n",
    "[Convert number to reversed array of digits](https://www.codewars.com/kata/5583090cbe83f4fd8c000051)\n",
    "\n",
    "Convert number to reversed array of digits\n",
    "\n",
    "Given a random non-negative number, you have to return the digits of this number within an array in reverse order.\n",
    "\n",
    "Example:\n",
    "\n",
    "348597 => [7,9,5,8,4,3]"
   ]
  },
  {
   "cell_type": "code",
   "execution_count": 44,
   "id": "9d1981cd",
   "metadata": {
    "scrolled": true
   },
   "outputs": [
    {
     "name": "stdout",
     "output_type": "stream",
     "text": [
      "Write the number=345678\n",
      "['8', '7', '6', '5', '4', '3']\n"
     ]
    }
   ],
   "source": [
    "def reversenumber():\n",
    "    import re\n",
    "    number=str(input(\"Write the number=\"))\n",
    "    b=number[::-1]\n",
    "    result=re.findall(\"[\\d]\",b)\n",
    "    return result\n",
    "\n",
    "print(reversenumber())"
   ]
  },
  {
   "cell_type": "code",
   "execution_count": null,
   "id": "04935581",
   "metadata": {},
   "outputs": [],
   "source": [
    "#Exercise4\n",
    "[Square every digit] (https://www.codewars.com/kata/546e2562b03326a88e000020)\n",
    "\n",
    "Welcome. In this kata, you are asked to square every digit of a number and concatenate them.\n",
    "\n",
    "For example, if we run 9119 through the function, 811181 will come out, because 92 is 81 and 12 is 1.\n",
    "\n",
    "Note: The function accepts an integer and returns an integer\n"
   ]
  },
  {
   "cell_type": "code",
   "execution_count": 68,
   "id": "6c941e0f",
   "metadata": {},
   "outputs": [
    {
     "name": "stdout",
     "output_type": "stream",
     "text": [
      "Input the number9119\n",
      "The result is 811181\n"
     ]
    }
   ],
   "source": [
    "\n",
    "def exercise():\n",
    "    z=[]\n",
    "    result=\"\"\n",
    "    n=int(input(\"Input the number\"))\n",
    "    x = [int(a) for a in str(n)]\n",
    "    for i in x:\n",
    "        term=i**2\n",
    "        z.append(term)\n",
    "    for i in z:\n",
    "        result+=str(i)\n",
    "    result=int(result)\n",
    "    return result\n",
    "\n",
    "print(\"The result is\",exercise())   \n",
    "    "
   ]
  },
  {
   "cell_type": "markdown",
   "id": "e9982317",
   "metadata": {},
   "source": [
    "#Exercise5\n",
    "[Counting Total Occurence Of Specific Digits](https://www.codewars.com/kata/56311e4fdd811616810000ce)\n",
    "\n",
    "We need a method in the List Class that may count specific digits from a given list of integers. This marked digits will be given in a second list. The method .count_spec_digits()/.countSpecDigits() will accept two arguments, a list of an uncertain amount of integers integers_lists/integersLists (and of an uncertain amount of digits, too) and a second list, digits_list/digitsList that has the specific digits to count which length cannot be be longer than 10 (It's obvious, we've got ten digits). The method will output a list of tuples, each tuple having two elements, the first one will be a digit to count, and second one, its corresponding total frequency in all the integers of the first list. This list of tuples should be ordered with the same order that the digits have in digitsList\n",
    "\n",
    "Let's see some cases:\n",
    "\n",
    "l = List()\n",
    "\n",
    "integers_list =  [1, 1, 2 ,3 ,1 ,2 ,3 ,4]\n",
    "digits_list = [1, 3]\n",
    "l.count_spec_digits(integers_list, digits_list) == [(1, 3), (3, 2)]\n",
    "\n",
    "integers_list = [-18, -31, 81, -19, 111, -888]\n",
    "digits_list = [1, 8, 4]\n",
    "l.count_spec_digits(integers_list, digits_list) == [(1, 7), (8, 5), (4, 0)]\n",
    "\n",
    "integers_list = [-77, -65, 56, -79, 6666, 222]\n",
    "digits_list = [1, 8, 4]\n",
    "l.count_spec_digits(integers_list, digits_list) == [(1, 0), (8, 0), (4, 0)]\n",
    "\n",
    "\n"
   ]
  },
  {
   "cell_type": "code",
   "execution_count": 128,
   "id": "d79af844",
   "metadata": {},
   "outputs": [
    {
     "data": {
      "text/plain": [
       "0"
      ]
     },
     "execution_count": 128,
     "metadata": {},
     "output_type": "execute_result"
    }
   ],
   "source": [
    "integers_list = [-18, -31, 81, -19, 111, -888]\n",
    "digits_list = [1, 8, 4]\n",
    "def count_spec_digits(integers_list, digits_list):\n",
    "    digit=[]\n",
    "    sumatotal=[]\n",
    "    integers_list[0]\n",
    "    for a in digits_list:\n",
    "        be=str(a)\n",
    "        ce=str(integers_list[0])\n",
    "        count=be.count(ce)\n",
    "    return count\n",
    "\n",
    "count_spec_digits(integers_list, digits_list)"
   ]
  },
  {
   "cell_type": "code",
   "execution_count": 139,
   "id": "6621c4a1",
   "metadata": {},
   "outputs": [
    {
     "data": {
      "text/plain": [
       "[(1, 0), (8, 0), (4, 0)]"
      ]
     },
     "execution_count": 139,
     "metadata": {},
     "output_type": "execute_result"
    }
   ],
   "source": [
    "integers_list = [-77, -65, 56, -79, 6666, 222]\n",
    "digits_list = [1, 8, 4]\n",
    "def count_spec_digits(integers_list, digits_list):\n",
    "    digit=[]\n",
    "    sumatotal=[]\n",
    "    for i in digits_list: \n",
    "        suma=0\n",
    "        for a in integers_list:\n",
    "            de=str(i)\n",
    "            fe=str(a)\n",
    "            suma=fe.count(de)+suma\n",
    "        sumatotal.append(suma)\n",
    "        digit.append(i)\n",
    "        data = list(zip(digit,sumatotal))\n",
    "    return data\n",
    "\n",
    "count_spec_digits(integers_list, digits_list)"
   ]
  }
 ],
 "metadata": {
  "kernelspec": {
   "display_name": "Python 3",
   "language": "python",
   "name": "python3"
  },
  "language_info": {
   "codemirror_mode": {
    "name": "ipython",
    "version": 3
   },
   "file_extension": ".py",
   "mimetype": "text/x-python",
   "name": "python",
   "nbconvert_exporter": "python",
   "pygments_lexer": "ipython3",
   "version": "3.8.8"
  }
 },
 "nbformat": 4,
 "nbformat_minor": 5
}
