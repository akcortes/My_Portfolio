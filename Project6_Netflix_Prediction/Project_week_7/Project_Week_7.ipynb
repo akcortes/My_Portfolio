{
 "cells": [
  {
   "cell_type": "code",
   "execution_count": 1463,
   "id": "e703ea72",
   "metadata": {},
   "outputs": [],
   "source": [
    "import pandas as pd\n",
    "import numpy as np\n",
    "import seaborn as sns\n",
    "import matplotlib.pyplot as plt\n",
    "from sklearn.model_selection import train_test_split\n",
    "from sklearn.feature_selection import SelectFromModel\n",
    "from sklearn.linear_model import LogisticRegression\n",
    "from sklearn.feature_selection import RFE\n",
    "from sklearn.ensemble import RandomForestClassifier\n",
    "from sklearn.model_selection import GridSearchCV, RandomizedSearchCV\n",
    "#from sklearn import svm, grid_search, datasets\n",
    "from sklearn.naive_bayes import GaussianNB\n",
    "from sklearn.linear_model import LogisticRegression\n",
    "from sklearn.naive_bayes import GaussianNB\n",
    "from sklearn.ensemble import RandomForestClassifier, VotingClassifier\n",
    "from sklearn.metrics import f1_score, classification_report"
   ]
  },
  {
   "cell_type": "markdown",
   "id": "e1972c08",
   "metadata": {},
   "source": [
    "# Cleaning"
   ]
  },
  {
   "cell_type": "code",
   "execution_count": 1464,
   "id": "8d61db9c",
   "metadata": {},
   "outputs": [],
   "source": [
    "data=pd.read_csv('imdb_processed.csv')"
   ]
  },
  {
   "cell_type": "code",
   "execution_count": 1465,
   "id": "2ce2e3ba",
   "metadata": {},
   "outputs": [],
   "source": [
    "#data.head()"
   ]
  },
  {
   "cell_type": "code",
   "execution_count": 1466,
   "id": "45152b39",
   "metadata": {},
   "outputs": [],
   "source": [
    "# change le nom de index\n",
    "del  data['Unnamed: 0']"
   ]
  },
  {
   "cell_type": "code",
   "execution_count": 1467,
   "id": "e70bec62",
   "metadata": {},
   "outputs": [],
   "source": [
    "data['year'] = data['year'].astype(int)\n"
   ]
  },
  {
   "cell_type": "code",
   "execution_count": 1468,
   "id": "e352b78f",
   "metadata": {},
   "outputs": [
    {
     "data": {
      "text/html": [
       "<div>\n",
       "<style scoped>\n",
       "    .dataframe tbody tr th:only-of-type {\n",
       "        vertical-align: middle;\n",
       "    }\n",
       "\n",
       "    .dataframe tbody tr th {\n",
       "        vertical-align: top;\n",
       "    }\n",
       "\n",
       "    .dataframe thead th {\n",
       "        text-align: right;\n",
       "    }\n",
       "</style>\n",
       "<table border=\"1\" class=\"dataframe\">\n",
       "  <thead>\n",
       "    <tr style=\"text-align: right;\">\n",
       "      <th></th>\n",
       "      <th>year</th>\n",
       "      <th>rating</th>\n",
       "      <th>vote</th>\n",
       "      <th>runtime</th>\n",
       "    </tr>\n",
       "  </thead>\n",
       "  <tbody>\n",
       "    <tr>\n",
       "      <th>count</th>\n",
       "      <td>8451.000000</td>\n",
       "      <td>8135.000000</td>\n",
       "      <td>8.135000e+03</td>\n",
       "      <td>6798.000000</td>\n",
       "    </tr>\n",
       "    <tr>\n",
       "      <th>mean</th>\n",
       "      <td>1991.626080</td>\n",
       "      <td>6.680000</td>\n",
       "      <td>1.873295e+04</td>\n",
       "      <td>99.984113</td>\n",
       "    </tr>\n",
       "    <tr>\n",
       "      <th>std</th>\n",
       "      <td>15.129001</td>\n",
       "      <td>1.281778</td>\n",
       "      <td>8.957999e+04</td>\n",
       "      <td>65.277725</td>\n",
       "    </tr>\n",
       "    <tr>\n",
       "      <th>min</th>\n",
       "      <td>1905.000000</td>\n",
       "      <td>1.500000</td>\n",
       "      <td>5.000000e+00</td>\n",
       "      <td>2.000000</td>\n",
       "    </tr>\n",
       "    <tr>\n",
       "      <th>25%</th>\n",
       "      <td>1987.000000</td>\n",
       "      <td>6.000000</td>\n",
       "      <td>3.075000e+02</td>\n",
       "      <td>82.000000</td>\n",
       "    </tr>\n",
       "    <tr>\n",
       "      <th>50%</th>\n",
       "      <td>1998.000000</td>\n",
       "      <td>6.900000</td>\n",
       "      <td>1.531000e+03</td>\n",
       "      <td>95.000000</td>\n",
       "    </tr>\n",
       "    <tr>\n",
       "      <th>75%</th>\n",
       "      <td>2002.000000</td>\n",
       "      <td>7.600000</td>\n",
       "      <td>6.897500e+03</td>\n",
       "      <td>110.000000</td>\n",
       "    </tr>\n",
       "    <tr>\n",
       "      <th>max</th>\n",
       "      <td>2005.000000</td>\n",
       "      <td>9.600000</td>\n",
       "      <td>2.462087e+06</td>\n",
       "      <td>1620.000000</td>\n",
       "    </tr>\n",
       "  </tbody>\n",
       "</table>\n",
       "</div>"
      ],
      "text/plain": [
       "              year       rating          vote      runtime\n",
       "count  8451.000000  8135.000000  8.135000e+03  6798.000000\n",
       "mean   1991.626080     6.680000  1.873295e+04    99.984113\n",
       "std      15.129001     1.281778  8.957999e+04    65.277725\n",
       "min    1905.000000     1.500000  5.000000e+00     2.000000\n",
       "25%    1987.000000     6.000000  3.075000e+02    82.000000\n",
       "50%    1998.000000     6.900000  1.531000e+03    95.000000\n",
       "75%    2002.000000     7.600000  6.897500e+03   110.000000\n",
       "max    2005.000000     9.600000  2.462087e+06  1620.000000"
      ]
     },
     "execution_count": 1468,
     "metadata": {},
     "output_type": "execute_result"
    }
   ],
   "source": [
    "data.describe()"
   ]
  },
  {
   "cell_type": "code",
   "execution_count": 1469,
   "id": "c508f031",
   "metadata": {},
   "outputs": [
    {
     "name": "stdout",
     "output_type": "stream",
     "text": [
      "<class 'pandas.core.frame.DataFrame'>\n",
      "RangeIndex: 8451 entries, 0 to 8450\n",
      "Data columns (total 13 columns):\n",
      " #   Column    Non-Null Count  Dtype  \n",
      "---  ------    --------------  -----  \n",
      " 0   title     8451 non-null   object \n",
      " 1   year      8451 non-null   int64  \n",
      " 2   kind      8451 non-null   object \n",
      " 3   genre     8384 non-null   object \n",
      " 4   rating    8135 non-null   float64\n",
      " 5   vote      8135 non-null   float64\n",
      " 6   country   8152 non-null   object \n",
      " 7   language  8052 non-null   object \n",
      " 8   cast      8280 non-null   object \n",
      " 9   director  7140 non-null   object \n",
      " 10  composer  5722 non-null   object \n",
      " 11  writer    7204 non-null   object \n",
      " 12  runtime   6798 non-null   float64\n",
      "dtypes: float64(3), int64(1), object(9)\n",
      "memory usage: 858.4+ KB\n"
     ]
    }
   ],
   "source": [
    "data.info()"
   ]
  },
  {
   "cell_type": "code",
   "execution_count": 1470,
   "id": "d1abcfdb",
   "metadata": {},
   "outputs": [],
   "source": [
    "# we will change the type of data for :\n",
    "# year "
   ]
  },
  {
   "cell_type": "code",
   "execution_count": 1471,
   "id": "8018f139",
   "metadata": {},
   "outputs": [
    {
     "data": {
      "text/plain": [
       "title          0\n",
       "year           0\n",
       "kind           0\n",
       "genre         67\n",
       "rating       316\n",
       "vote         316\n",
       "country      299\n",
       "language     399\n",
       "cast         171\n",
       "director    1311\n",
       "composer    2729\n",
       "writer      1247\n",
       "runtime     1653\n",
       "dtype: int64"
      ]
     },
     "execution_count": 1471,
     "metadata": {},
     "output_type": "execute_result"
    }
   ],
   "source": [
    "data.isna().sum()"
   ]
  },
  {
   "cell_type": "code",
   "execution_count": 1472,
   "id": "6a62f379",
   "metadata": {},
   "outputs": [
    {
     "name": "stdout",
     "output_type": "stream",
     "text": [
      "genre null rate: 0.79%\n",
      "rating null rate: 3.74%\n",
      "vote null rate: 3.74%\n",
      "country null rate: 3.54%\n",
      "language null rate: 4.72%\n",
      "cast null rate: 2.02%\n",
      "director null rate: 15.51%\n",
      "composer null rate: 32.29%\n",
      "writer null rate: 14.76%\n",
      "runtime null rate: 19.56%\n"
     ]
    }
   ],
   "source": [
    "for i in data.columns:\n",
    "    null_rate = data[i].isna().sum() / len(data) * 100\n",
    "    if null_rate > 0 :\n",
    "        print(\"{} null rate: {}%\".format(i,round(null_rate,2)))"
   ]
  },
  {
   "cell_type": "code",
   "execution_count": 1473,
   "id": "d7ea714f",
   "metadata": {},
   "outputs": [],
   "source": [
    "#data genre splitting\n",
    "data['genre'] = data['genre'].str.strip('[]')\n",
    "genre = data.genre.str.split(',').apply(pd.Series)\n",
    "genre = genre.drop(columns= [3,4,5,6,7,8,9,10])\n",
    "genre=genre.rename(columns={0: \"genre1\", 1: \"genre2\"})"
   ]
  },
  {
   "cell_type": "code",
   "execution_count": 1474,
   "id": "57841f22",
   "metadata": {},
   "outputs": [],
   "source": [
    "data = data.join(genre)\n",
    "data = data.drop(columns='genre')"
   ]
  },
  {
   "cell_type": "code",
   "execution_count": 1475,
   "id": "59b72731",
   "metadata": {},
   "outputs": [],
   "source": [
    "#country\n",
    "data['country'] = data['country'].str.strip('[]')\n",
    "country = data.country.str.split(',').apply(pd.Series)\n",
    "country = country.drop(columns= [2,3,4,5,6,7,8,9,10])\n",
    "country=country.rename(columns={0: \"country1\", 1: \"country2\"})"
   ]
  },
  {
   "cell_type": "code",
   "execution_count": 1476,
   "id": "fc779e15",
   "metadata": {},
   "outputs": [],
   "source": [
    "data = data.join(country)\n",
    "data = data.drop(columns='country')"
   ]
  },
  {
   "cell_type": "code",
   "execution_count": 1477,
   "id": "61427107",
   "metadata": {},
   "outputs": [],
   "source": [
    "#language\n",
    "data['language'] = data['language'].str.strip('[]')\n",
    "language = data.language.str.split(',').apply(pd.Series)\n",
    "language = language.drop(columns= [2,3,4,5,6,7,8,9,10])\n",
    "language=language.rename(columns={0: \"language1\", 1: \"language2\"})"
   ]
  },
  {
   "cell_type": "code",
   "execution_count": 1478,
   "id": "8a4d5976",
   "metadata": {},
   "outputs": [],
   "source": [
    "data = data.join(language)\n",
    "data = data.drop(columns='language')"
   ]
  },
  {
   "cell_type": "code",
   "execution_count": 1479,
   "id": "386737c8",
   "metadata": {},
   "outputs": [],
   "source": [
    "#cast\n",
    "data['cast'] = data['cast'].str.strip('[]')\n",
    "cast = data.cast.str.split(',').apply(pd.Series)\n",
    "cast= cast[[0,1]]\n",
    "cast=cast.rename(columns={0: \"cast1\", 1: \"cast2\"})\n"
   ]
  },
  {
   "cell_type": "code",
   "execution_count": 1480,
   "id": "800d7124",
   "metadata": {},
   "outputs": [],
   "source": [
    "data = data.join(cast)\n",
    "data = data.drop(columns='cast')"
   ]
  },
  {
   "cell_type": "code",
   "execution_count": 1481,
   "id": "b2bd09bf",
   "metadata": {},
   "outputs": [],
   "source": [
    "#director\n",
    "data['director'] = data['director'].str.strip('[]')\n",
    "director = data.director.str.split(',').apply(pd.Series)\n",
    "director = director.drop(columns= [2])\n",
    "director=director.rename(columns={0: \"director1\", 1: \"director2\"})"
   ]
  },
  {
   "cell_type": "code",
   "execution_count": 1482,
   "id": "654af38e",
   "metadata": {},
   "outputs": [],
   "source": [
    "data = data.join(director)\n",
    "data = data.drop(columns='director')"
   ]
  },
  {
   "cell_type": "code",
   "execution_count": 1483,
   "id": "400f85dd",
   "metadata": {},
   "outputs": [],
   "source": [
    "#writer\n",
    "data['writer'] = data['writer'].str.strip('[]')\n",
    "writer = data.writer.str.split(',').apply(pd.Series)\n",
    "writer = writer.drop(columns= [2])\n",
    "writer=writer.rename(columns={0: \"writer1\", 1: \"writer2\"})"
   ]
  },
  {
   "cell_type": "code",
   "execution_count": 1484,
   "id": "145ac1d5",
   "metadata": {},
   "outputs": [],
   "source": [
    "data = data.join(writer)\n",
    "data = data.drop(columns='writer')"
   ]
  },
  {
   "cell_type": "code",
   "execution_count": 1485,
   "id": "ed58598f",
   "metadata": {},
   "outputs": [],
   "source": [
    "data=data.rename(columns={2: \"genre3\"})"
   ]
  },
  {
   "cell_type": "code",
   "execution_count": 1486,
   "id": "95b205a3",
   "metadata": {},
   "outputs": [],
   "source": [
    "#composer\n",
    "data['composer'] = data['composer'].str.strip('[]')\n",
    "composer = data.composer.str.split(',').apply(pd.Series)\n",
    "composer = composer.drop(columns= [2,3,4,5,6,7,8,9])\n",
    "composer=composer.rename(columns={0: \"composer1\", 1: \"composer2\"})"
   ]
  },
  {
   "cell_type": "code",
   "execution_count": 1487,
   "id": "59f8c3c1",
   "metadata": {},
   "outputs": [],
   "source": [
    "data = data.join(composer)\n",
    "data = data.drop(columns='composer')"
   ]
  },
  {
   "cell_type": "code",
   "execution_count": 1488,
   "id": "202feae4",
   "metadata": {},
   "outputs": [],
   "source": [
    "#after checking the results we consider to delete \n",
    "#language2     6731\n",
    "#director2     7692\n",
    "#country2       6811\n",
    "#composer2      7433\n",
    "#genre3          4594\n",
    "#writer2       3338\n",
    "#composer1     2729\n",
    "\n",
    "data = data.drop(columns=['genre2','composer2','language2','director2','country2','composer1','composer2','genre3','writer2','cast2'])\n"
   ]
  },
  {
   "cell_type": "code",
   "execution_count": 1489,
   "id": "06cc0742",
   "metadata": {},
   "outputs": [
    {
     "data": {
      "text/plain": [
       "title           0\n",
       "year            0\n",
       "kind            0\n",
       "rating        316\n",
       "vote          316\n",
       "runtime      1653\n",
       "genre1         67\n",
       "country1      299\n",
       "language1     399\n",
       "cast1         171\n",
       "director1    1311\n",
       "writer1      1247\n",
       "dtype: int64"
      ]
     },
     "execution_count": 1489,
     "metadata": {},
     "output_type": "execute_result"
    }
   ],
   "source": [
    "data.isna().sum()"
   ]
  },
  {
   "cell_type": "code",
   "execution_count": 1490,
   "id": "c615205a",
   "metadata": {},
   "outputs": [],
   "source": [
    "data['director1']=np.where(data['director1'].isna()==True,'None',data['director1'])"
   ]
  },
  {
   "cell_type": "code",
   "execution_count": 1491,
   "id": "3aeac36b",
   "metadata": {},
   "outputs": [],
   "source": [
    "data['writer1']=np.where(data['writer1'].isna()==True,'None',data['writer1'])"
   ]
  },
  {
   "cell_type": "code",
   "execution_count": 1492,
   "id": "e75771ee",
   "metadata": {},
   "outputs": [],
   "source": [
    "data['genre1']=np.where(data['genre1'].isna()==True,'None',data['genre1'])"
   ]
  },
  {
   "cell_type": "code",
   "execution_count": 1493,
   "id": "341de1fc",
   "metadata": {},
   "outputs": [],
   "source": [
    "data['country1']=np.where(data['country1'].isna()==True,'None',data['country1'])"
   ]
  },
  {
   "cell_type": "code",
   "execution_count": 1494,
   "id": "7c8ec579",
   "metadata": {},
   "outputs": [],
   "source": [
    "data['language1']=np.where(data['language1'].isna()==True,'None',data['language1'])"
   ]
  },
  {
   "cell_type": "code",
   "execution_count": 1495,
   "id": "e333221e",
   "metadata": {},
   "outputs": [],
   "source": [
    "data['cast1']=np.where(data['cast1'].isna()==True,'None',data['cast1'])"
   ]
  },
  {
   "cell_type": "code",
   "execution_count": 1496,
   "id": "36629105",
   "metadata": {},
   "outputs": [],
   "source": [
    "data['cast1']=np.where(data['cast1'].isna()==True,'None',data['cast1'])"
   ]
  },
  {
   "cell_type": "code",
   "execution_count": 1497,
   "id": "93601a63",
   "metadata": {},
   "outputs": [],
   "source": [
    "data['genre1'] = data['genre1'].str.strip(\"''\").astype(object)\n",
    "data['country1'] = data['country1'].str.strip(\"''\").astype(object)\n",
    "data['language1'] = data['language1'].str.strip(\"''\").astype(object)\n",
    "data['cast1'] = data['cast1'].str.strip(\"''\").astype(object)\n",
    "data['writer1'] = data['writer1'].str.strip(\"''\").astype(object)\n",
    "data['director1'] = data['director1'].str.strip(\"''\").astype(object)\n"
   ]
  },
  {
   "cell_type": "code",
   "execution_count": 1498,
   "id": "36891143",
   "metadata": {},
   "outputs": [
    {
     "data": {
      "text/plain": [
       "title           0\n",
       "year            0\n",
       "kind            0\n",
       "rating        316\n",
       "vote          316\n",
       "runtime      1653\n",
       "genre1          0\n",
       "country1        0\n",
       "language1       0\n",
       "cast1           0\n",
       "director1       0\n",
       "writer1         0\n",
       "dtype: int64"
      ]
     },
     "execution_count": 1498,
     "metadata": {},
     "output_type": "execute_result"
    }
   ],
   "source": [
    "data.isna().sum()"
   ]
  },
  {
   "cell_type": "code",
   "execution_count": 1499,
   "id": "bbba9ca0",
   "metadata": {},
   "outputs": [
    {
     "data": {
      "text/html": [
       "<div>\n",
       "<style scoped>\n",
       "    .dataframe tbody tr th:only-of-type {\n",
       "        vertical-align: middle;\n",
       "    }\n",
       "\n",
       "    .dataframe tbody tr th {\n",
       "        vertical-align: top;\n",
       "    }\n",
       "\n",
       "    .dataframe thead th {\n",
       "        text-align: right;\n",
       "    }\n",
       "</style>\n",
       "<table border=\"1\" class=\"dataframe\">\n",
       "  <thead>\n",
       "    <tr style=\"text-align: right;\">\n",
       "      <th></th>\n",
       "      <th>runtime</th>\n",
       "    </tr>\n",
       "    <tr>\n",
       "      <th>kind</th>\n",
       "      <th></th>\n",
       "    </tr>\n",
       "  </thead>\n",
       "  <tbody>\n",
       "    <tr>\n",
       "      <th>episode</th>\n",
       "      <td>98.230947</td>\n",
       "    </tr>\n",
       "    <tr>\n",
       "      <th>movie</th>\n",
       "      <td>99.231426</td>\n",
       "    </tr>\n",
       "    <tr>\n",
       "      <th>tv mini series</th>\n",
       "      <td>99.367150</td>\n",
       "    </tr>\n",
       "    <tr>\n",
       "      <th>tv movie</th>\n",
       "      <td>103.788491</td>\n",
       "    </tr>\n",
       "    <tr>\n",
       "      <th>tv series</th>\n",
       "      <td>102.680154</td>\n",
       "    </tr>\n",
       "    <tr>\n",
       "      <th>tv short</th>\n",
       "      <td>70.875000</td>\n",
       "    </tr>\n",
       "    <tr>\n",
       "      <th>video game</th>\n",
       "      <td>108.894737</td>\n",
       "    </tr>\n",
       "    <tr>\n",
       "      <th>video movie</th>\n",
       "      <td>99.995479</td>\n",
       "    </tr>\n",
       "  </tbody>\n",
       "</table>\n",
       "</div>"
      ],
      "text/plain": [
       "                   runtime\n",
       "kind                      \n",
       "episode          98.230947\n",
       "movie            99.231426\n",
       "tv mini series   99.367150\n",
       "tv movie        103.788491\n",
       "tv series       102.680154\n",
       "tv short         70.875000\n",
       "video game      108.894737\n",
       "video movie      99.995479"
      ]
     },
     "execution_count": 1499,
     "metadata": {},
     "output_type": "execute_result"
    }
   ],
   "source": [
    "# calculate medians for each moovie kind\n",
    "median_values = data[['runtime','kind']].groupby(['kind']).agg(\"mean\")\n",
    "median_values"
   ]
  },
  {
   "cell_type": "code",
   "execution_count": 1500,
   "id": "dc95a2db",
   "metadata": {},
   "outputs": [
    {
     "name": "stderr",
     "output_type": "stream",
     "text": [
      "<ipython-input-1500-9072499d0d53>:9: SettingWithCopyWarning: \n",
      "A value is trying to be set on a copy of a slice from a DataFrame\n",
      "\n",
      "See the caveats in the documentation: https://pandas.pydata.org/pandas-docs/stable/user_guide/indexing.html#returning-a-view-versus-a-copy\n",
      "  data[col][i]= median_values.at[kind, col]\n"
     ]
    }
   ],
   "source": [
    "# impute missing values for rating, vote, runtime columns with medians\n",
    "kinds = ['episode', 'movie', 'tv mini series', 'tv movie', 'tv series', 'tv short', 'video game', 'video movie']\n",
    "col_impute = ['runtime']\n",
    "for kind in kinds:\n",
    "    for col in col_impute:\n",
    "        for i in range(len(data)):\n",
    "            if math.isnan(data[col][i])==True:\n",
    "                if data['kind'][i] == kind:\n",
    "                    data[col][i]= median_values.at[kind, col]"
   ]
  },
  {
   "cell_type": "code",
   "execution_count": 1501,
   "id": "57b414ad",
   "metadata": {},
   "outputs": [],
   "source": [
    "data = data.dropna(subset=['rating'])"
   ]
  },
  {
   "cell_type": "markdown",
   "id": "e2d967cd",
   "metadata": {},
   "source": [
    "# EDA"
   ]
  },
  {
   "cell_type": "code",
   "execution_count": 1502,
   "id": "93219023",
   "metadata": {},
   "outputs": [],
   "source": [
    "data=data.rename(columns={'genre1': \"Genre\", 'country1': \"Country\",'language1': \"Language\",'cast1': \"Cast\",'director1':\"Director\",'writer1':\"Writer\",'composer1':\"Composer\"})\n"
   ]
  },
  {
   "cell_type": "code",
   "execution_count": 1503,
   "id": "b60f7a3d",
   "metadata": {},
   "outputs": [],
   "source": [
    "data['rating']=round(data['rating']).astype(int)\n"
   ]
  },
  {
   "cell_type": "markdown",
   "id": "e8702a26",
   "metadata": {},
   "source": [
    "### Graphs"
   ]
  },
  {
   "cell_type": "code",
   "execution_count": 1504,
   "id": "4f241cee",
   "metadata": {},
   "outputs": [
    {
     "ename": "IndexError",
     "evalue": "invalid index to scalar variable.",
     "output_type": "error",
     "traceback": [
      "\u001b[0;31m---------------------------------------------------------------------------\u001b[0m",
      "\u001b[0;31mIndexError\u001b[0m                                Traceback (most recent call last)",
      "\u001b[0;32m<ipython-input-1504-359d00c4bf2d>\u001b[0m in \u001b[0;36m<module>\u001b[0;34m\u001b[0m\n\u001b[1;32m      2\u001b[0m \u001b[0mdf2\u001b[0m \u001b[0;34m=\u001b[0m \u001b[0mpd\u001b[0m\u001b[0;34m.\u001b[0m\u001b[0mDataFrame\u001b[0m\u001b[0;34m(\u001b[0m\u001b[0mcolumns\u001b[0m\u001b[0;34m=\u001b[0m\u001b[0;34m[\u001b[0m\u001b[0;34m'Genre1'\u001b[0m\u001b[0;34m,\u001b[0m \u001b[0;34m'kind'\u001b[0m\u001b[0;34m]\u001b[0m\u001b[0;34m)\u001b[0m\u001b[0;34m\u001b[0m\u001b[0;34m\u001b[0m\u001b[0m\n\u001b[1;32m      3\u001b[0m \u001b[0;32mfor\u001b[0m \u001b[0mi\u001b[0m \u001b[0;32min\u001b[0m \u001b[0myears\u001b[0m\u001b[0;34m:\u001b[0m\u001b[0;34m\u001b[0m\u001b[0;34m\u001b[0m\u001b[0m\n\u001b[0;32m----> 4\u001b[0;31m     \u001b[0ma\u001b[0m \u001b[0;34m=\u001b[0m\u001b[0myear\u001b[0m\u001b[0;34m[\u001b[0m\u001b[0myear\u001b[0m\u001b[0;34m[\u001b[0m\u001b[0;34m'year'\u001b[0m\u001b[0;34m]\u001b[0m\u001b[0;34m==\u001b[0m\u001b[0mi\u001b[0m\u001b[0;34m]\u001b[0m\u001b[0;34m\u001b[0m\u001b[0;34m\u001b[0m\u001b[0m\n\u001b[0m\u001b[1;32m      5\u001b[0m     \u001b[0ma\u001b[0m \u001b[0;34m=\u001b[0m \u001b[0ma\u001b[0m\u001b[0;34m[\u001b[0m\u001b[0ma\u001b[0m\u001b[0;34m[\u001b[0m\u001b[0;34m'kind'\u001b[0m\u001b[0;34m]\u001b[0m\u001b[0;34m==\u001b[0m\u001b[0ma\u001b[0m\u001b[0;34m.\u001b[0m\u001b[0mkind\u001b[0m\u001b[0;34m.\u001b[0m\u001b[0mmax\u001b[0m\u001b[0;34m(\u001b[0m\u001b[0;34m)\u001b[0m\u001b[0;34m]\u001b[0m\u001b[0;34m\u001b[0m\u001b[0;34m\u001b[0m\u001b[0m\n\u001b[1;32m      6\u001b[0m     \u001b[0mdf2\u001b[0m \u001b[0;34m=\u001b[0m \u001b[0mdf2\u001b[0m\u001b[0;34m.\u001b[0m\u001b[0mappend\u001b[0m\u001b[0;34m(\u001b[0m\u001b[0ma\u001b[0m\u001b[0;34m)\u001b[0m\u001b[0;34m\u001b[0m\u001b[0;34m\u001b[0m\u001b[0m\n",
      "\u001b[0;31mIndexError\u001b[0m: invalid index to scalar variable."
     ]
    }
   ],
   "source": [
    "years = data['year'].unique()\n",
    "df2 = pd.DataFrame(columns=['Genre1', 'kind'])\n",
    "for i in years:\n",
    "    a =year[year['year']==i]\n",
    "    a = a[a['kind']==a.kind.max()]\n",
    "    df2 = df2.append(a)\n",
    "df2['year'] = df2['year'].astype(int)\n",
    "df2.sort_values(by='year', inplace=True)\n",
    "g=sns.catplot(x='year', y='kind', hue=\"genre1\", data=df2, s=20)\n",
    "plt.xticks(rotation=90)\n",
    "plt.title('Most popular genre per year',{'fontsize': 20})\n",
    "g.fig.set_size_inches(23,15)"
   ]
  },
  {
   "cell_type": "code",
   "execution_count": 1505,
   "id": "efdb35f8",
   "metadata": {},
   "outputs": [
    {
     "data": {
      "text/html": [
       "<div>\n",
       "<style scoped>\n",
       "    .dataframe tbody tr th:only-of-type {\n",
       "        vertical-align: middle;\n",
       "    }\n",
       "\n",
       "    .dataframe tbody tr th {\n",
       "        vertical-align: top;\n",
       "    }\n",
       "\n",
       "    .dataframe thead th {\n",
       "        text-align: right;\n",
       "    }\n",
       "</style>\n",
       "<table border=\"1\" class=\"dataframe\">\n",
       "  <thead>\n",
       "    <tr style=\"text-align: right;\">\n",
       "      <th></th>\n",
       "      <th>year</th>\n",
       "      <th>Genre</th>\n",
       "    </tr>\n",
       "  </thead>\n",
       "  <tbody>\n",
       "    <tr>\n",
       "      <th>0</th>\n",
       "      <td>2003</td>\n",
       "      <td>Documentary</td>\n",
       "    </tr>\n",
       "    <tr>\n",
       "      <th>1</th>\n",
       "      <td>1994</td>\n",
       "      <td>Family</td>\n",
       "    </tr>\n",
       "    <tr>\n",
       "      <th>2</th>\n",
       "      <td>1992</td>\n",
       "      <td>Action</td>\n",
       "    </tr>\n",
       "    <tr>\n",
       "      <th>3</th>\n",
       "      <td>2004</td>\n",
       "      <td>Documentary</td>\n",
       "    </tr>\n",
       "    <tr>\n",
       "      <th>4</th>\n",
       "      <td>1991</td>\n",
       "      <td>Comedy</td>\n",
       "    </tr>\n",
       "    <tr>\n",
       "      <th>...</th>\n",
       "      <td>...</td>\n",
       "      <td>...</td>\n",
       "    </tr>\n",
       "    <tr>\n",
       "      <th>8446</th>\n",
       "      <td>1969</td>\n",
       "      <td>Adventure</td>\n",
       "    </tr>\n",
       "    <tr>\n",
       "      <th>8447</th>\n",
       "      <td>2005</td>\n",
       "      <td>Documentary</td>\n",
       "    </tr>\n",
       "    <tr>\n",
       "      <th>8448</th>\n",
       "      <td>2001</td>\n",
       "      <td>Sci-Fi</td>\n",
       "    </tr>\n",
       "    <tr>\n",
       "      <th>8449</th>\n",
       "      <td>2003</td>\n",
       "      <td>Drama</td>\n",
       "    </tr>\n",
       "    <tr>\n",
       "      <th>8450</th>\n",
       "      <td>1987</td>\n",
       "      <td>Action</td>\n",
       "    </tr>\n",
       "  </tbody>\n",
       "</table>\n",
       "<p>8135 rows × 2 columns</p>\n",
       "</div>"
      ],
      "text/plain": [
       "      year        Genre\n",
       "0     2003  Documentary\n",
       "1     1994       Family\n",
       "2     1992       Action\n",
       "3     2004  Documentary\n",
       "4     1991       Comedy\n",
       "...    ...          ...\n",
       "8446  1969    Adventure\n",
       "8447  2005  Documentary\n",
       "8448  2001       Sci-Fi\n",
       "8449  2003        Drama\n",
       "8450  1987       Action\n",
       "\n",
       "[8135 rows x 2 columns]"
      ]
     },
     "execution_count": 1505,
     "metadata": {},
     "output_type": "execute_result"
    }
   ],
   "source": [
    "year=pd.DataFrame(columns=['year'])\n",
    "year['year']=data['year']\n",
    "year['Genre']=data['Genre']\n",
    "year"
   ]
  },
  {
   "cell_type": "code",
   "execution_count": 1506,
   "id": "a4266e7c",
   "metadata": {},
   "outputs": [
    {
     "data": {
      "text/html": [
       "<div>\n",
       "<style scoped>\n",
       "    .dataframe tbody tr th:only-of-type {\n",
       "        vertical-align: middle;\n",
       "    }\n",
       "\n",
       "    .dataframe tbody tr th {\n",
       "        vertical-align: top;\n",
       "    }\n",
       "\n",
       "    .dataframe thead th {\n",
       "        text-align: right;\n",
       "    }\n",
       "</style>\n",
       "<table border=\"1\" class=\"dataframe\">\n",
       "  <thead>\n",
       "    <tr style=\"text-align: right;\">\n",
       "      <th></th>\n",
       "      <th>year</th>\n",
       "      <th>Genre</th>\n",
       "      <th>title</th>\n",
       "    </tr>\n",
       "  </thead>\n",
       "  <tbody>\n",
       "    <tr>\n",
       "      <th>0</th>\n",
       "      <td>1914</td>\n",
       "      <td>Action</td>\n",
       "      <td>1</td>\n",
       "    </tr>\n",
       "    <tr>\n",
       "      <th>1</th>\n",
       "      <td>1916</td>\n",
       "      <td>Drama</td>\n",
       "      <td>1</td>\n",
       "    </tr>\n",
       "    <tr>\n",
       "      <th>2</th>\n",
       "      <td>1918</td>\n",
       "      <td>Comedy</td>\n",
       "      <td>3</td>\n",
       "    </tr>\n",
       "    <tr>\n",
       "      <th>3</th>\n",
       "      <td>1919</td>\n",
       "      <td>Drama</td>\n",
       "      <td>1</td>\n",
       "    </tr>\n",
       "    <tr>\n",
       "      <th>4</th>\n",
       "      <td>1922</td>\n",
       "      <td>Documentary</td>\n",
       "      <td>2</td>\n",
       "    </tr>\n",
       "    <tr>\n",
       "      <th>...</th>\n",
       "      <td>...</td>\n",
       "      <td>...</td>\n",
       "      <td>...</td>\n",
       "    </tr>\n",
       "    <tr>\n",
       "      <th>108</th>\n",
       "      <td>2001</td>\n",
       "      <td>Drama</td>\n",
       "      <td>113</td>\n",
       "    </tr>\n",
       "    <tr>\n",
       "      <th>109</th>\n",
       "      <td>2002</td>\n",
       "      <td>Documentary</td>\n",
       "      <td>138</td>\n",
       "    </tr>\n",
       "    <tr>\n",
       "      <th>110</th>\n",
       "      <td>2003</td>\n",
       "      <td>Documentary</td>\n",
       "      <td>149</td>\n",
       "    </tr>\n",
       "    <tr>\n",
       "      <th>111</th>\n",
       "      <td>2004</td>\n",
       "      <td>Documentary</td>\n",
       "      <td>177</td>\n",
       "    </tr>\n",
       "    <tr>\n",
       "      <th>112</th>\n",
       "      <td>2005</td>\n",
       "      <td>Documentary</td>\n",
       "      <td>69</td>\n",
       "    </tr>\n",
       "  </tbody>\n",
       "</table>\n",
       "<p>113 rows × 3 columns</p>\n",
       "</div>"
      ],
      "text/plain": [
       "     year        Genre  title\n",
       "0    1914       Action      1\n",
       "1    1916        Drama      1\n",
       "2    1918       Comedy      3\n",
       "3    1919        Drama      1\n",
       "4    1922  Documentary      2\n",
       "..    ...          ...    ...\n",
       "108  2001        Drama    113\n",
       "109  2002  Documentary    138\n",
       "110  2003  Documentary    149\n",
       "111  2004  Documentary    177\n",
       "112  2005  Documentary     69\n",
       "\n",
       "[113 rows x 3 columns]"
      ]
     },
     "execution_count": 1506,
     "metadata": {},
     "output_type": "execute_result"
    }
   ],
   "source": [
    "most_genress = pd.DataFrame()\n",
    "df1 = data[['year', 'title', 'Genre']]\n",
    "# groupby table\n",
    "group_tab = df1.groupby(['year', 'Genre'], as_index=False)[['Genre','title']].agg({'title':'count'})\n",
    "# new df with max count by genre and countries\n",
    "years = group_tab['year'].unique()\n",
    "for year in years:\n",
    "    d = group_tab[(group_tab['year'] == year)]\n",
    "    d = d[(d['title'] == d['title'].max())]\n",
    "    most_genress = pd.concat([most_genress, d], ignore_index=True)\n",
    "most_genress"
   ]
  },
  {
   "cell_type": "code",
   "execution_count": 1507,
   "id": "b994c0e9",
   "metadata": {},
   "outputs": [
    {
     "data": {
      "text/html": [
       "<div>\n",
       "<style scoped>\n",
       "    .dataframe tbody tr th:only-of-type {\n",
       "        vertical-align: middle;\n",
       "    }\n",
       "\n",
       "    .dataframe tbody tr th {\n",
       "        vertical-align: top;\n",
       "    }\n",
       "\n",
       "    .dataframe thead th {\n",
       "        text-align: right;\n",
       "    }\n",
       "</style>\n",
       "<table border=\"1\" class=\"dataframe\">\n",
       "  <thead>\n",
       "    <tr style=\"text-align: right;\">\n",
       "      <th></th>\n",
       "      <th>Country</th>\n",
       "      <th>Genre</th>\n",
       "      <th>title</th>\n",
       "    </tr>\n",
       "  </thead>\n",
       "  <tbody>\n",
       "    <tr>\n",
       "      <th>0</th>\n",
       "      <td>Afghanistan</td>\n",
       "      <td>Drama</td>\n",
       "      <td>1</td>\n",
       "    </tr>\n",
       "    <tr>\n",
       "      <th>1</th>\n",
       "      <td>Argentina</td>\n",
       "      <td>Drama</td>\n",
       "      <td>6</td>\n",
       "    </tr>\n",
       "    <tr>\n",
       "      <th>2</th>\n",
       "      <td>Armenia</td>\n",
       "      <td>Comedy</td>\n",
       "      <td>1</td>\n",
       "    </tr>\n",
       "    <tr>\n",
       "      <th>3</th>\n",
       "      <td>Aruba</td>\n",
       "      <td>Action</td>\n",
       "      <td>1</td>\n",
       "    </tr>\n",
       "    <tr>\n",
       "      <th>4</th>\n",
       "      <td>Australia</td>\n",
       "      <td>Comedy</td>\n",
       "      <td>31</td>\n",
       "    </tr>\n",
       "    <tr>\n",
       "      <th>...</th>\n",
       "      <td>...</td>\n",
       "      <td>...</td>\n",
       "      <td>...</td>\n",
       "    </tr>\n",
       "    <tr>\n",
       "      <th>74</th>\n",
       "      <td>Vietnam</td>\n",
       "      <td>Drama</td>\n",
       "      <td>2</td>\n",
       "    </tr>\n",
       "    <tr>\n",
       "      <th>75</th>\n",
       "      <td>West Germany</td>\n",
       "      <td>Drama</td>\n",
       "      <td>23</td>\n",
       "    </tr>\n",
       "    <tr>\n",
       "      <th>76</th>\n",
       "      <td>Yugoslavia</td>\n",
       "      <td>Biography</td>\n",
       "      <td>1</td>\n",
       "    </tr>\n",
       "    <tr>\n",
       "      <th>77</th>\n",
       "      <td>Yugoslavia</td>\n",
       "      <td>Comedy</td>\n",
       "      <td>1</td>\n",
       "    </tr>\n",
       "    <tr>\n",
       "      <th>78</th>\n",
       "      <td>Yugoslavia</td>\n",
       "      <td>Drama</td>\n",
       "      <td>1</td>\n",
       "    </tr>\n",
       "  </tbody>\n",
       "</table>\n",
       "<p>79 rows × 3 columns</p>\n",
       "</div>"
      ],
      "text/plain": [
       "         Country      Genre  title\n",
       "0    Afghanistan      Drama      1\n",
       "1      Argentina      Drama      6\n",
       "2        Armenia     Comedy      1\n",
       "3          Aruba     Action      1\n",
       "4      Australia     Comedy     31\n",
       "..           ...        ...    ...\n",
       "74       Vietnam      Drama      2\n",
       "75  West Germany      Drama     23\n",
       "76    Yugoslavia  Biography      1\n",
       "77    Yugoslavia     Comedy      1\n",
       "78    Yugoslavia      Drama      1\n",
       "\n",
       "[79 rows x 3 columns]"
      ]
     },
     "execution_count": 1507,
     "metadata": {},
     "output_type": "execute_result"
    }
   ],
   "source": [
    "\n",
    "most_genres = pd.DataFrame()\n",
    "df1 = data[['Country', 'title', 'Genre']]\n",
    "# groupby table\n",
    "group_tab = df1.groupby(['Country', 'Genre'], as_index=False)[['Genre','title']].agg({'title':'count'})\n",
    "# new df with max count by genre and countries\n",
    "countries = group_tab['Country'].unique()\n",
    "for country in countries:\n",
    "    d = group_tab[(group_tab['Country'] == country)]\n",
    "    d = d[(d['title'] == d['title'].max())]\n",
    "    most_genres = pd.concat([most_genres, d], ignore_index=True)\n",
    "most_genres"
   ]
  },
  {
   "cell_type": "markdown",
   "id": "095ca90e",
   "metadata": {},
   "source": [
    "# Encoding"
   ]
  },
  {
   "cell_type": "code",
   "execution_count": 1508,
   "id": "63d91739",
   "metadata": {},
   "outputs": [],
   "source": [
    "from sklearn.preprocessing import LabelEncoder\n",
    "le = LabelEncoder()\n",
    "#Object_list = data.select_dtypes(include = \"object\").columns\n",
    "for col in ['title','Genre','kind','Country','Language','Cast','Director','Writer']:\n",
    "    data[col] = le.fit_transform(data[col].astype(str))"
   ]
  },
  {
   "cell_type": "code",
   "execution_count": 1509,
   "id": "41033afe",
   "metadata": {},
   "outputs": [],
   "source": [
    "#file with encoding\n",
    "data.to_csv(\"file_encoding.csv\")"
   ]
  },
  {
   "cell_type": "markdown",
   "id": "d2b71b9d",
   "metadata": {},
   "source": [
    "# GaussianNB"
   ]
  },
  {
   "cell_type": "markdown",
   "id": "2d5f9d49",
   "metadata": {},
   "source": [
    "## Feature Selection"
   ]
  },
  {
   "cell_type": "code",
   "execution_count": 1510,
   "id": "acfa24e5",
   "metadata": {},
   "outputs": [],
   "source": [
    "x = data.drop(['rating','title','Writer'], axis = 1)\n",
    "y = data['rating']\n"
   ]
  },
  {
   "cell_type": "code",
   "execution_count": 1511,
   "id": "c27a4555",
   "metadata": {},
   "outputs": [],
   "source": [
    "x_train, x_test, y_train, y_test = train_test_split(x, y, test_size=0.2, random_state=5)"
   ]
  },
  {
   "cell_type": "code",
   "execution_count": 1512,
   "id": "4711b26d",
   "metadata": {},
   "outputs": [
    {
     "data": {
      "text/plain": [
       "7     2033\n",
       "8     1652\n",
       "6     1533\n",
       "5      579\n",
       "4      329\n",
       "9      236\n",
       "3      108\n",
       "2       37\n",
       "10       1\n",
       "Name: rating, dtype: int64"
      ]
     },
     "execution_count": 1512,
     "metadata": {},
     "output_type": "execute_result"
    }
   ],
   "source": [
    "y_train.value_counts()"
   ]
  },
  {
   "cell_type": "code",
   "execution_count": 1513,
   "id": "0dcc1cee",
   "metadata": {},
   "outputs": [],
   "source": [
    "percen=((y_train.value_counts().index*y_train.value_counts())/43388)*100"
   ]
  },
  {
   "cell_type": "code",
   "execution_count": 1514,
   "id": "527e6bdd",
   "metadata": {},
   "outputs": [],
   "source": [
    "SFM = SelectFromModel(estimator=RandomForestClassifier()).fit(x, y)\n",
    "s=SFM.fit(x_train, y_train)"
   ]
  },
  {
   "cell_type": "code",
   "execution_count": 1515,
   "id": "50844f57",
   "metadata": {},
   "outputs": [
    {
     "data": {
      "text/plain": [
       "5"
      ]
     },
     "execution_count": 1515,
     "metadata": {},
     "output_type": "execute_result"
    }
   ],
   "source": [
    "n_features = s.transform(x_train).shape[1]\n",
    "n_features\n"
   ]
  },
  {
   "cell_type": "code",
   "execution_count": 1516,
   "id": "b16c966a",
   "metadata": {},
   "outputs": [
    {
     "data": {
      "text/plain": [
       "Index(['year', 'vote', 'runtime', 'Cast', 'Director'], dtype='object')"
      ]
     },
     "execution_count": 1516,
     "metadata": {},
     "output_type": "execute_result"
    }
   ],
   "source": [
    "feature_idx = s.get_support()\n",
    "feature_name = x.columns[feature_idx]\n",
    "feature_name "
   ]
  },
  {
   "cell_type": "markdown",
   "id": "0db19bf6",
   "metadata": {},
   "source": [
    "### GNB implementation"
   ]
  },
  {
   "cell_type": "code",
   "execution_count": 1517,
   "id": "186b843b",
   "metadata": {},
   "outputs": [
    {
     "name": "stdout",
     "output_type": "stream",
     "text": [
      "The accuracy of the method is: 32.39090350338045 %\n"
     ]
    }
   ],
   "source": [
    "\n",
    "gnb = GaussianNB(var_smoothing=0.4)\n",
    "#why 0.4 - var_smoothing=0.4 is defined below with hyperparameters tunning\n",
    "y_pred = gnb.fit(x_train, y_train).predict(x_test)\n",
    "acc_rfc = gnb.score(x_test, y_test)\n",
    "print('The accuracy of the method is:', acc_rfc * 100, '%')\n"
   ]
  },
  {
   "cell_type": "code",
   "execution_count": 1518,
   "id": "4213b1b3",
   "metadata": {},
   "outputs": [],
   "source": [
    "def best_parameters(X_train, X_test, y_train, y_test):\n",
    "    lista={}\n",
    "    i=0\n",
    "    while(i<=100):\n",
    "        gnb = GaussianNB(var_smoothing=i)\n",
    "        y_pred = gnb.fit(X_train, y_train).predict(X_test)\n",
    "        #print(\"Number of mislabeled points out of a total %d points : %d\"\n",
    "        a=X_test.shape[0]\n",
    "        b=(y_test != y_pred).sum()\n",
    "        c=b/a\n",
    "        lista[i]=1-c\n",
    "        i+=0.1\n",
    "    return lista\n"
   ]
  },
  {
   "cell_type": "code",
   "execution_count": 1519,
   "id": "309796b3",
   "metadata": {},
   "outputs": [
    {
     "name": "stderr",
     "output_type": "stream",
     "text": [
      "/Users/anak/opt/anaconda3/lib/python3.8/site-packages/sklearn/naive_bayes.py:452: RuntimeWarning: divide by zero encountered in log\n",
      "  n_ij = - 0.5 * np.sum(np.log(2. * np.pi * self.sigma_[i, :]))\n",
      "/Users/anak/opt/anaconda3/lib/python3.8/site-packages/sklearn/naive_bayes.py:453: RuntimeWarning: divide by zero encountered in true_divide\n",
      "  n_ij -= 0.5 * np.sum(((X - self.theta_[i, :]) ** 2) /\n",
      "/Users/anak/opt/anaconda3/lib/python3.8/site-packages/sklearn/naive_bayes.py:453: RuntimeWarning: invalid value encountered in true_divide\n",
      "  n_ij -= 0.5 * np.sum(((X - self.theta_[i, :]) ** 2) /\n",
      "/Users/anak/opt/anaconda3/lib/python3.8/site-packages/sklearn/naive_bayes.py:453: RuntimeWarning: invalid value encountered in subtract\n",
      "  n_ij -= 0.5 * np.sum(((X - self.theta_[i, :]) ** 2) /\n"
     ]
    },
    {
     "data": {
      "text/plain": [
       "{0: 0.0,\n",
       " 0.1: 0.32206515058389673,\n",
       " 0.2: 0.32329440688383526,\n",
       " 0.30000000000000004: 0.3245236631837738,\n",
       " 0.4: 0.3239090350338045,\n",
       " 0.5: 0.32206515058389673,\n",
       " 0.6: 0.322679778733866,\n",
       " 0.7: 0.32329440688383526,\n",
       " 0.7999999999999999: 0.3208358942839582,\n",
       " 0.8999999999999999: 0.32145052243392747,\n",
       " 0.9999999999999999: 0.32329440688383526,\n",
       " 1.0999999999999999: 0.32206515058389673,\n",
       " 1.2: 0.32206515058389673,\n",
       " 1.3: 0.3208358942839582,\n",
       " 1.4000000000000001: 0.32145052243392747,\n",
       " 1.5000000000000002: 0.32145052243392747,\n",
       " 1.6000000000000003: 0.32145052243392747,\n",
       " 1.7000000000000004: 0.32206515058389673,\n",
       " 1.8000000000000005: 0.32206515058389673,\n",
       " 1.9000000000000006: 0.322679778733866,\n",
       " 2.0000000000000004: 0.322679778733866,\n",
       " 2.1000000000000005: 0.32206515058389673,\n",
       " 2.2000000000000006: 0.32206515058389673,\n",
       " 2.3000000000000007: 0.32206515058389673,\n",
       " 2.400000000000001: 0.32145052243392747,\n",
       " 2.500000000000001: 0.3208358942839582,\n",
       " 2.600000000000001: 0.3208358942839582,\n",
       " 2.700000000000001: 0.3208358942839582,\n",
       " 2.800000000000001: 0.32206515058389673,\n",
       " 2.9000000000000012: 0.32206515058389673,\n",
       " 3.0000000000000013: 0.32206515058389673,\n",
       " 3.1000000000000014: 0.322679778733866,\n",
       " 3.2000000000000015: 0.32329440688383526,\n",
       " 3.3000000000000016: 0.32329440688383526,\n",
       " 3.4000000000000017: 0.32329440688383526,\n",
       " 3.5000000000000018: 0.322679778733866,\n",
       " 3.600000000000002: 0.32329440688383526,\n",
       " 3.700000000000002: 0.3239090350338045,\n",
       " 3.800000000000002: 0.322679778733866,\n",
       " 3.900000000000002: 0.322679778733866,\n",
       " 4.000000000000002: 0.322679778733866,\n",
       " 4.100000000000001: 0.32206515058389673,\n",
       " 4.200000000000001: 0.32145052243392747,\n",
       " 4.300000000000001: 0.32145052243392747,\n",
       " 4.4: 0.32206515058389673,\n",
       " 4.5: 0.32206515058389673,\n",
       " 4.6: 0.32206515058389673,\n",
       " 4.699999999999999: 0.32206515058389673,\n",
       " 4.799999999999999: 0.32206515058389673,\n",
       " 4.899999999999999: 0.32206515058389673,\n",
       " 4.999999999999998: 0.32206515058389673,\n",
       " 5.099999999999998: 0.32145052243392747,\n",
       " 5.1999999999999975: 0.32145052243392747,\n",
       " 5.299999999999997: 0.32145052243392747,\n",
       " 5.399999999999997: 0.32145052243392747,\n",
       " 5.4999999999999964: 0.3208358942839582,\n",
       " 5.599999999999996: 0.3208358942839582,\n",
       " 5.699999999999996: 0.3208358942839582,\n",
       " 5.799999999999995: 0.3208358942839582,\n",
       " 5.899999999999995: 0.3208358942839582,\n",
       " 5.999999999999995: 0.3208358942839582,\n",
       " 6.099999999999994: 0.3208358942839582,\n",
       " 6.199999999999994: 0.32022126613398894,\n",
       " 6.299999999999994: 0.3208358942839582,\n",
       " 6.399999999999993: 0.3208358942839582,\n",
       " 6.499999999999993: 0.3208358942839582,\n",
       " 6.5999999999999925: 0.32145052243392747,\n",
       " 6.699999999999992: 0.32145052243392747,\n",
       " 6.799999999999992: 0.32145052243392747,\n",
       " 6.8999999999999915: 0.32022126613398894,\n",
       " 6.999999999999991: 0.32022126613398894,\n",
       " 7.099999999999991: 0.32022126613398894,\n",
       " 7.19999999999999: 0.32022126613398894,\n",
       " 7.29999999999999: 0.32022126613398894,\n",
       " 7.39999999999999: 0.32022126613398894,\n",
       " 7.499999999999989: 0.32022126613398894,\n",
       " 7.599999999999989: 0.32022126613398894,\n",
       " 7.699999999999989: 0.32022126613398894,\n",
       " 7.799999999999988: 0.32022126613398894,\n",
       " 7.899999999999988: 0.32022126613398894,\n",
       " 7.999999999999988: 0.32022126613398894,\n",
       " 8.099999999999987: 0.32022126613398894,\n",
       " 8.199999999999987: 0.32022126613398894,\n",
       " 8.299999999999986: 0.32022126613398894,\n",
       " 8.399999999999986: 0.32022126613398894,\n",
       " 8.499999999999986: 0.32022126613398894,\n",
       " 8.599999999999985: 0.32022126613398894,\n",
       " 8.699999999999985: 0.32022126613398894,\n",
       " 8.799999999999985: 0.32022126613398894,\n",
       " 8.899999999999984: 0.32022126613398894,\n",
       " 8.999999999999984: 0.32022126613398894,\n",
       " 9.099999999999984: 0.32022126613398894,\n",
       " 9.199999999999983: 0.32022126613398894,\n",
       " 9.299999999999983: 0.32022126613398894,\n",
       " 9.399999999999983: 0.32022126613398894,\n",
       " 9.499999999999982: 0.32022126613398894,\n",
       " 9.599999999999982: 0.32022126613398894,\n",
       " 9.699999999999982: 0.32022126613398894,\n",
       " 9.799999999999981: 0.32022126613398894,\n",
       " 9.89999999999998: 0.32022126613398894,\n",
       " 9.99999999999998: 0.32022126613398894,\n",
       " 10.09999999999998: 0.32022126613398894,\n",
       " 10.19999999999998: 0.32022126613398894,\n",
       " 10.29999999999998: 0.32022126613398894,\n",
       " 10.399999999999979: 0.32022126613398894,\n",
       " 10.499999999999979: 0.31960663798401967,\n",
       " 10.599999999999978: 0.3189920098340504,\n",
       " 10.699999999999978: 0.3189920098340504,\n",
       " 10.799999999999978: 0.3189920098340504,\n",
       " 10.899999999999977: 0.3189920098340504,\n",
       " 10.999999999999977: 0.3189920098340504,\n",
       " 11.099999999999977: 0.3189920098340504,\n",
       " 11.199999999999976: 0.3189920098340504,\n",
       " 11.299999999999976: 0.31960663798401967,\n",
       " 11.399999999999975: 0.31960663798401967,\n",
       " 11.499999999999975: 0.31960663798401967,\n",
       " 11.599999999999975: 0.31960663798401967,\n",
       " 11.699999999999974: 0.31960663798401967,\n",
       " 11.799999999999974: 0.31960663798401967,\n",
       " 11.899999999999974: 0.31960663798401967,\n",
       " 11.999999999999973: 0.31960663798401967,\n",
       " 12.099999999999973: 0.31960663798401967,\n",
       " 12.199999999999973: 0.31960663798401967,\n",
       " 12.299999999999972: 0.31960663798401967,\n",
       " 12.399999999999972: 0.31960663798401967,\n",
       " 12.499999999999972: 0.3189920098340504,\n",
       " 12.599999999999971: 0.3189920098340504,\n",
       " 12.69999999999997: 0.3189920098340504,\n",
       " 12.79999999999997: 0.3189920098340504,\n",
       " 12.89999999999997: 0.3189920098340504,\n",
       " 12.99999999999997: 0.3189920098340504,\n",
       " 13.09999999999997: 0.3189920098340504,\n",
       " 13.199999999999969: 0.3189920098340504,\n",
       " 13.299999999999969: 0.3189920098340504,\n",
       " 13.399999999999968: 0.3189920098340504,\n",
       " 13.499999999999968: 0.3189920098340504,\n",
       " 13.599999999999968: 0.3189920098340504,\n",
       " 13.699999999999967: 0.3189920098340504,\n",
       " 13.799999999999967: 0.3189920098340504,\n",
       " 13.899999999999967: 0.3189920098340504,\n",
       " 13.999999999999966: 0.3189920098340504,\n",
       " 14.099999999999966: 0.3189920098340504,\n",
       " 14.199999999999966: 0.3189920098340504,\n",
       " 14.299999999999965: 0.3189920098340504,\n",
       " 14.399999999999965: 0.3189920098340504,\n",
       " 14.499999999999964: 0.3189920098340504,\n",
       " 14.599999999999964: 0.3189920098340504,\n",
       " 14.699999999999964: 0.3189920098340504,\n",
       " 14.799999999999963: 0.3189920098340504,\n",
       " 14.899999999999963: 0.3189920098340504,\n",
       " 14.999999999999963: 0.3189920098340504,\n",
       " 15.099999999999962: 0.3189920098340504,\n",
       " 15.199999999999962: 0.3189920098340504,\n",
       " 15.299999999999962: 0.3189920098340504,\n",
       " 15.399999999999961: 0.3189920098340504,\n",
       " 15.499999999999961: 0.3189920098340504,\n",
       " 15.59999999999996: 0.3189920098340504,\n",
       " 15.69999999999996: 0.3189920098340504,\n",
       " 15.79999999999996: 0.31837738168408114,\n",
       " 15.89999999999996: 0.31837738168408114,\n",
       " 15.99999999999996: 0.3177627535341119,\n",
       " 16.09999999999996: 0.3177627535341119,\n",
       " 16.19999999999996: 0.3177627535341119,\n",
       " 16.29999999999996: 0.3177627535341119,\n",
       " 16.399999999999963: 0.3177627535341119,\n",
       " 16.499999999999964: 0.3177627535341119,\n",
       " 16.599999999999966: 0.3177627535341119,\n",
       " 16.699999999999967: 0.3177627535341119,\n",
       " 16.79999999999997: 0.3177627535341119,\n",
       " 16.89999999999997: 0.3177627535341119,\n",
       " 16.99999999999997: 0.3177627535341119,\n",
       " 17.099999999999973: 0.3177627535341119,\n",
       " 17.199999999999974: 0.3177627535341119,\n",
       " 17.299999999999976: 0.3177627535341119,\n",
       " 17.399999999999977: 0.3177627535341119,\n",
       " 17.49999999999998: 0.3177627535341119,\n",
       " 17.59999999999998: 0.3177627535341119,\n",
       " 17.69999999999998: 0.3177627535341119,\n",
       " 17.799999999999983: 0.3177627535341119,\n",
       " 17.899999999999984: 0.3177627535341119,\n",
       " 17.999999999999986: 0.3177627535341119,\n",
       " 18.099999999999987: 0.3177627535341119,\n",
       " 18.19999999999999: 0.3177627535341119,\n",
       " 18.29999999999999: 0.3177627535341119,\n",
       " 18.39999999999999: 0.3177627535341119,\n",
       " 18.499999999999993: 0.3177627535341119,\n",
       " 18.599999999999994: 0.3177627535341119,\n",
       " 18.699999999999996: 0.3177627535341119,\n",
       " 18.799999999999997: 0.3177627535341119,\n",
       " 18.9: 0.3177627535341119,\n",
       " 19.0: 0.3177627535341119,\n",
       " 19.1: 0.3177627535341119,\n",
       " 19.200000000000003: 0.3177627535341119,\n",
       " 19.300000000000004: 0.3177627535341119,\n",
       " 19.400000000000006: 0.3177627535341119,\n",
       " 19.500000000000007: 0.3177627535341119,\n",
       " 19.60000000000001: 0.3177627535341119,\n",
       " 19.70000000000001: 0.3177627535341119,\n",
       " 19.80000000000001: 0.3177627535341119,\n",
       " 19.900000000000013: 0.3177627535341119,\n",
       " 20.000000000000014: 0.3177627535341119,\n",
       " 20.100000000000016: 0.3177627535341119,\n",
       " 20.200000000000017: 0.3177627535341119,\n",
       " 20.30000000000002: 0.3177627535341119,\n",
       " 20.40000000000002: 0.3177627535341119,\n",
       " 20.50000000000002: 0.3177627535341119,\n",
       " 20.600000000000023: 0.3177627535341119,\n",
       " 20.700000000000024: 0.3177627535341119,\n",
       " 20.800000000000026: 0.3177627535341119,\n",
       " 20.900000000000027: 0.3177627535341119,\n",
       " 21.00000000000003: 0.3177627535341119,\n",
       " 21.10000000000003: 0.3177627535341119,\n",
       " 21.20000000000003: 0.3177627535341119,\n",
       " 21.300000000000033: 0.3177627535341119,\n",
       " 21.400000000000034: 0.3177627535341119,\n",
       " 21.500000000000036: 0.3177627535341119,\n",
       " 21.600000000000037: 0.3177627535341119,\n",
       " 21.70000000000004: 0.3177627535341119,\n",
       " 21.80000000000004: 0.3177627535341119,\n",
       " 21.90000000000004: 0.3177627535341119,\n",
       " 22.000000000000043: 0.3177627535341119,\n",
       " 22.100000000000044: 0.3177627535341119,\n",
       " 22.200000000000045: 0.3177627535341119,\n",
       " 22.300000000000047: 0.3177627535341119,\n",
       " 22.40000000000005: 0.3177627535341119,\n",
       " 22.50000000000005: 0.3177627535341119,\n",
       " 22.60000000000005: 0.3177627535341119,\n",
       " 22.700000000000053: 0.3177627535341119,\n",
       " 22.800000000000054: 0.3177627535341119,\n",
       " 22.900000000000055: 0.3177627535341119,\n",
       " 23.000000000000057: 0.3177627535341119,\n",
       " 23.10000000000006: 0.3177627535341119,\n",
       " 23.20000000000006: 0.3177627535341119,\n",
       " 23.30000000000006: 0.3177627535341119,\n",
       " 23.400000000000063: 0.3177627535341119,\n",
       " 23.500000000000064: 0.3177627535341119,\n",
       " 23.600000000000065: 0.3177627535341119,\n",
       " 23.700000000000067: 0.3177627535341119,\n",
       " 23.800000000000068: 0.3177627535341119,\n",
       " 23.90000000000007: 0.3177627535341119,\n",
       " 24.00000000000007: 0.3177627535341119,\n",
       " 24.100000000000072: 0.3177627535341119,\n",
       " 24.200000000000074: 0.3177627535341119,\n",
       " 24.300000000000075: 0.3177627535341119,\n",
       " 24.400000000000077: 0.3177627535341119,\n",
       " 24.500000000000078: 0.3177627535341119,\n",
       " 24.60000000000008: 0.3177627535341119,\n",
       " 24.70000000000008: 0.3177627535341119,\n",
       " 24.800000000000082: 0.3177627535341119,\n",
       " 24.900000000000084: 0.3177627535341119,\n",
       " 25.000000000000085: 0.3177627535341119,\n",
       " 25.100000000000087: 0.3177627535341119,\n",
       " 25.200000000000088: 0.3177627535341119,\n",
       " 25.30000000000009: 0.3177627535341119,\n",
       " 25.40000000000009: 0.3177627535341119,\n",
       " 25.500000000000092: 0.3177627535341119,\n",
       " 25.600000000000094: 0.3177627535341119,\n",
       " 25.700000000000095: 0.3177627535341119,\n",
       " 25.800000000000097: 0.3171481253841426,\n",
       " 25.900000000000098: 0.3171481253841426,\n",
       " 26.0000000000001: 0.3171481253841426,\n",
       " 26.1000000000001: 0.3171481253841426,\n",
       " 26.200000000000102: 0.3171481253841426,\n",
       " 26.300000000000104: 0.3171481253841426,\n",
       " 26.400000000000105: 0.3171481253841426,\n",
       " 26.500000000000107: 0.3171481253841426,\n",
       " 26.600000000000108: 0.3171481253841426,\n",
       " 26.70000000000011: 0.3171481253841426,\n",
       " 26.80000000000011: 0.3171481253841426,\n",
       " 26.900000000000112: 0.3171481253841426,\n",
       " 27.000000000000114: 0.3171481253841426,\n",
       " 27.100000000000115: 0.3171481253841426,\n",
       " 27.200000000000117: 0.3171481253841426,\n",
       " 27.300000000000118: 0.3171481253841426,\n",
       " 27.40000000000012: 0.3171481253841426,\n",
       " 27.50000000000012: 0.3171481253841426,\n",
       " 27.600000000000122: 0.3171481253841426,\n",
       " 27.700000000000124: 0.3171481253841426,\n",
       " 27.800000000000125: 0.3171481253841426,\n",
       " 27.900000000000126: 0.3171481253841426,\n",
       " 28.000000000000128: 0.3171481253841426,\n",
       " 28.10000000000013: 0.3171481253841426,\n",
       " 28.20000000000013: 0.3171481253841426,\n",
       " 28.300000000000132: 0.3171481253841426,\n",
       " 28.400000000000134: 0.3171481253841426,\n",
       " 28.500000000000135: 0.3171481253841426,\n",
       " 28.600000000000136: 0.3171481253841426,\n",
       " 28.700000000000138: 0.3171481253841426,\n",
       " 28.80000000000014: 0.3171481253841426,\n",
       " 28.90000000000014: 0.3171481253841426,\n",
       " 29.000000000000142: 0.3171481253841426,\n",
       " 29.100000000000144: 0.3171481253841426,\n",
       " 29.200000000000145: 0.3171481253841426,\n",
       " 29.300000000000146: 0.3171481253841426,\n",
       " 29.400000000000148: 0.3171481253841426,\n",
       " 29.50000000000015: 0.3171481253841426,\n",
       " 29.60000000000015: 0.3171481253841426,\n",
       " 29.700000000000152: 0.31653349723417334,\n",
       " 29.800000000000153: 0.31653349723417334,\n",
       " 29.900000000000155: 0.31653349723417334,\n",
       " 30.000000000000156: 0.31653349723417334,\n",
       " 30.100000000000158: 0.31653349723417334,\n",
       " 30.20000000000016: 0.31653349723417334,\n",
       " 30.30000000000016: 0.31653349723417334,\n",
       " 30.400000000000162: 0.31653349723417334,\n",
       " 30.500000000000163: 0.31653349723417334,\n",
       " 30.600000000000165: 0.31653349723417334,\n",
       " 30.700000000000166: 0.31653349723417334,\n",
       " 30.800000000000168: 0.31653349723417334,\n",
       " 30.90000000000017: 0.31653349723417334,\n",
       " 31.00000000000017: 0.31653349723417334,\n",
       " 31.100000000000172: 0.31653349723417334,\n",
       " 31.200000000000173: 0.31653349723417334,\n",
       " 31.300000000000175: 0.31653349723417334,\n",
       " 31.400000000000176: 0.31653349723417334,\n",
       " 31.500000000000178: 0.31653349723417334,\n",
       " 31.60000000000018: 0.31653349723417334,\n",
       " 31.70000000000018: 0.31653349723417334,\n",
       " 31.800000000000182: 0.31653349723417334,\n",
       " 31.900000000000183: 0.31653349723417334,\n",
       " 32.000000000000185: 0.31653349723417334,\n",
       " 32.100000000000186: 0.31653349723417334,\n",
       " 32.20000000000019: 0.31653349723417334,\n",
       " 32.30000000000019: 0.31653349723417334,\n",
       " 32.40000000000019: 0.31653349723417334,\n",
       " 32.50000000000019: 0.31653349723417334,\n",
       " 32.60000000000019: 0.31653349723417334,\n",
       " 32.700000000000195: 0.31653349723417334,\n",
       " 32.800000000000196: 0.31653349723417334,\n",
       " 32.9000000000002: 0.31653349723417334,\n",
       " 33.0000000000002: 0.31653349723417334,\n",
       " 33.1000000000002: 0.31653349723417334,\n",
       " 33.2000000000002: 0.31653349723417334,\n",
       " 33.3000000000002: 0.31653349723417334,\n",
       " 33.400000000000205: 0.31653349723417334,\n",
       " 33.500000000000206: 0.31653349723417334,\n",
       " 33.60000000000021: 0.31653349723417334,\n",
       " 33.70000000000021: 0.31653349723417334,\n",
       " 33.80000000000021: 0.31653349723417334,\n",
       " 33.90000000000021: 0.31653349723417334,\n",
       " 34.00000000000021: 0.31653349723417334,\n",
       " 34.100000000000215: 0.31653349723417334,\n",
       " 34.200000000000216: 0.31653349723417334,\n",
       " 34.30000000000022: 0.31653349723417334,\n",
       " 34.40000000000022: 0.31653349723417334,\n",
       " 34.50000000000022: 0.31653349723417334,\n",
       " 34.60000000000022: 0.31653349723417334,\n",
       " 34.70000000000022: 0.31653349723417334,\n",
       " 34.800000000000225: 0.31653349723417334,\n",
       " 34.900000000000226: 0.31653349723417334,\n",
       " 35.00000000000023: 0.31653349723417334,\n",
       " 35.10000000000023: 0.31653349723417334,\n",
       " 35.20000000000023: 0.31653349723417334,\n",
       " 35.30000000000023: 0.31653349723417334,\n",
       " 35.40000000000023: 0.31653349723417334,\n",
       " 35.500000000000234: 0.31653349723417334,\n",
       " 35.600000000000236: 0.31653349723417334,\n",
       " 35.70000000000024: 0.31653349723417334,\n",
       " 35.80000000000024: 0.31653349723417334,\n",
       " 35.90000000000024: 0.31653349723417334,\n",
       " 36.00000000000024: 0.31653349723417334,\n",
       " 36.10000000000024: 0.31653349723417334,\n",
       " 36.200000000000244: 0.31653349723417334,\n",
       " 36.300000000000246: 0.31653349723417334,\n",
       " 36.40000000000025: 0.31653349723417334,\n",
       " 36.50000000000025: 0.31653349723417334,\n",
       " 36.60000000000025: 0.31653349723417334,\n",
       " 36.70000000000025: 0.31653349723417334,\n",
       " 36.80000000000025: 0.31653349723417334,\n",
       " 36.900000000000254: 0.31653349723417334,\n",
       " 37.000000000000256: 0.31653349723417334,\n",
       " 37.10000000000026: 0.31653349723417334,\n",
       " 37.20000000000026: 0.31653349723417334,\n",
       " 37.30000000000026: 0.31653349723417334,\n",
       " 37.40000000000026: 0.31653349723417334,\n",
       " 37.50000000000026: 0.31653349723417334,\n",
       " 37.600000000000264: 0.31653349723417334,\n",
       " 37.700000000000266: 0.31653349723417334,\n",
       " 37.80000000000027: 0.31653349723417334,\n",
       " 37.90000000000027: 0.31653349723417334,\n",
       " 38.00000000000027: 0.31653349723417334,\n",
       " 38.10000000000027: 0.31653349723417334,\n",
       " 38.20000000000027: 0.31653349723417334,\n",
       " 38.300000000000274: 0.31653349723417334,\n",
       " 38.400000000000276: 0.31653349723417334,\n",
       " 38.50000000000028: 0.31653349723417334,\n",
       " 38.60000000000028: 0.31653349723417334,\n",
       " 38.70000000000028: 0.31653349723417334,\n",
       " 38.80000000000028: 0.31653349723417334,\n",
       " 38.90000000000028: 0.31653349723417334,\n",
       " 39.000000000000284: 0.31653349723417334,\n",
       " 39.100000000000286: 0.31653349723417334,\n",
       " 39.20000000000029: 0.31653349723417334,\n",
       " 39.30000000000029: 0.31653349723417334,\n",
       " 39.40000000000029: 0.31653349723417334,\n",
       " 39.50000000000029: 0.31653349723417334,\n",
       " 39.60000000000029: 0.31653349723417334,\n",
       " 39.700000000000294: 0.31653349723417334,\n",
       " 39.800000000000296: 0.31653349723417334,\n",
       " 39.9000000000003: 0.31653349723417334,\n",
       " 40.0000000000003: 0.31653349723417334,\n",
       " 40.1000000000003: 0.31653349723417334,\n",
       " 40.2000000000003: 0.31653349723417334,\n",
       " 40.3000000000003: 0.31653349723417334,\n",
       " 40.400000000000304: 0.31653349723417334,\n",
       " 40.500000000000306: 0.31653349723417334,\n",
       " 40.60000000000031: 0.31653349723417334,\n",
       " 40.70000000000031: 0.3159188690842041,\n",
       " 40.80000000000031: 0.3159188690842041,\n",
       " 40.90000000000031: 0.3159188690842041,\n",
       " 41.00000000000031: 0.3159188690842041,\n",
       " 41.100000000000314: 0.3159188690842041,\n",
       " 41.200000000000315: 0.3159188690842041,\n",
       " 41.30000000000032: 0.3159188690842041,\n",
       " 41.40000000000032: 0.3159188690842041,\n",
       " 41.50000000000032: 0.3159188690842041,\n",
       " 41.60000000000032: 0.3159188690842041,\n",
       " 41.70000000000032: 0.3159188690842041,\n",
       " 41.800000000000324: 0.3159188690842041,\n",
       " 41.900000000000325: 0.3159188690842041,\n",
       " 42.00000000000033: 0.3159188690842041,\n",
       " 42.10000000000033: 0.3159188690842041,\n",
       " 42.20000000000033: 0.3159188690842041,\n",
       " 42.30000000000033: 0.3159188690842041,\n",
       " 42.40000000000033: 0.3159188690842041,\n",
       " 42.500000000000334: 0.3159188690842041,\n",
       " 42.600000000000335: 0.3159188690842041,\n",
       " 42.70000000000034: 0.3159188690842041,\n",
       " 42.80000000000034: 0.3159188690842041,\n",
       " 42.90000000000034: 0.3159188690842041,\n",
       " 43.00000000000034: 0.3159188690842041,\n",
       " 43.10000000000034: 0.3159188690842041,\n",
       " 43.200000000000344: 0.3159188690842041,\n",
       " 43.300000000000345: 0.3159188690842041,\n",
       " 43.40000000000035: 0.3159188690842041,\n",
       " 43.50000000000035: 0.3159188690842041,\n",
       " 43.60000000000035: 0.3159188690842041,\n",
       " 43.70000000000035: 0.3159188690842041,\n",
       " 43.80000000000035: 0.3159188690842041,\n",
       " 43.900000000000354: 0.3159188690842041,\n",
       " 44.000000000000355: 0.3159188690842041,\n",
       " 44.10000000000036: 0.3159188690842041,\n",
       " 44.20000000000036: 0.3159188690842041,\n",
       " 44.30000000000036: 0.3159188690842041,\n",
       " 44.40000000000036: 0.3159188690842041,\n",
       " 44.50000000000036: 0.3159188690842041,\n",
       " 44.600000000000364: 0.3159188690842041,\n",
       " 44.700000000000365: 0.3159188690842041,\n",
       " 44.80000000000037: 0.3159188690842041,\n",
       " 44.90000000000037: 0.3159188690842041,\n",
       " 45.00000000000037: 0.3159188690842041,\n",
       " 45.10000000000037: 0.3159188690842041,\n",
       " 45.20000000000037: 0.3159188690842041,\n",
       " 45.300000000000374: 0.3159188690842041,\n",
       " 45.400000000000375: 0.3159188690842041,\n",
       " 45.50000000000038: 0.3159188690842041,\n",
       " 45.60000000000038: 0.3159188690842041,\n",
       " 45.70000000000038: 0.3159188690842041,\n",
       " 45.80000000000038: 0.3159188690842041,\n",
       " 45.90000000000038: 0.3159188690842041,\n",
       " 46.000000000000384: 0.3159188690842041,\n",
       " 46.100000000000385: 0.3159188690842041,\n",
       " 46.20000000000039: 0.3159188690842041,\n",
       " 46.30000000000039: 0.3159188690842041,\n",
       " 46.40000000000039: 0.3159188690842041,\n",
       " 46.50000000000039: 0.3159188690842041,\n",
       " 46.60000000000039: 0.3159188690842041,\n",
       " 46.700000000000394: 0.3159188690842041,\n",
       " 46.800000000000395: 0.3159188690842041,\n",
       " 46.9000000000004: 0.3159188690842041,\n",
       " 47.0000000000004: 0.3159188690842041,\n",
       " 47.1000000000004: 0.3159188690842041,\n",
       " 47.2000000000004: 0.3159188690842041,\n",
       " 47.3000000000004: 0.3159188690842041,\n",
       " 47.400000000000404: 0.3159188690842041,\n",
       " 47.500000000000405: 0.3159188690842041,\n",
       " 47.600000000000406: 0.3159188690842041,\n",
       " 47.70000000000041: 0.3159188690842041,\n",
       " 47.80000000000041: 0.3159188690842041,\n",
       " 47.90000000000041: 0.3159188690842041,\n",
       " 48.00000000000041: 0.3159188690842041,\n",
       " 48.10000000000041: 0.3159188690842041,\n",
       " 48.200000000000415: 0.3159188690842041,\n",
       " 48.300000000000416: 0.3159188690842041,\n",
       " 48.40000000000042: 0.3159188690842041,\n",
       " 48.50000000000042: 0.3159188690842041,\n",
       " 48.60000000000042: 0.3159188690842041,\n",
       " 48.70000000000042: 0.3159188690842041,\n",
       " 48.80000000000042: 0.3159188690842041,\n",
       " 48.900000000000425: 0.3159188690842041,\n",
       " 49.000000000000426: 0.3159188690842041,\n",
       " 49.10000000000043: 0.3159188690842041,\n",
       " 49.20000000000043: 0.3159188690842041,\n",
       " 49.30000000000043: 0.3159188690842041,\n",
       " 49.40000000000043: 0.3159188690842041,\n",
       " 49.50000000000043: 0.3159188690842041,\n",
       " 49.600000000000435: 0.3159188690842041,\n",
       " 49.700000000000436: 0.3159188690842041,\n",
       " 49.80000000000044: 0.3159188690842041,\n",
       " 49.90000000000044: 0.3159188690842041,\n",
       " 50.00000000000044: 0.3159188690842041,\n",
       " 50.10000000000044: 0.3159188690842041,\n",
       " 50.20000000000044: 0.3159188690842041,\n",
       " 50.300000000000445: 0.3159188690842041,\n",
       " 50.400000000000446: 0.3159188690842041,\n",
       " 50.50000000000045: 0.3159188690842041,\n",
       " 50.60000000000045: 0.3159188690842041,\n",
       " 50.70000000000045: 0.3159188690842041,\n",
       " 50.80000000000045: 0.3159188690842041,\n",
       " 50.90000000000045: 0.3159188690842041,\n",
       " 51.000000000000455: 0.3159188690842041,\n",
       " 51.100000000000456: 0.3159188690842041,\n",
       " 51.20000000000046: 0.3159188690842041,\n",
       " 51.30000000000046: 0.3159188690842041,\n",
       " 51.40000000000046: 0.3159188690842041,\n",
       " 51.50000000000046: 0.3159188690842041,\n",
       " 51.60000000000046: 0.3159188690842041,\n",
       " 51.700000000000465: 0.3159188690842041,\n",
       " 51.800000000000466: 0.3159188690842041,\n",
       " 51.90000000000047: 0.3159188690842041,\n",
       " 52.00000000000047: 0.3159188690842041,\n",
       " 52.10000000000047: 0.3159188690842041,\n",
       " 52.20000000000047: 0.3159188690842041,\n",
       " 52.30000000000047: 0.3159188690842041,\n",
       " 52.400000000000475: 0.3159188690842041,\n",
       " 52.500000000000476: 0.3159188690842041,\n",
       " 52.60000000000048: 0.3159188690842041,\n",
       " 52.70000000000048: 0.3159188690842041,\n",
       " 52.80000000000048: 0.3159188690842041,\n",
       " 52.90000000000048: 0.3159188690842041,\n",
       " 53.00000000000048: 0.3159188690842041,\n",
       " 53.100000000000485: 0.3159188690842041,\n",
       " 53.200000000000486: 0.3159188690842041,\n",
       " 53.30000000000049: 0.3159188690842041,\n",
       " 53.40000000000049: 0.3159188690842041,\n",
       " 53.50000000000049: 0.3159188690842041,\n",
       " 53.60000000000049: 0.3159188690842041,\n",
       " 53.70000000000049: 0.3159188690842041,\n",
       " 53.800000000000495: 0.3159188690842041,\n",
       " 53.900000000000496: 0.3159188690842041,\n",
       " 54.0000000000005: 0.3159188690842041,\n",
       " 54.1000000000005: 0.3159188690842041,\n",
       " 54.2000000000005: 0.3159188690842041,\n",
       " 54.3000000000005: 0.3159188690842041,\n",
       " 54.4000000000005: 0.3159188690842041,\n",
       " 54.500000000000504: 0.3159188690842041,\n",
       " 54.600000000000506: 0.3159188690842041,\n",
       " 54.70000000000051: 0.3159188690842041,\n",
       " 54.80000000000051: 0.3159188690842041,\n",
       " 54.90000000000051: 0.3159188690842041,\n",
       " 55.00000000000051: 0.3159188690842041,\n",
       " 55.10000000000051: 0.3159188690842041,\n",
       " 55.200000000000514: 0.3159188690842041,\n",
       " 55.300000000000516: 0.3159188690842041,\n",
       " 55.40000000000052: 0.3159188690842041,\n",
       " 55.50000000000052: 0.3159188690842041,\n",
       " 55.60000000000052: 0.3159188690842041,\n",
       " 55.70000000000052: 0.3159188690842041,\n",
       " 55.80000000000052: 0.3159188690842041,\n",
       " 55.900000000000524: 0.3159188690842041,\n",
       " 56.000000000000526: 0.3159188690842041,\n",
       " 56.10000000000053: 0.3159188690842041,\n",
       " 56.20000000000053: 0.3159188690842041,\n",
       " 56.30000000000053: 0.3159188690842041,\n",
       " 56.40000000000053: 0.3159188690842041,\n",
       " 56.50000000000053: 0.3159188690842041,\n",
       " 56.600000000000534: 0.3159188690842041,\n",
       " 56.700000000000536: 0.3159188690842041,\n",
       " 56.80000000000054: 0.3159188690842041,\n",
       " 56.90000000000054: 0.3159188690842041,\n",
       " 57.00000000000054: 0.3159188690842041,\n",
       " 57.10000000000054: 0.3159188690842041,\n",
       " 57.20000000000054: 0.3159188690842041,\n",
       " 57.300000000000544: 0.3159188690842041,\n",
       " 57.400000000000546: 0.3159188690842041,\n",
       " 57.50000000000055: 0.3159188690842041,\n",
       " 57.60000000000055: 0.3159188690842041,\n",
       " 57.70000000000055: 0.3159188690842041,\n",
       " 57.80000000000055: 0.3159188690842041,\n",
       " 57.90000000000055: 0.3159188690842041,\n",
       " 58.000000000000554: 0.3159188690842041,\n",
       " 58.100000000000556: 0.3159188690842041,\n",
       " 58.20000000000056: 0.3159188690842041,\n",
       " 58.30000000000056: 0.3159188690842041,\n",
       " 58.40000000000056: 0.3159188690842041,\n",
       " 58.50000000000056: 0.3159188690842041,\n",
       " 58.60000000000056: 0.3159188690842041,\n",
       " 58.700000000000564: 0.3159188690842041,\n",
       " 58.800000000000566: 0.3159188690842041,\n",
       " 58.90000000000057: 0.3159188690842041,\n",
       " 59.00000000000057: 0.3159188690842041,\n",
       " 59.10000000000057: 0.3159188690842041,\n",
       " 59.20000000000057: 0.3159188690842041,\n",
       " 59.30000000000057: 0.3159188690842041,\n",
       " 59.400000000000574: 0.3159188690842041,\n",
       " 59.500000000000576: 0.3159188690842041,\n",
       " 59.60000000000058: 0.3159188690842041,\n",
       " 59.70000000000058: 0.3159188690842041,\n",
       " 59.80000000000058: 0.3159188690842041,\n",
       " 59.90000000000058: 0.3159188690842041,\n",
       " 60.00000000000058: 0.3159188690842041,\n",
       " 60.100000000000584: 0.3159188690842041,\n",
       " 60.200000000000585: 0.3159188690842041,\n",
       " 60.30000000000059: 0.3159188690842041,\n",
       " 60.40000000000059: 0.3159188690842041,\n",
       " 60.50000000000059: 0.3159188690842041,\n",
       " 60.60000000000059: 0.3159188690842041,\n",
       " 60.70000000000059: 0.3159188690842041,\n",
       " 60.800000000000594: 0.3159188690842041,\n",
       " 60.900000000000595: 0.3159188690842041,\n",
       " 61.0000000000006: 0.3159188690842041,\n",
       " 61.1000000000006: 0.3159188690842041,\n",
       " 61.2000000000006: 0.3159188690842041,\n",
       " 61.3000000000006: 0.3159188690842041,\n",
       " 61.4000000000006: 0.3159188690842041,\n",
       " 61.500000000000604: 0.3159188690842041,\n",
       " 61.600000000000605: 0.3159188690842041,\n",
       " 61.70000000000061: 0.3159188690842041,\n",
       " 61.80000000000061: 0.3159188690842041,\n",
       " 61.90000000000061: 0.3159188690842041,\n",
       " 62.00000000000061: 0.3159188690842041,\n",
       " 62.10000000000061: 0.3159188690842041,\n",
       " 62.200000000000614: 0.3159188690842041,\n",
       " 62.300000000000615: 0.3159188690842041,\n",
       " 62.40000000000062: 0.3159188690842041,\n",
       " 62.50000000000062: 0.3159188690842041,\n",
       " 62.60000000000062: 0.3159188690842041,\n",
       " 62.70000000000062: 0.3159188690842041,\n",
       " 62.80000000000062: 0.3159188690842041,\n",
       " 62.900000000000624: 0.3159188690842041,\n",
       " 63.000000000000625: 0.3159188690842041,\n",
       " 63.10000000000063: 0.3159188690842041,\n",
       " 63.20000000000063: 0.3159188690842041,\n",
       " 63.30000000000063: 0.3159188690842041,\n",
       " 63.40000000000063: 0.3159188690842041,\n",
       " 63.50000000000063: 0.3159188690842041,\n",
       " 63.600000000000634: 0.3159188690842041,\n",
       " 63.700000000000635: 0.3159188690842041,\n",
       " 63.80000000000064: 0.3159188690842041,\n",
       " 63.90000000000064: 0.3159188690842041,\n",
       " 64.00000000000064: 0.3159188690842041,\n",
       " 64.10000000000063: 0.3159188690842041,\n",
       " 64.20000000000063: 0.3159188690842041,\n",
       " 64.30000000000062: 0.3159188690842041,\n",
       " 64.40000000000062: 0.3159188690842041,\n",
       " 64.50000000000061: 0.3159188690842041,\n",
       " 64.6000000000006: 0.3159188690842041,\n",
       " 64.7000000000006: 0.3159188690842041,\n",
       " 64.8000000000006: 0.3159188690842041,\n",
       " 64.90000000000059: 0.3159188690842041,\n",
       " 65.00000000000058: 0.3159188690842041,\n",
       " 65.10000000000058: 0.3159188690842041,\n",
       " 65.20000000000057: 0.3159188690842041,\n",
       " 65.30000000000057: 0.3159188690842041,\n",
       " 65.40000000000056: 0.3159188690842041,\n",
       " 65.50000000000055: 0.3159188690842041,\n",
       " 65.60000000000055: 0.3159188690842041,\n",
       " 65.70000000000054: 0.3159188690842041,\n",
       " 65.80000000000054: 0.3159188690842041,\n",
       " 65.90000000000053: 0.3159188690842041,\n",
       " 66.00000000000053: 0.3159188690842041,\n",
       " 66.10000000000052: 0.3159188690842041,\n",
       " 66.20000000000051: 0.3159188690842041,\n",
       " 66.30000000000051: 0.3159188690842041,\n",
       " 66.4000000000005: 0.3159188690842041,\n",
       " 66.5000000000005: 0.3159188690842041,\n",
       " 66.60000000000049: 0.3159188690842041,\n",
       " 66.70000000000049: 0.3159188690842041,\n",
       " 66.80000000000048: 0.3159188690842041,\n",
       " 66.90000000000047: 0.3159188690842041,\n",
       " 67.00000000000047: 0.3159188690842041,\n",
       " 67.10000000000046: 0.3159188690842041,\n",
       " 67.20000000000046: 0.3159188690842041,\n",
       " 67.30000000000045: 0.3159188690842041,\n",
       " 67.40000000000045: 0.3159188690842041,\n",
       " 67.50000000000044: 0.3159188690842041,\n",
       " 67.60000000000043: 0.3159188690842041,\n",
       " 67.70000000000043: 0.3159188690842041,\n",
       " 67.80000000000042: 0.3159188690842041,\n",
       " 67.90000000000042: 0.3159188690842041,\n",
       " 68.00000000000041: 0.3159188690842041,\n",
       " 68.1000000000004: 0.3159188690842041,\n",
       " 68.2000000000004: 0.3159188690842041,\n",
       " 68.3000000000004: 0.3159188690842041,\n",
       " 68.40000000000039: 0.3159188690842041,\n",
       " 68.50000000000038: 0.3159188690842041,\n",
       " 68.60000000000038: 0.3159188690842041,\n",
       " 68.70000000000037: 0.3159188690842041,\n",
       " 68.80000000000037: 0.3159188690842041,\n",
       " 68.90000000000036: 0.3159188690842041,\n",
       " 69.00000000000036: 0.3159188690842041,\n",
       " 69.10000000000035: 0.3159188690842041,\n",
       " 69.20000000000034: 0.3159188690842041,\n",
       " 69.30000000000034: 0.3159188690842041,\n",
       " 69.40000000000033: 0.3159188690842041,\n",
       " 69.50000000000033: 0.3159188690842041,\n",
       " 69.60000000000032: 0.3159188690842041,\n",
       " 69.70000000000032: 0.3159188690842041,\n",
       " 69.80000000000031: 0.3159188690842041,\n",
       " 69.9000000000003: 0.3159188690842041,\n",
       " 70.0000000000003: 0.3159188690842041,\n",
       " 70.10000000000029: 0.3159188690842041,\n",
       " 70.20000000000029: 0.3159188690842041,\n",
       " 70.30000000000028: 0.3159188690842041,\n",
       " 70.40000000000028: 0.3159188690842041,\n",
       " 70.50000000000027: 0.3159188690842041,\n",
       " 70.60000000000026: 0.3159188690842041,\n",
       " 70.70000000000026: 0.3159188690842041,\n",
       " 70.80000000000025: 0.3159188690842041,\n",
       " 70.90000000000025: 0.3159188690842041,\n",
       " 71.00000000000024: 0.3159188690842041,\n",
       " 71.10000000000024: 0.3159188690842041,\n",
       " 71.20000000000023: 0.3159188690842041,\n",
       " 71.30000000000022: 0.3159188690842041,\n",
       " 71.40000000000022: 0.3159188690842041,\n",
       " 71.50000000000021: 0.3159188690842041,\n",
       " 71.60000000000021: 0.3159188690842041,\n",
       " 71.7000000000002: 0.3159188690842041,\n",
       " 71.8000000000002: 0.3159188690842041,\n",
       " 71.90000000000019: 0.3159188690842041,\n",
       " 72.00000000000018: 0.3159188690842041,\n",
       " 72.10000000000018: 0.3159188690842041,\n",
       " 72.20000000000017: 0.3159188690842041,\n",
       " 72.30000000000017: 0.3159188690842041,\n",
       " 72.40000000000016: 0.3159188690842041,\n",
       " 72.50000000000016: 0.3159188690842041,\n",
       " 72.60000000000015: 0.3159188690842041,\n",
       " 72.70000000000014: 0.3159188690842041,\n",
       " 72.80000000000014: 0.3159188690842041,\n",
       " 72.90000000000013: 0.3159188690842041,\n",
       " 73.00000000000013: 0.3159188690842041,\n",
       " 73.10000000000012: 0.3159188690842041,\n",
       " 73.20000000000012: 0.3159188690842041,\n",
       " 73.30000000000011: 0.3159188690842041,\n",
       " 73.4000000000001: 0.3159188690842041,\n",
       " 73.5000000000001: 0.3159188690842041,\n",
       " 73.6000000000001: 0.3159188690842041,\n",
       " 73.70000000000009: 0.3159188690842041,\n",
       " 73.80000000000008: 0.3159188690842041,\n",
       " 73.90000000000008: 0.3159188690842041,\n",
       " 74.00000000000007: 0.3159188690842041,\n",
       " 74.10000000000007: 0.3159188690842041,\n",
       " 74.20000000000006: 0.3159188690842041,\n",
       " 74.30000000000005: 0.3159188690842041,\n",
       " 74.40000000000005: 0.3159188690842041,\n",
       " 74.50000000000004: 0.3159188690842041,\n",
       " 74.60000000000004: 0.3159188690842041,\n",
       " 74.70000000000003: 0.3159188690842041,\n",
       " 74.80000000000003: 0.3159188690842041,\n",
       " 74.90000000000002: 0.3159188690842041,\n",
       " 75.00000000000001: 0.3159188690842041,\n",
       " 75.10000000000001: 0.3159188690842041,\n",
       " 75.2: 0.3159188690842041,\n",
       " 75.3: 0.3159188690842041,\n",
       " 75.39999999999999: 0.3159188690842041,\n",
       " 75.49999999999999: 0.3159188690842041,\n",
       " 75.59999999999998: 0.3159188690842041,\n",
       " 75.69999999999997: 0.3159188690842041,\n",
       " 75.79999999999997: 0.3159188690842041,\n",
       " 75.89999999999996: 0.3159188690842041,\n",
       " 75.99999999999996: 0.3159188690842041,\n",
       " 76.09999999999995: 0.3159188690842041,\n",
       " 76.19999999999995: 0.3159188690842041,\n",
       " 76.29999999999994: 0.3159188690842041,\n",
       " 76.39999999999993: 0.3159188690842041,\n",
       " 76.49999999999993: 0.3159188690842041,\n",
       " 76.59999999999992: 0.3159188690842041,\n",
       " 76.69999999999992: 0.3159188690842041,\n",
       " 76.79999999999991: 0.3159188690842041,\n",
       " 76.8999999999999: 0.3159188690842041,\n",
       " 76.9999999999999: 0.3159188690842041,\n",
       " 77.0999999999999: 0.3159188690842041,\n",
       " 77.19999999999989: 0.3159188690842041,\n",
       " 77.29999999999988: 0.3159188690842041,\n",
       " 77.39999999999988: 0.3159188690842041,\n",
       " 77.49999999999987: 0.3159188690842041,\n",
       " 77.59999999999987: 0.3159188690842041,\n",
       " 77.69999999999986: 0.3159188690842041,\n",
       " 77.79999999999986: 0.3159188690842041,\n",
       " 77.89999999999985: 0.3159188690842041,\n",
       " 77.99999999999984: 0.3159188690842041,\n",
       " 78.09999999999984: 0.3159188690842041,\n",
       " 78.19999999999983: 0.3159188690842041,\n",
       " 78.29999999999983: 0.3159188690842041,\n",
       " 78.39999999999982: 0.3159188690842041,\n",
       " 78.49999999999982: 0.3159188690842041,\n",
       " 78.59999999999981: 0.3159188690842041,\n",
       " 78.6999999999998: 0.3159188690842041,\n",
       " 78.7999999999998: 0.3159188690842041,\n",
       " 78.89999999999979: 0.3159188690842041,\n",
       " 78.99999999999979: 0.3159188690842041,\n",
       " 79.09999999999978: 0.3159188690842041,\n",
       " 79.19999999999978: 0.3159188690842041,\n",
       " 79.29999999999977: 0.3159188690842041,\n",
       " 79.39999999999976: 0.3159188690842041,\n",
       " 79.49999999999976: 0.3159188690842041,\n",
       " 79.59999999999975: 0.3159188690842041,\n",
       " 79.69999999999975: 0.3159188690842041,\n",
       " 79.79999999999974: 0.3159188690842041,\n",
       " 79.89999999999974: 0.3159188690842041,\n",
       " 79.99999999999973: 0.3159188690842041,\n",
       " 80.09999999999972: 0.3159188690842041,\n",
       " 80.19999999999972: 0.3159188690842041,\n",
       " 80.29999999999971: 0.3159188690842041,\n",
       " 80.39999999999971: 0.3159188690842041,\n",
       " 80.4999999999997: 0.3159188690842041,\n",
       " 80.5999999999997: 0.3159188690842041,\n",
       " 80.69999999999969: 0.3159188690842041,\n",
       " 80.79999999999968: 0.3159188690842041,\n",
       " 80.89999999999968: 0.3159188690842041,\n",
       " 80.99999999999967: 0.3159188690842041,\n",
       " 81.09999999999967: 0.3159188690842041,\n",
       " 81.19999999999966: 0.3159188690842041,\n",
       " 81.29999999999966: 0.3159188690842041,\n",
       " 81.39999999999965: 0.3159188690842041,\n",
       " 81.49999999999964: 0.3159188690842041,\n",
       " 81.59999999999964: 0.3159188690842041,\n",
       " 81.69999999999963: 0.3159188690842041,\n",
       " 81.79999999999963: 0.3159188690842041,\n",
       " 81.89999999999962: 0.3159188690842041,\n",
       " 81.99999999999962: 0.3159188690842041,\n",
       " 82.09999999999961: 0.3159188690842041,\n",
       " 82.1999999999996: 0.3159188690842041,\n",
       " 82.2999999999996: 0.3159188690842041,\n",
       " 82.3999999999996: 0.3159188690842041,\n",
       " 82.49999999999959: 0.3159188690842041,\n",
       " 82.59999999999958: 0.3159188690842041,\n",
       " 82.69999999999958: 0.3159188690842041,\n",
       " 82.79999999999957: 0.3159188690842041,\n",
       " 82.89999999999957: 0.3159188690842041,\n",
       " 82.99999999999956: 0.3159188690842041,\n",
       " 83.09999999999955: 0.3159188690842041,\n",
       " 83.19999999999955: 0.3159188690842041,\n",
       " 83.29999999999954: 0.3159188690842041,\n",
       " 83.39999999999954: 0.3159188690842041,\n",
       " 83.49999999999953: 0.3159188690842041,\n",
       " 83.59999999999953: 0.3159188690842041,\n",
       " 83.69999999999952: 0.3159188690842041,\n",
       " 83.79999999999951: 0.3159188690842041,\n",
       " 83.89999999999951: 0.3159188690842041,\n",
       " 83.9999999999995: 0.3159188690842041,\n",
       " 84.0999999999995: 0.3159188690842041,\n",
       " 84.19999999999949: 0.3159188690842041,\n",
       " 84.29999999999949: 0.3159188690842041,\n",
       " 84.39999999999948: 0.3159188690842041,\n",
       " 84.49999999999947: 0.3159188690842041,\n",
       " 84.59999999999947: 0.3159188690842041,\n",
       " 84.69999999999946: 0.3159188690842041,\n",
       " 84.79999999999946: 0.3159188690842041,\n",
       " 84.89999999999945: 0.3159188690842041,\n",
       " 84.99999999999945: 0.3159188690842041,\n",
       " 85.09999999999944: 0.3159188690842041,\n",
       " 85.19999999999943: 0.3159188690842041,\n",
       " 85.29999999999943: 0.3159188690842041,\n",
       " 85.39999999999942: 0.3159188690842041,\n",
       " 85.49999999999942: 0.3159188690842041,\n",
       " 85.59999999999941: 0.3159188690842041,\n",
       " 85.6999999999994: 0.3159188690842041,\n",
       " 85.7999999999994: 0.3159188690842041,\n",
       " 85.8999999999994: 0.3159188690842041,\n",
       " 85.99999999999939: 0.3159188690842041,\n",
       " 86.09999999999938: 0.3159188690842041,\n",
       " 86.19999999999938: 0.3159188690842041,\n",
       " 86.29999999999937: 0.3159188690842041,\n",
       " 86.39999999999937: 0.3159188690842041,\n",
       " 86.49999999999936: 0.3159188690842041,\n",
       " 86.59999999999935: 0.3159188690842041,\n",
       " 86.69999999999935: 0.3159188690842041,\n",
       " 86.79999999999934: 0.3159188690842041,\n",
       " 86.89999999999934: 0.3159188690842041,\n",
       " 86.99999999999933: 0.3159188690842041,\n",
       " 87.09999999999933: 0.3159188690842041,\n",
       " 87.19999999999932: 0.3159188690842041,\n",
       " 87.29999999999932: 0.3159188690842041,\n",
       " 87.39999999999931: 0.3159188690842041,\n",
       " 87.4999999999993: 0.3159188690842041,\n",
       " 87.5999999999993: 0.3159188690842041,\n",
       " 87.69999999999929: 0.3159188690842041,\n",
       " 87.79999999999929: 0.3159188690842041,\n",
       " 87.89999999999928: 0.3159188690842041,\n",
       " 87.99999999999928: 0.3159188690842041,\n",
       " 88.09999999999927: 0.3159188690842041,\n",
       " 88.19999999999926: 0.3159188690842041,\n",
       " 88.29999999999926: 0.3159188690842041,\n",
       " 88.39999999999925: 0.3159188690842041,\n",
       " 88.49999999999925: 0.3159188690842041,\n",
       " 88.59999999999924: 0.3159188690842041,\n",
       " 88.69999999999924: 0.3159188690842041,\n",
       " 88.79999999999923: 0.3159188690842041,\n",
       " 88.89999999999922: 0.3159188690842041,\n",
       " 88.99999999999922: 0.3159188690842041,\n",
       " 89.09999999999921: 0.3159188690842041,\n",
       " 89.1999999999992: 0.3159188690842041,\n",
       " 89.2999999999992: 0.3159188690842041,\n",
       " 89.3999999999992: 0.3159188690842041,\n",
       " 89.49999999999919: 0.3159188690842041,\n",
       " 89.59999999999918: 0.3159188690842041,\n",
       " 89.69999999999918: 0.3159188690842041,\n",
       " 89.79999999999917: 0.3159188690842041,\n",
       " 89.89999999999917: 0.3159188690842041,\n",
       " 89.99999999999916: 0.3159188690842041,\n",
       " 90.09999999999916: 0.3159188690842041,\n",
       " 90.19999999999915: 0.3159188690842041,\n",
       " 90.29999999999914: 0.3159188690842041,\n",
       " 90.39999999999914: 0.3159188690842041,\n",
       " 90.49999999999913: 0.3159188690842041,\n",
       " 90.59999999999913: 0.3159188690842041,\n",
       " 90.69999999999912: 0.3159188690842041,\n",
       " 90.79999999999912: 0.3159188690842041,\n",
       " 90.89999999999911: 0.3159188690842041,\n",
       " 90.9999999999991: 0.3159188690842041,\n",
       " 91.0999999999991: 0.3159188690842041,\n",
       " 91.1999999999991: 0.3159188690842041,\n",
       " 91.29999999999909: 0.3159188690842041,\n",
       " 91.39999999999908: 0.3159188690842041,\n",
       " 91.49999999999908: 0.3159188690842041,\n",
       " 91.59999999999907: 0.3159188690842041,\n",
       " 91.69999999999906: 0.3159188690842041,\n",
       " 91.79999999999906: 0.3159188690842041,\n",
       " 91.89999999999905: 0.3159188690842041,\n",
       " 91.99999999999905: 0.3159188690842041,\n",
       " 92.09999999999904: 0.3159188690842041,\n",
       " 92.19999999999904: 0.3159188690842041,\n",
       " 92.29999999999903: 0.3159188690842041,\n",
       " 92.39999999999903: 0.3159188690842041,\n",
       " 92.49999999999902: 0.3159188690842041,\n",
       " 92.59999999999901: 0.3159188690842041,\n",
       " 92.69999999999901: 0.3159188690842041,\n",
       " 92.799999999999: 0.3159188690842041,\n",
       " 92.899999999999: 0.3159188690842041,\n",
       " 92.99999999999899: 0.3159188690842041,\n",
       " 93.09999999999899: 0.3159188690842041,\n",
       " 93.19999999999898: 0.3159188690842041,\n",
       " 93.29999999999897: 0.3159188690842041,\n",
       " 93.39999999999897: 0.3159188690842041,\n",
       " 93.49999999999896: 0.3159188690842041,\n",
       " 93.59999999999896: 0.3159188690842041,\n",
       " 93.69999999999895: 0.3159188690842041,\n",
       " 93.79999999999895: 0.3159188690842041,\n",
       " 93.89999999999894: 0.3159188690842041,\n",
       " 93.99999999999893: 0.3159188690842041,\n",
       " 94.09999999999893: 0.3159188690842041,\n",
       " 94.19999999999892: 0.3159188690842041,\n",
       " 94.29999999999892: 0.3159188690842041,\n",
       " 94.39999999999891: 0.3159188690842041,\n",
       " 94.4999999999989: 0.3159188690842041,\n",
       " 94.5999999999989: 0.3159188690842041,\n",
       " 94.6999999999989: 0.3159188690842041,\n",
       " 94.79999999999889: 0.3159188690842041,\n",
       " 94.89999999999888: 0.3159188690842041,\n",
       " 94.99999999999888: 0.3159188690842041,\n",
       " 95.09999999999887: 0.3159188690842041,\n",
       " 95.19999999999887: 0.3159188690842041,\n",
       " 95.29999999999886: 0.3159188690842041,\n",
       " 95.39999999999885: 0.3159188690842041,\n",
       " 95.49999999999885: 0.3159188690842041,\n",
       " 95.59999999999884: 0.3159188690842041,\n",
       " 95.69999999999884: 0.3159188690842041,\n",
       " 95.79999999999883: 0.3159188690842041,\n",
       " 95.89999999999883: 0.3159188690842041,\n",
       " 95.99999999999882: 0.3159188690842041,\n",
       " 96.09999999999881: 0.3159188690842041,\n",
       " 96.19999999999881: 0.3159188690842041,\n",
       " 96.2999999999988: 0.3159188690842041,\n",
       " 96.3999999999988: 0.3159188690842041,\n",
       " 96.49999999999879: 0.3159188690842041,\n",
       " 96.59999999999879: 0.3159188690842041,\n",
       " 96.69999999999878: 0.3159188690842041,\n",
       " 96.79999999999878: 0.3159188690842041,\n",
       " 96.89999999999877: 0.3159188690842041,\n",
       " 96.99999999999876: 0.3159188690842041,\n",
       " 97.09999999999876: 0.3159188690842041,\n",
       " 97.19999999999875: 0.3159188690842041,\n",
       " 97.29999999999875: 0.3159188690842041,\n",
       " 97.39999999999874: 0.3159188690842041,\n",
       " 97.49999999999874: 0.3159188690842041,\n",
       " 97.59999999999873: 0.3159188690842041,\n",
       " 97.69999999999872: 0.3159188690842041,\n",
       " 97.79999999999872: 0.3159188690842041,\n",
       " 97.89999999999871: 0.3159188690842041,\n",
       " 97.9999999999987: 0.3159188690842041,\n",
       " 98.0999999999987: 0.3159188690842041,\n",
       " 98.1999999999987: 0.3159188690842041,\n",
       " 98.29999999999869: 0.3159188690842041,\n",
       " 98.39999999999868: 0.3159188690842041,\n",
       " 98.49999999999868: 0.3159188690842041,\n",
       " 98.59999999999867: 0.3159188690842041,\n",
       " 98.69999999999867: 0.3159188690842041,\n",
       " 98.79999999999866: 0.3159188690842041,\n",
       " 98.89999999999866: 0.3159188690842041,\n",
       " 98.99999999999865: 0.3159188690842041,\n",
       " 99.09999999999864: 0.3159188690842041,\n",
       " 99.19999999999864: 0.3159188690842041,\n",
       " 99.29999999999863: 0.3159188690842041,\n",
       " 99.39999999999863: 0.3159188690842041,\n",
       " 99.49999999999862: 0.3159188690842041,\n",
       " 99.59999999999862: 0.3159188690842041,\n",
       " 99.69999999999861: 0.3159188690842041,\n",
       " 99.7999999999986: 0.3159188690842041,\n",
       " 99.8999999999986: 0.3159188690842041,\n",
       " ...}"
      ]
     },
     "execution_count": 1519,
     "metadata": {},
     "output_type": "execute_result"
    }
   ],
   "source": [
    "best_parameters(x_train, x_test, y_train, y_test)"
   ]
  },
  {
   "cell_type": "code",
   "execution_count": 1520,
   "id": "4a57e54a",
   "metadata": {
    "scrolled": true
   },
   "outputs": [
    {
     "name": "stdout",
     "output_type": "stream",
     "text": [
      "Fitting 4 folds for each of 11 candidates, totalling 44 fits\n"
     ]
    },
    {
     "name": "stderr",
     "output_type": "stream",
     "text": [
      "/Users/anak/opt/anaconda3/lib/python3.8/site-packages/sklearn/model_selection/_split.py:666: UserWarning: The least populated class in y has only 1 members, which is less than n_splits=4.\n",
      "  warnings.warn((\"The least populated class in y has only %d\"\n"
     ]
    },
    {
     "data": {
      "text/plain": [
       "GridSearchCV(cv=4, estimator=GaussianNB(), n_jobs=-1,\n",
       "             param_grid={'var_smoothing': [0, 0.4, 0.2, 0.3, 0.1, 0.5, 0.6, 0.7,\n",
       "                                           0.8, 0.9, 1]},\n",
       "             scoring='accuracy', verbose=1)"
      ]
     },
     "execution_count": 1520,
     "metadata": {},
     "output_type": "execute_result"
    }
   ],
   "source": [
    "# Hyper peremeter\n",
    "grid_search = GridSearchCV(GaussianNB(),\n",
    "                           {\n",
    "                            'var_smoothing':([0,0.4,0.2,0.3,0.1,0.5,0.6,0.7,0.8,0.9,1])\n",
    "                            },cv=4, scoring=\"accuracy\",verbose=1,n_jobs=-1\n",
    "                           )\n",
    "grid_search.fit(x_train,y_train)"
   ]
  },
  {
   "cell_type": "code",
   "execution_count": 1521,
   "id": "f4e090e5",
   "metadata": {},
   "outputs": [
    {
     "data": {
      "text/plain": [
       "{'var_smoothing': 0.7}"
      ]
     },
     "execution_count": 1521,
     "metadata": {},
     "output_type": "execute_result"
    }
   ],
   "source": [
    "grid_search.best_params_"
   ]
  },
  {
   "cell_type": "code",
   "execution_count": 1524,
   "id": "e93511fd",
   "metadata": {},
   "outputs": [
    {
     "data": {
      "text/plain": [
       "0.3149969268592502"
      ]
     },
     "execution_count": 1524,
     "metadata": {},
     "output_type": "execute_result"
    }
   ],
   "source": [
    "grid_search.best_score_"
   ]
  },
  {
   "cell_type": "markdown",
   "id": "e9443adb",
   "metadata": {},
   "source": [
    "# Model Evaluation"
   ]
  },
  {
   "cell_type": "code",
   "execution_count": 1525,
   "id": "1163abdd",
   "metadata": {},
   "outputs": [
    {
     "name": "stderr",
     "output_type": "stream",
     "text": [
      "<ipython-input-1525-78482d6c90e2>:1: SettingWithCopyWarning: \n",
      "A value is trying to be set on a copy of a slice from a DataFrame.\n",
      "Try using .loc[row_indexer,col_indexer] = value instead\n",
      "\n",
      "See the caveats in the documentation: https://pandas.pydata.org/pandas-docs/stable/user_guide/indexing.html#returning-a-view-versus-a-copy\n",
      "  x_test[\"y_initial\"]=y_test\n",
      "<ipython-input-1525-78482d6c90e2>:2: SettingWithCopyWarning: \n",
      "A value is trying to be set on a copy of a slice from a DataFrame.\n",
      "Try using .loc[row_indexer,col_indexer] = value instead\n",
      "\n",
      "See the caveats in the documentation: https://pandas.pydata.org/pandas-docs/stable/user_guide/indexing.html#returning-a-view-versus-a-copy\n",
      "  x_test[\"y_pred\"]=y_pred\n"
     ]
    }
   ],
   "source": [
    "x_test[\"y_initial\"]=y_test\n",
    "x_test[\"y_pred\"]=y_pred"
   ]
  },
  {
   "cell_type": "code",
   "execution_count": 1526,
   "id": "6baa8cee",
   "metadata": {},
   "outputs": [
    {
     "data": {
      "text/plain": [
       "array([[  0,   0,   0,   0,   0,   8,   0,   0],\n",
       "       [  0,   0,   0,   0,   0,  25,   0,   0],\n",
       "       [  0,   0,   0,   0,   0,  68,   0,   0],\n",
       "       [  0,   0,   0,   0,   0, 126,   0,   0],\n",
       "       [  0,   0,   0,   0,   0, 385,   3,   0],\n",
       "       [  0,   0,   0,   0,   0, 499,  13,   2],\n",
       "       [  0,   0,   0,   0,   0, 409,  24,   8],\n",
       "       [  0,   0,   0,   0,   0,  53,   0,   4]])"
      ]
     },
     "execution_count": 1526,
     "metadata": {},
     "output_type": "execute_result"
    }
   ],
   "source": [
    "from sklearn import metrics\n",
    "metrics.confusion_matrix(x_test[\"y_initial\"],x_test[\"y_pred\"])"
   ]
  },
  {
   "cell_type": "code",
   "execution_count": 1527,
   "id": "45295c87",
   "metadata": {},
   "outputs": [
    {
     "data": {
      "text/html": [
       "<div>\n",
       "<style scoped>\n",
       "    .dataframe tbody tr th:only-of-type {\n",
       "        vertical-align: middle;\n",
       "    }\n",
       "\n",
       "    .dataframe tbody tr th {\n",
       "        vertical-align: top;\n",
       "    }\n",
       "\n",
       "    .dataframe thead th {\n",
       "        text-align: right;\n",
       "    }\n",
       "</style>\n",
       "<table border=\"1\" class=\"dataframe\">\n",
       "  <thead>\n",
       "    <tr style=\"text-align: right;\">\n",
       "      <th>y_pred</th>\n",
       "      <th>7</th>\n",
       "      <th>8</th>\n",
       "      <th>9</th>\n",
       "    </tr>\n",
       "    <tr>\n",
       "      <th>y_initial</th>\n",
       "      <th></th>\n",
       "      <th></th>\n",
       "      <th></th>\n",
       "    </tr>\n",
       "  </thead>\n",
       "  <tbody>\n",
       "    <tr>\n",
       "      <th>2</th>\n",
       "      <td>8</td>\n",
       "      <td>0</td>\n",
       "      <td>0</td>\n",
       "    </tr>\n",
       "    <tr>\n",
       "      <th>3</th>\n",
       "      <td>25</td>\n",
       "      <td>0</td>\n",
       "      <td>0</td>\n",
       "    </tr>\n",
       "    <tr>\n",
       "      <th>4</th>\n",
       "      <td>68</td>\n",
       "      <td>0</td>\n",
       "      <td>0</td>\n",
       "    </tr>\n",
       "    <tr>\n",
       "      <th>5</th>\n",
       "      <td>126</td>\n",
       "      <td>0</td>\n",
       "      <td>0</td>\n",
       "    </tr>\n",
       "    <tr>\n",
       "      <th>6</th>\n",
       "      <td>385</td>\n",
       "      <td>3</td>\n",
       "      <td>0</td>\n",
       "    </tr>\n",
       "    <tr>\n",
       "      <th>7</th>\n",
       "      <td>499</td>\n",
       "      <td>13</td>\n",
       "      <td>2</td>\n",
       "    </tr>\n",
       "    <tr>\n",
       "      <th>8</th>\n",
       "      <td>409</td>\n",
       "      <td>24</td>\n",
       "      <td>8</td>\n",
       "    </tr>\n",
       "    <tr>\n",
       "      <th>9</th>\n",
       "      <td>53</td>\n",
       "      <td>0</td>\n",
       "      <td>4</td>\n",
       "    </tr>\n",
       "  </tbody>\n",
       "</table>\n",
       "</div>"
      ],
      "text/plain": [
       "y_pred       7   8  9\n",
       "y_initial            \n",
       "2            8   0  0\n",
       "3           25   0  0\n",
       "4           68   0  0\n",
       "5          126   0  0\n",
       "6          385   3  0\n",
       "7          499  13  2\n",
       "8          409  24  8\n",
       "9           53   0  4"
      ]
     },
     "execution_count": 1527,
     "metadata": {},
     "output_type": "execute_result"
    }
   ],
   "source": [
    "pd.crosstab(x_test[\"y_initial\"],x_test[\"y_pred\"])"
   ]
  },
  {
   "cell_type": "markdown",
   "id": "de1fd833",
   "metadata": {},
   "source": [
    "##### Accuracy Score"
   ]
  },
  {
   "cell_type": "code",
   "execution_count": 1528,
   "id": "4fc54ab5",
   "metadata": {},
   "outputs": [
    {
     "name": "stdout",
     "output_type": "stream",
     "text": [
      "0.3239090350338045\n"
     ]
    }
   ],
   "source": [
    "print(metrics.accuracy_score(x_test[\"y_initial\"],x_test[\"y_pred\"]))"
   ]
  },
  {
   "cell_type": "markdown",
   "id": "c897b255",
   "metadata": {},
   "source": [
    "##### Precision Score"
   ]
  },
  {
   "cell_type": "code",
   "execution_count": 1529,
   "id": "379158be",
   "metadata": {},
   "outputs": [
    {
     "name": "stdout",
     "output_type": "stream",
     "text": [
      "0.2728586494245543\n"
     ]
    },
    {
     "name": "stderr",
     "output_type": "stream",
     "text": [
      "/Users/anak/opt/anaconda3/lib/python3.8/site-packages/sklearn/metrics/_classification.py:1245: UndefinedMetricWarning: Precision is ill-defined and being set to 0.0 in labels with no predicted samples. Use `zero_division` parameter to control this behavior.\n",
      "  _warn_prf(average, modifier, msg_start, len(result))\n"
     ]
    }
   ],
   "source": [
    "print(metrics.precision_score(x_test[\"y_initial\"],x_test[\"y_pred\"],average='weighted'))"
   ]
  },
  {
   "cell_type": "markdown",
   "id": "34c3901d",
   "metadata": {},
   "source": [
    "##### Recall Score"
   ]
  },
  {
   "cell_type": "code",
   "execution_count": 1530,
   "id": "487875f0",
   "metadata": {},
   "outputs": [
    {
     "name": "stdout",
     "output_type": "stream",
     "text": [
      "0.3239090350338045\n"
     ]
    }
   ],
   "source": [
    "print(metrics.recall_score(x_test[\"y_initial\"],x_test[\"y_pred\"],average='weighted'))"
   ]
  },
  {
   "cell_type": "markdown",
   "id": "c9c89b57",
   "metadata": {},
   "source": [
    "##### f1 Score"
   ]
  },
  {
   "cell_type": "code",
   "execution_count": 1531,
   "id": "e57f0db4",
   "metadata": {},
   "outputs": [
    {
     "name": "stdout",
     "output_type": "stream",
     "text": [
      "0.18206810930876596\n"
     ]
    }
   ],
   "source": [
    "from sklearn.metrics import f1_score\n",
    "print(metrics.f1_score(x_test[\"y_initial\"],x_test[\"y_pred\"],average='weighted'))"
   ]
  },
  {
   "cell_type": "markdown",
   "id": "907dcd40",
   "metadata": {},
   "source": [
    "##### ROC_AUC Score / not used for multiclasses"
   ]
  },
  {
   "cell_type": "code",
   "execution_count": 1535,
   "id": "e9a21de9",
   "metadata": {},
   "outputs": [
    {
     "ename": "AxisError",
     "evalue": "axis 1 is out of bounds for array of dimension 1",
     "output_type": "error",
     "traceback": [
      "\u001b[0;31m---------------------------------------------------------------------------\u001b[0m",
      "\u001b[0;31mAxisError\u001b[0m                                 Traceback (most recent call last)",
      "\u001b[0;32m<ipython-input-1535-3acfedacfbe9>\u001b[0m in \u001b[0;36m<module>\u001b[0;34m\u001b[0m\n\u001b[1;32m      1\u001b[0m \u001b[0;31m#ROC_AUC score\u001b[0m\u001b[0;34m\u001b[0m\u001b[0;34m\u001b[0m\u001b[0;34m\u001b[0m\u001b[0m\n\u001b[1;32m      2\u001b[0m \u001b[0;32mfrom\u001b[0m \u001b[0msklearn\u001b[0m\u001b[0;34m.\u001b[0m\u001b[0mmetrics\u001b[0m \u001b[0;32mimport\u001b[0m \u001b[0mroc_auc_score\u001b[0m\u001b[0;34m\u001b[0m\u001b[0;34m\u001b[0m\u001b[0m\n\u001b[0;32m----> 3\u001b[0;31m \u001b[0mprint\u001b[0m\u001b[0;34m(\u001b[0m\u001b[0mmetrics\u001b[0m\u001b[0;34m.\u001b[0m\u001b[0mroc_auc_score\u001b[0m\u001b[0;34m(\u001b[0m\u001b[0mx_test\u001b[0m\u001b[0;34m[\u001b[0m\u001b[0;34m\"y_initial\"\u001b[0m\u001b[0;34m]\u001b[0m\u001b[0;34m,\u001b[0m\u001b[0mx_test\u001b[0m\u001b[0;34m[\u001b[0m\u001b[0;34m\"y_pred\"\u001b[0m\u001b[0;34m]\u001b[0m\u001b[0;34m,\u001b[0m\u001b[0mmulti_class\u001b[0m\u001b[0;34m=\u001b[0m\u001b[0;34m'ovo'\u001b[0m\u001b[0;34m,\u001b[0m\u001b[0maverage\u001b[0m\u001b[0;34m=\u001b[0m\u001b[0;34m'weighted'\u001b[0m\u001b[0;34m)\u001b[0m\u001b[0;34m)\u001b[0m\u001b[0;34m\u001b[0m\u001b[0;34m\u001b[0m\u001b[0m\n\u001b[0m",
      "\u001b[0;32m~/opt/anaconda3/lib/python3.8/site-packages/sklearn/utils/validation.py\u001b[0m in \u001b[0;36minner_f\u001b[0;34m(*args, **kwargs)\u001b[0m\n\u001b[1;32m     61\u001b[0m             \u001b[0mextra_args\u001b[0m \u001b[0;34m=\u001b[0m \u001b[0mlen\u001b[0m\u001b[0;34m(\u001b[0m\u001b[0margs\u001b[0m\u001b[0;34m)\u001b[0m \u001b[0;34m-\u001b[0m \u001b[0mlen\u001b[0m\u001b[0;34m(\u001b[0m\u001b[0mall_args\u001b[0m\u001b[0;34m)\u001b[0m\u001b[0;34m\u001b[0m\u001b[0;34m\u001b[0m\u001b[0m\n\u001b[1;32m     62\u001b[0m             \u001b[0;32mif\u001b[0m \u001b[0mextra_args\u001b[0m \u001b[0;34m<=\u001b[0m \u001b[0;36m0\u001b[0m\u001b[0;34m:\u001b[0m\u001b[0;34m\u001b[0m\u001b[0;34m\u001b[0m\u001b[0m\n\u001b[0;32m---> 63\u001b[0;31m                 \u001b[0;32mreturn\u001b[0m \u001b[0mf\u001b[0m\u001b[0;34m(\u001b[0m\u001b[0;34m*\u001b[0m\u001b[0margs\u001b[0m\u001b[0;34m,\u001b[0m \u001b[0;34m**\u001b[0m\u001b[0mkwargs\u001b[0m\u001b[0;34m)\u001b[0m\u001b[0;34m\u001b[0m\u001b[0;34m\u001b[0m\u001b[0m\n\u001b[0m\u001b[1;32m     64\u001b[0m \u001b[0;34m\u001b[0m\u001b[0m\n\u001b[1;32m     65\u001b[0m             \u001b[0;31m# extra_args > 0\u001b[0m\u001b[0;34m\u001b[0m\u001b[0;34m\u001b[0m\u001b[0;34m\u001b[0m\u001b[0m\n",
      "\u001b[0;32m~/opt/anaconda3/lib/python3.8/site-packages/sklearn/metrics/_ranking.py\u001b[0m in \u001b[0;36mroc_auc_score\u001b[0;34m(y_true, y_score, average, sample_weight, max_fpr, multi_class, labels)\u001b[0m\n\u001b[1;32m    535\u001b[0m         \u001b[0;32mif\u001b[0m \u001b[0mmulti_class\u001b[0m \u001b[0;34m==\u001b[0m \u001b[0;34m'raise'\u001b[0m\u001b[0;34m:\u001b[0m\u001b[0;34m\u001b[0m\u001b[0;34m\u001b[0m\u001b[0m\n\u001b[1;32m    536\u001b[0m             \u001b[0;32mraise\u001b[0m \u001b[0mValueError\u001b[0m\u001b[0;34m(\u001b[0m\u001b[0;34m\"multi_class must be in ('ovo', 'ovr')\"\u001b[0m\u001b[0;34m)\u001b[0m\u001b[0;34m\u001b[0m\u001b[0;34m\u001b[0m\u001b[0m\n\u001b[0;32m--> 537\u001b[0;31m         return _multiclass_roc_auc_score(y_true, y_score, labels,\n\u001b[0m\u001b[1;32m    538\u001b[0m                                          multi_class, average, sample_weight)\n\u001b[1;32m    539\u001b[0m     \u001b[0;32melif\u001b[0m \u001b[0my_type\u001b[0m \u001b[0;34m==\u001b[0m \u001b[0;34m\"binary\"\u001b[0m\u001b[0;34m:\u001b[0m\u001b[0;34m\u001b[0m\u001b[0;34m\u001b[0m\u001b[0m\n",
      "\u001b[0;32m~/opt/anaconda3/lib/python3.8/site-packages/sklearn/metrics/_ranking.py\u001b[0m in \u001b[0;36m_multiclass_roc_auc_score\u001b[0;34m(y_true, y_score, labels, multi_class, average, sample_weight)\u001b[0m\n\u001b[1;32m    593\u001b[0m     \"\"\"\n\u001b[1;32m    594\u001b[0m     \u001b[0;31m# validation of the input y_score\u001b[0m\u001b[0;34m\u001b[0m\u001b[0;34m\u001b[0m\u001b[0;34m\u001b[0m\u001b[0m\n\u001b[0;32m--> 595\u001b[0;31m     \u001b[0;32mif\u001b[0m \u001b[0;32mnot\u001b[0m \u001b[0mnp\u001b[0m\u001b[0;34m.\u001b[0m\u001b[0mallclose\u001b[0m\u001b[0;34m(\u001b[0m\u001b[0;36m1\u001b[0m\u001b[0;34m,\u001b[0m \u001b[0my_score\u001b[0m\u001b[0;34m.\u001b[0m\u001b[0msum\u001b[0m\u001b[0;34m(\u001b[0m\u001b[0maxis\u001b[0m\u001b[0;34m=\u001b[0m\u001b[0;36m1\u001b[0m\u001b[0;34m)\u001b[0m\u001b[0;34m)\u001b[0m\u001b[0;34m:\u001b[0m\u001b[0;34m\u001b[0m\u001b[0;34m\u001b[0m\u001b[0m\n\u001b[0m\u001b[1;32m    596\u001b[0m         raise ValueError(\n\u001b[1;32m    597\u001b[0m             \u001b[0;34m\"Target scores need to be probabilities for multiclass \"\u001b[0m\u001b[0;34m\u001b[0m\u001b[0;34m\u001b[0m\u001b[0m\n",
      "\u001b[0;32m~/opt/anaconda3/lib/python3.8/site-packages/numpy/core/_methods.py\u001b[0m in \u001b[0;36m_sum\u001b[0;34m(a, axis, dtype, out, keepdims, initial, where)\u001b[0m\n\u001b[1;32m     45\u001b[0m def _sum(a, axis=None, dtype=None, out=None, keepdims=False,\n\u001b[1;32m     46\u001b[0m          initial=_NoValue, where=True):\n\u001b[0;32m---> 47\u001b[0;31m     \u001b[0;32mreturn\u001b[0m \u001b[0mumr_sum\u001b[0m\u001b[0;34m(\u001b[0m\u001b[0ma\u001b[0m\u001b[0;34m,\u001b[0m \u001b[0maxis\u001b[0m\u001b[0;34m,\u001b[0m \u001b[0mdtype\u001b[0m\u001b[0;34m,\u001b[0m \u001b[0mout\u001b[0m\u001b[0;34m,\u001b[0m \u001b[0mkeepdims\u001b[0m\u001b[0;34m,\u001b[0m \u001b[0minitial\u001b[0m\u001b[0;34m,\u001b[0m \u001b[0mwhere\u001b[0m\u001b[0;34m)\u001b[0m\u001b[0;34m\u001b[0m\u001b[0;34m\u001b[0m\u001b[0m\n\u001b[0m\u001b[1;32m     48\u001b[0m \u001b[0;34m\u001b[0m\u001b[0m\n\u001b[1;32m     49\u001b[0m def _prod(a, axis=None, dtype=None, out=None, keepdims=False,\n",
      "\u001b[0;31mAxisError\u001b[0m: axis 1 is out of bounds for array of dimension 1"
     ]
    }
   ],
   "source": [
    "#ROC_AUC score\n",
    "from sklearn.metrics import roc_auc_score\n",
    "print(metrics.roc_auc_score(x_test[\"y_initial\"],x_test[\"y_pred\"],multi_class='ovo',average='weighted'))"
   ]
  },
  {
   "cell_type": "code",
   "execution_count": 1536,
   "id": "1dfe6a4b",
   "metadata": {},
   "outputs": [
    {
     "ename": "ValueError",
     "evalue": "multiclass format is not supported",
     "output_type": "error",
     "traceback": [
      "\u001b[0;31m---------------------------------------------------------------------------\u001b[0m",
      "\u001b[0;31mValueError\u001b[0m                                Traceback (most recent call last)",
      "\u001b[0;32m<ipython-input-1536-20e71e1a78cb>\u001b[0m in \u001b[0;36m<module>\u001b[0;34m\u001b[0m\n\u001b[0;32m----> 1\u001b[0;31m \u001b[0mfpr\u001b[0m\u001b[0;34m,\u001b[0m \u001b[0mtpr\u001b[0m\u001b[0;34m,\u001b[0m \u001b[0mthresholds\u001b[0m \u001b[0;34m=\u001b[0m \u001b[0mmetrics\u001b[0m\u001b[0;34m.\u001b[0m\u001b[0mroc_curve\u001b[0m\u001b[0;34m(\u001b[0m\u001b[0mx_test\u001b[0m\u001b[0;34m[\u001b[0m\u001b[0;34m\"y_initial\"\u001b[0m\u001b[0;34m]\u001b[0m\u001b[0;34m,\u001b[0m\u001b[0mx_test\u001b[0m\u001b[0;34m[\u001b[0m\u001b[0;34m\"y_pred\"\u001b[0m\u001b[0;34m]\u001b[0m\u001b[0;34m)\u001b[0m\u001b[0;34m\u001b[0m\u001b[0;34m\u001b[0m\u001b[0m\n\u001b[0m\u001b[1;32m      2\u001b[0m \u001b[0mroc_auc\u001b[0m \u001b[0;34m=\u001b[0m \u001b[0mmetrics\u001b[0m\u001b[0;34m.\u001b[0m\u001b[0mauc\u001b[0m\u001b[0;34m(\u001b[0m\u001b[0mfpr\u001b[0m\u001b[0;34m,\u001b[0m \u001b[0mtpr\u001b[0m\u001b[0;34m)\u001b[0m\u001b[0;34m\u001b[0m\u001b[0;34m\u001b[0m\u001b[0m\n\u001b[1;32m      3\u001b[0m \u001b[0mdisplay\u001b[0m \u001b[0;34m=\u001b[0m \u001b[0mmetrics\u001b[0m\u001b[0;34m.\u001b[0m\u001b[0mRocCurveDisplay\u001b[0m\u001b[0;34m(\u001b[0m\u001b[0mfpr\u001b[0m\u001b[0;34m=\u001b[0m\u001b[0mfpr\u001b[0m\u001b[0;34m,\u001b[0m \u001b[0mtpr\u001b[0m\u001b[0;34m=\u001b[0m\u001b[0mtpr\u001b[0m\u001b[0;34m)\u001b[0m\u001b[0;34m\u001b[0m\u001b[0;34m\u001b[0m\u001b[0m\n\u001b[1;32m      4\u001b[0m \u001b[0mdisplay\u001b[0m\u001b[0;34m.\u001b[0m\u001b[0mplot\u001b[0m\u001b[0;34m(\u001b[0m\u001b[0;34m)\u001b[0m\u001b[0;34m\u001b[0m\u001b[0;34m\u001b[0m\u001b[0m\n\u001b[1;32m      5\u001b[0m \u001b[0mplt\u001b[0m\u001b[0;34m.\u001b[0m\u001b[0mshow\u001b[0m\u001b[0;34m(\u001b[0m\u001b[0;34m)\u001b[0m\u001b[0;34m\u001b[0m\u001b[0;34m\u001b[0m\u001b[0m\n",
      "\u001b[0;32m~/opt/anaconda3/lib/python3.8/site-packages/sklearn/utils/validation.py\u001b[0m in \u001b[0;36minner_f\u001b[0;34m(*args, **kwargs)\u001b[0m\n\u001b[1;32m     61\u001b[0m             \u001b[0mextra_args\u001b[0m \u001b[0;34m=\u001b[0m \u001b[0mlen\u001b[0m\u001b[0;34m(\u001b[0m\u001b[0margs\u001b[0m\u001b[0;34m)\u001b[0m \u001b[0;34m-\u001b[0m \u001b[0mlen\u001b[0m\u001b[0;34m(\u001b[0m\u001b[0mall_args\u001b[0m\u001b[0;34m)\u001b[0m\u001b[0;34m\u001b[0m\u001b[0;34m\u001b[0m\u001b[0m\n\u001b[1;32m     62\u001b[0m             \u001b[0;32mif\u001b[0m \u001b[0mextra_args\u001b[0m \u001b[0;34m<=\u001b[0m \u001b[0;36m0\u001b[0m\u001b[0;34m:\u001b[0m\u001b[0;34m\u001b[0m\u001b[0;34m\u001b[0m\u001b[0m\n\u001b[0;32m---> 63\u001b[0;31m                 \u001b[0;32mreturn\u001b[0m \u001b[0mf\u001b[0m\u001b[0;34m(\u001b[0m\u001b[0;34m*\u001b[0m\u001b[0margs\u001b[0m\u001b[0;34m,\u001b[0m \u001b[0;34m**\u001b[0m\u001b[0mkwargs\u001b[0m\u001b[0;34m)\u001b[0m\u001b[0;34m\u001b[0m\u001b[0;34m\u001b[0m\u001b[0m\n\u001b[0m\u001b[1;32m     64\u001b[0m \u001b[0;34m\u001b[0m\u001b[0m\n\u001b[1;32m     65\u001b[0m             \u001b[0;31m# extra_args > 0\u001b[0m\u001b[0;34m\u001b[0m\u001b[0;34m\u001b[0m\u001b[0;34m\u001b[0m\u001b[0m\n",
      "\u001b[0;32m~/opt/anaconda3/lib/python3.8/site-packages/sklearn/metrics/_ranking.py\u001b[0m in \u001b[0;36mroc_curve\u001b[0;34m(y_true, y_score, pos_label, sample_weight, drop_intermediate)\u001b[0m\n\u001b[1;32m    911\u001b[0m \u001b[0;34m\u001b[0m\u001b[0m\n\u001b[1;32m    912\u001b[0m     \"\"\"\n\u001b[0;32m--> 913\u001b[0;31m     fps, tps, thresholds = _binary_clf_curve(\n\u001b[0m\u001b[1;32m    914\u001b[0m         y_true, y_score, pos_label=pos_label, sample_weight=sample_weight)\n\u001b[1;32m    915\u001b[0m \u001b[0;34m\u001b[0m\u001b[0m\n",
      "\u001b[0;32m~/opt/anaconda3/lib/python3.8/site-packages/sklearn/metrics/_ranking.py\u001b[0m in \u001b[0;36m_binary_clf_curve\u001b[0;34m(y_true, y_score, pos_label, sample_weight)\u001b[0m\n\u001b[1;32m    689\u001b[0m     if not (y_type == \"binary\" or\n\u001b[1;32m    690\u001b[0m             (y_type == \"multiclass\" and pos_label is not None)):\n\u001b[0;32m--> 691\u001b[0;31m         \u001b[0;32mraise\u001b[0m \u001b[0mValueError\u001b[0m\u001b[0;34m(\u001b[0m\u001b[0;34m\"{0} format is not supported\"\u001b[0m\u001b[0;34m.\u001b[0m\u001b[0mformat\u001b[0m\u001b[0;34m(\u001b[0m\u001b[0my_type\u001b[0m\u001b[0;34m)\u001b[0m\u001b[0;34m)\u001b[0m\u001b[0;34m\u001b[0m\u001b[0;34m\u001b[0m\u001b[0m\n\u001b[0m\u001b[1;32m    692\u001b[0m \u001b[0;34m\u001b[0m\u001b[0m\n\u001b[1;32m    693\u001b[0m     \u001b[0mcheck_consistent_length\u001b[0m\u001b[0;34m(\u001b[0m\u001b[0my_true\u001b[0m\u001b[0;34m,\u001b[0m \u001b[0my_score\u001b[0m\u001b[0;34m,\u001b[0m \u001b[0msample_weight\u001b[0m\u001b[0;34m)\u001b[0m\u001b[0;34m\u001b[0m\u001b[0;34m\u001b[0m\u001b[0m\n",
      "\u001b[0;31mValueError\u001b[0m: multiclass format is not supported"
     ]
    }
   ],
   "source": [
    "fpr, tpr, thresholds = metrics.roc_curve(x_test[\"y_initial\"],x_test[\"y_pred\"])\n",
    "roc_auc = metrics.auc(fpr, tpr)\n",
    "display = metrics.RocCurveDisplay(fpr=fpr, tpr=tpr)\n",
    "display.plot()\n",
    "plt.show()"
   ]
  },
  {
   "cell_type": "markdown",
   "id": "1efec5a4",
   "metadata": {},
   "source": [
    "# To evaluate AUC"
   ]
  },
  {
   "cell_type": "markdown",
   "id": "2125773a",
   "metadata": {},
   "source": [
    "In order to create a model that allows to calculate AUC. We implemented a different score [0-5][5-10] and we labeled it as 0 and 1"
   ]
  },
  {
   "cell_type": "code",
   "execution_count": 1537,
   "id": "3086a2c9",
   "metadata": {},
   "outputs": [],
   "source": [
    "data2=data"
   ]
  },
  {
   "cell_type": "code",
   "execution_count": 1538,
   "id": "aacb8491",
   "metadata": {},
   "outputs": [],
   "source": [
    "data2['scoring']= pd.cut(data2.rating, bins=[0,5,10], labels=[0,1]) "
   ]
  },
  {
   "cell_type": "code",
   "execution_count": 1539,
   "id": "ee8b9f76",
   "metadata": {},
   "outputs": [
    {
     "data": {
      "text/plain": [
       "1    6855\n",
       "0    1280\n",
       "Name: scoring, dtype: int64"
      ]
     },
     "execution_count": 1539,
     "metadata": {},
     "output_type": "execute_result"
    }
   ],
   "source": [
    "data2['scoring'].value_counts()"
   ]
  },
  {
   "cell_type": "code",
   "execution_count": 1540,
   "id": "3a1ae487",
   "metadata": {},
   "outputs": [],
   "source": [
    "x = data2.drop(['rating','scoring','title','Writer'], axis = 1)\n",
    "y = data2['scoring']\n",
    "x_train, x_test, y_train, y_test = train_test_split(x, y, test_size=0.2, random_state=5)"
   ]
  },
  {
   "cell_type": "code",
   "execution_count": 1541,
   "id": "70cf8e36",
   "metadata": {},
   "outputs": [
    {
     "name": "stdout",
     "output_type": "stream",
     "text": [
      "The accuracy of the method is: 49.416103257529194 %\n"
     ]
    }
   ],
   "source": [
    "gnb = GaussianNB()\n",
    "y_pred = gnb.fit(x_train, y_train).predict(x_test)\n",
    "acc_rfc = gnb.score(x_test, y_test)\n",
    "print('The accuracy of the method is:', acc_rfc * 100, '%')"
   ]
  },
  {
   "cell_type": "code",
   "execution_count": 1542,
   "id": "29882c7d",
   "metadata": {},
   "outputs": [
    {
     "name": "stderr",
     "output_type": "stream",
     "text": [
      "<ipython-input-1542-78482d6c90e2>:1: SettingWithCopyWarning: \n",
      "A value is trying to be set on a copy of a slice from a DataFrame.\n",
      "Try using .loc[row_indexer,col_indexer] = value instead\n",
      "\n",
      "See the caveats in the documentation: https://pandas.pydata.org/pandas-docs/stable/user_guide/indexing.html#returning-a-view-versus-a-copy\n",
      "  x_test[\"y_initial\"]=y_test\n",
      "<ipython-input-1542-78482d6c90e2>:2: SettingWithCopyWarning: \n",
      "A value is trying to be set on a copy of a slice from a DataFrame.\n",
      "Try using .loc[row_indexer,col_indexer] = value instead\n",
      "\n",
      "See the caveats in the documentation: https://pandas.pydata.org/pandas-docs/stable/user_guide/indexing.html#returning-a-view-versus-a-copy\n",
      "  x_test[\"y_pred\"]=y_pred\n"
     ]
    }
   ],
   "source": [
    "x_test[\"y_initial\"]=y_test\n",
    "x_test[\"y_pred\"]=y_pred"
   ]
  },
  {
   "cell_type": "code",
   "execution_count": 1543,
   "id": "84eacfeb",
   "metadata": {},
   "outputs": [
    {
     "data": {
      "image/png": "[encoded data removed]",
      "text/plain": [
       "<Figure size 432x288 with 1 Axes>"
      ]
     },
     "metadata": {
      "needs_background": "light"
     },
     "output_type": "display_data"
    }
   ],
   "source": [
    "fpr, tpr, thresholds = metrics.roc_curve(x_test[\"y_initial\"],x_test[\"y_pred\"])\n",
    "roc_auc = metrics.auc(fpr, tpr)\n",
    "display = metrics.RocCurveDisplay(fpr=fpr, tpr=tpr)\n",
    "display.plot()\n",
    "plt.show()"
   ]
  },
  {
   "cell_type": "code",
   "execution_count": 1544,
   "id": "4abb0b2b",
   "metadata": {},
   "outputs": [],
   "source": [
    "from sklearn.metrics import confusion_matrix\n",
    "def generate_results(model, predictions, name):\n",
    "    cl_rep = classification_report(y_test, predictions)\n",
    "    print(\"\\nThe classification report for \" + name + \" is:\", cl_rep, sep = \"\\n\")\n",
    "    cm_model = confusion_matrix(y_test, predictions)\n",
    "    plt.figure(figsize = (8, 6))\n",
    "    sns.heatmap(cm_model, annot = True, cmap = 'Blues', annot_kws = {'size': 15}, square = True)\n",
    "    plt.title('Confusion Matrix for ' + name, size = 15)\n",
    "    plt.xticks(size = 15)\n",
    "    plt.yticks(size = 15)\n",
    "    plt.show() "
   ]
  },
  {
   "cell_type": "code",
   "execution_count": 1545,
   "id": "613639fe",
   "metadata": {},
   "outputs": [
    {
     "name": "stdout",
     "output_type": "stream",
     "text": [
      "\n",
      "The classification report for GaussianNB is:\n",
      "              precision    recall  f1-score   support\n",
      "\n",
      "           0       0.19      0.82      0.31       227\n",
      "           1       0.94      0.44      0.60      1400\n",
      "\n",
      "    accuracy                           0.49      1627\n",
      "   macro avg       0.57      0.63      0.46      1627\n",
      "weighted avg       0.83      0.49      0.56      1627\n",
      "\n"
     ]
    },
    {
     "data": {
      "image/png": "[encoded data removed]",
      "text/plain": [
       "<Figure size 576x432 with 2 Axes>"
      ]
     },
     "metadata": {
      "needs_background": "light"
     },
     "output_type": "display_data"
    }
   ],
   "source": [
    "generate_results(gnb, y_pred, 'GaussianNB')"
   ]
  },
  {
   "cell_type": "markdown",
   "id": "19ae2d7d",
   "metadata": {},
   "source": [
    "#### ROC_AUC Score"
   ]
  },
  {
   "cell_type": "code",
   "execution_count": 1546,
   "id": "0ca72d74",
   "metadata": {},
   "outputs": [
    {
     "name": "stdout",
     "output_type": "stream",
     "text": [
      "0.6322514159848962\n"
     ]
    }
   ],
   "source": [
    "from sklearn.metrics import roc_auc_score\n",
    "print(metrics.roc_auc_score(x_test[\"y_initial\"],x_test[\"y_pred\"]))"
   ]
  },
  {
   "cell_type": "markdown",
   "id": "f7d26685",
   "metadata": {},
   "source": [
    "# Quadratic Discriminant Analysis"
   ]
  },
  {
   "cell_type": "code",
   "execution_count": 1586,
   "id": "b9f9e6f8",
   "metadata": {},
   "outputs": [],
   "source": [
    "from sklearn.discriminant_analysis import QuadraticDiscriminantAnalysis\n",
    "import sklearn.discriminant_analysis\n",
    "from sklearn.discriminant_analysis import QuadraticDiscriminantAnalysis\n",
    "from sklearn.model_selection import RepeatedStratifiedKFold\n",
    "from sklearn.model_selection import cross_val_score\n",
    "from sklearn.ensemble import RandomForestClassifier, GradientBoostingClassifier, VotingClassifier \n",
    "from sklearn.metrics import mean_squared_error,confusion_matrix, precision_score, recall_score, auc,roc_curve"
   ]
  },
  {
   "cell_type": "code",
   "execution_count": 1596,
   "id": "0f48edd8",
   "metadata": {},
   "outputs": [],
   "source": [
    "data3 = data[data.rating != 10]\n",
    "x = data3.drop(['rating','scoring'], axis =1)\n",
    "y = data3['rating']\n",
    "x_train, x_test, y_train, y_test = train_test_split(x, y, test_size=0.2, random_state=1)\n"
   ]
  },
  {
   "cell_type": "code",
   "execution_count": 1604,
   "id": "68de3991",
   "metadata": {},
   "outputs": [
    {
     "data": {
      "text/plain": [
       "7"
      ]
     },
     "execution_count": 1604,
     "metadata": {},
     "output_type": "execute_result"
    }
   ],
   "source": [
    "from sklearn.feature_selection import SelectFromModel\n",
    "SFM = SelectFromModel(estimator=RandomForestClassifier()).fit(x, y)\n",
    "s=SFM.fit(x, y)\n",
    "n_features = s.transform(x).shape[1]\n",
    "\n",
    "n_features"
   ]
  },
  {
   "cell_type": "code",
   "execution_count": 1605,
   "id": "ae102b39",
   "metadata": {},
   "outputs": [
    {
     "data": {
      "text/plain": [
       "Index(['title', 'year', 'vote', 'runtime', 'Cast', 'Director', 'Writer'], dtype='object')"
      ]
     },
     "execution_count": 1605,
     "metadata": {},
     "output_type": "execute_result"
    }
   ],
   "source": [
    "feature_idx = s.get_support()\n",
    "feature_name = x.columns[feature_idx]\n",
    "feature_name "
   ]
  },
  {
   "cell_type": "code",
   "execution_count": 1606,
   "id": "d0fd2236",
   "metadata": {},
   "outputs": [],
   "source": [
    "from sklearn.model_selection import train_test_split\n",
    "from sklearn.ensemble import RandomForestClassifier\n",
    "\n"
   ]
  },
  {
   "cell_type": "code",
   "execution_count": 1607,
   "id": "f568eb82",
   "metadata": {},
   "outputs": [
    {
     "data": {
      "text/plain": [
       "QuadraticDiscriminantAnalysis()"
      ]
     },
     "execution_count": 1607,
     "metadata": {},
     "output_type": "execute_result"
    }
   ],
   "source": [
    "clf = QuadraticDiscriminantAnalysis()\n",
    "clf"
   ]
  },
  {
   "cell_type": "code",
   "execution_count": 1608,
   "id": "dabc7890",
   "metadata": {},
   "outputs": [],
   "source": [
    "clf.fit(x_train, y_train)\n",
    "y_predict = clf.predict(x_test)\n"
   ]
  },
  {
   "cell_type": "markdown",
   "id": "041ffbeb",
   "metadata": {},
   "source": [
    "#### Accuracy Score"
   ]
  },
  {
   "cell_type": "code",
   "execution_count": 1609,
   "id": "f82d2dc5",
   "metadata": {},
   "outputs": [
    {
     "name": "stdout",
     "output_type": "stream",
     "text": [
      "The accuracy of the QuadraticDiscriminantAnalysis is: 22.92562999385372 %\n"
     ]
    }
   ],
   "source": [
    "acc_clf = clf.score(x_test, y_test)\n",
    "print('The accuracy of the QuadraticDiscriminantAnalysis is:', acc_clf* 100, '%')"
   ]
  },
  {
   "cell_type": "markdown",
   "id": "576304e7",
   "metadata": {},
   "source": [
    "#### F1 Score"
   ]
  },
  {
   "cell_type": "code",
   "execution_count": 1610,
   "id": "f86cd561",
   "metadata": {},
   "outputs": [
    {
     "name": "stdout",
     "output_type": "stream",
     "text": [
      "F1 Score of the QuadraticDiscriminantAnalysis is: 16.861012916363983\n"
     ]
    }
   ],
   "source": [
    "print(f\"F1 Score of the QuadraticDiscriminantAnalysis is: {f1_score(y_test, y_predict, average='macro') *100}\")"
   ]
  },
  {
   "cell_type": "markdown",
   "id": "be8c714e",
   "metadata": {},
   "source": [
    "#### Recall Score"
   ]
  },
  {
   "cell_type": "code",
   "execution_count": 1611,
   "id": "5d3f86d3",
   "metadata": {},
   "outputs": [
    {
     "name": "stdout",
     "output_type": "stream",
     "text": [
      "Recall Score of the QuadraticDiscriminantAnalysis is: 20.626396104211288\n"
     ]
    }
   ],
   "source": [
    "print(f\"Recall Score of the QuadraticDiscriminantAnalysis is: {recall_score(y_test, y_predict ,average='macro')*100}\")\n"
   ]
  },
  {
   "cell_type": "markdown",
   "id": "cef36a02",
   "metadata": {},
   "source": [
    "#### Precision score"
   ]
  },
  {
   "cell_type": "code",
   "execution_count": 1612,
   "id": "4d1b160e",
   "metadata": {},
   "outputs": [
    {
     "name": "stdout",
     "output_type": "stream",
     "text": [
      "Precission Score of the QuadraticDiscriminantAnalysis is: 25.33273818407789\n"
     ]
    }
   ],
   "source": [
    "print(f\"Precission Score of the QuadraticDiscriminantAnalysis is: {precision_score(y_test, y_predict,average='macro')*100}\")"
   ]
  },
  {
   "cell_type": "markdown",
   "id": "5a7cae3d",
   "metadata": {},
   "source": [
    "### AUC"
   ]
  },
  {
   "cell_type": "code",
   "execution_count": 1613,
   "id": "f8afb74e",
   "metadata": {},
   "outputs": [
    {
     "name": "stdout",
     "output_type": "stream",
     "text": [
      "AUC for our QuadraticDiscriminantAnalysis is: 0.1944788441692466\n"
     ]
    },
    {
     "data": {
      "image/png": "[encoded data removed]",
      "text/plain": [
       "<Figure size 432x288 with 1 Axes>"
      ]
     },
     "metadata": {
      "needs_background": "light"
     },
     "output_type": "display_data"
    }
   ],
   "source": [
    "fpr, tpr, threshold = roc_curve(y_test, y_predict, pos_label= 2)\n",
    "roc_auc = auc(fpr, tpr)\n",
    "\n",
    "# Printing AUC\n",
    "print(f\"AUC for our QuadraticDiscriminantAnalysis is: {roc_auc}\")\n",
    "\n",
    "# Plotting the ROC\n",
    "plt.title('Receiver Operating Characteristic')\n",
    "plt.plot(fpr, tpr, 'b', label = 'AUC = %0.2f' % roc_auc)\n",
    "plt.legend(loc = 'lower right')\n",
    "plt.plot([0, 1], [0, 1],'r--')\n",
    "plt.xlim([0, 1])\n",
    "plt.ylim([0, 1])\n",
    "plt.ylabel('True Positive Rate')\n",
    "plt.xlabel('False Positive Rate')\n",
    "plt.show()"
   ]
  },
  {
   "cell_type": "markdown",
   "id": "02b76d4d",
   "metadata": {},
   "source": [
    "## Conclusion"
   ]
  },
  {
   "cell_type": "markdown",
   "id": "2dfb5e3b",
   "metadata": {},
   "source": [
    ". A classifier with a quadratic decision boundary, generated by fitting class conditional densities to the data and using Bayes’ rule.\n",
    "\n",
    ". The model fits a Gaussian density to each class.\n",
    "\n",
    ". all Metrics values was under 30%\n",
    "\n",
    ". QDA assumes that each class follow a Gaussian distribution, but with the values of metrics we can say that we didn't have a Gaussien distrubtion of data (unbalanced data).\n",
    "\n",
    ". the ROC plot with a AUc line under the red line,"
   ]
  },
  {
   "cell_type": "markdown",
   "id": "3ca19ea0",
   "metadata": {},
   "source": [
    "## VotingClassifier"
   ]
  },
  {
   "cell_type": "markdown",
   "id": "9bdd5c70",
   "metadata": {},
   "source": [
    "Using RandomForestClassifier and Quadratic Discriminant Analysis"
   ]
  },
  {
   "cell_type": "code",
   "execution_count": 1635,
   "id": "584b58b4",
   "metadata": {},
   "outputs": [],
   "source": [
    "data3 = data[data.rating != 10]\n",
    "x = data3.drop(['rating','scoring'], axis =1)\n",
    "y = data3['rating']\n",
    "x_train, x_test, y_train, y_test = train_test_split(x, y, test_size=0.2, random_state=1)"
   ]
  },
  {
   "cell_type": "code",
   "execution_count": 1636,
   "id": "7d47dd4e",
   "metadata": {},
   "outputs": [
    {
     "name": "stdout",
     "output_type": "stream",
     "text": [
      "The accuracy of the Random Forest Classifier is: 50.46097111247695 %\n"
     ]
    }
   ],
   "source": [
    "# second estimator for VotingClassifier  \n",
    "rf1 = RandomForestClassifier()\n",
    "rf1.fit(x_train, y_train)\n",
    "y_val_pred = rf1.predict_proba(x_test)\n",
    "acc_rf1 = rf1.score(x_test, y_test)\n",
    "acc_lr = rf1.score(x_test, y_test)\n",
    "\n",
    "print('The accuracy of the Random Forest Classifier is:', acc_lr * 100, '%')"
   ]
  },
  {
   "cell_type": "code",
   "execution_count": 1639,
   "id": "54916edf",
   "metadata": {},
   "outputs": [
    {
     "data": {
      "text/plain": [
       "0.421020282728949"
      ]
     },
     "execution_count": 1639,
     "metadata": {},
     "output_type": "execute_result"
    }
   ],
   "source": [
    "eclf = VotingClassifier(estimators=[('clf', clf), ('rf1', rf1)], voting=\"soft\")\n",
    "eclf.fit(x_train, y_train)\n",
    "\n",
    "y_pred = eclf.predict(x_test)\n",
    "acc_rf1 = eclf.score(x_test, y_test)\n",
    "acc_rf1\n"
   ]
  },
  {
   "cell_type": "code",
   "execution_count": 1640,
   "id": "b7d62318",
   "metadata": {},
   "outputs": [
    {
     "name": "stdout",
     "output_type": "stream",
     "text": [
      "F1 Score of the VotingClassifier is: 0.2883811088171936\n"
     ]
    }
   ],
   "source": [
    "from sklearn.metrics import f1_score\n",
    "\n",
    "# Calculating the F1 score of classifier\n",
    "print(f\"F1 Score of the VotingClassifier is: {f1_score(y_test, y_pred, average='macro')}\")\n",
    "\n"
   ]
  },
  {
   "cell_type": "code",
   "execution_count": 1641,
   "id": "0a5aa774",
   "metadata": {},
   "outputs": [
    {
     "name": "stdout",
     "output_type": "stream",
     "text": [
      "Recall Score of the VotingClassifier is: 0.2797897561211148\n"
     ]
    }
   ],
   "source": [
    "from sklearn.metrics import recall_score\n",
    "\n",
    "# Calculating the recall score of classifier\n",
    "print(f\"Recall Score of the VotingClassifier is: {recall_score(y_test, y_pred,average='macro')}\")\n",
    "\n"
   ]
  },
  {
   "cell_type": "code",
   "execution_count": 1642,
   "id": "b731a1ea",
   "metadata": {},
   "outputs": [
    {
     "name": "stdout",
     "output_type": "stream",
     "text": [
      "precision_score of the VotingClassifier is: 0.33896788983018256\n"
     ]
    }
   ],
   "source": [
    "from sklearn.metrics import precision_score\n",
    "# Calculating the precision_score of classifier\n",
    "print(f\"precision_score of the VotingClassifier is: {precision_score(y_test, y_pred,average='macro')}\")"
   ]
  },
  {
   "cell_type": "code",
   "execution_count": 1643,
   "id": "ac12ec87",
   "metadata": {},
   "outputs": [
    {
     "name": "stdout",
     "output_type": "stream",
     "text": [
      "AUC for our VotingClassifier is: 0.09907120743034056\n"
     ]
    },
    {
     "data": {
      "image/png": "[encoded data removed]",
      "text/plain": [
       "<Figure size 432x288 with 1 Axes>"
      ]
     },
     "metadata": {
      "needs_background": "light"
     },
     "output_type": "display_data"
    }
   ],
   "source": [
    "from sklearn.metrics import roc_curve, auc\n",
    "\n",
    "fpr, tpr, threshold = roc_curve(y_test, y_pred, pos_label= 2)\n",
    "roc_auc = auc(fpr, tpr)\n",
    "\n",
    "# Printing AUC\n",
    "print(f\"AUC for our VotingClassifier is: {roc_auc}\")\n",
    "\n",
    "# Plotting the ROC\n",
    "plt.title('Receiver Operating Characteristic')\n",
    "plt.plot(fpr, tpr, 'b', label = 'AUC = %0.2f' % roc_auc)\n",
    "plt.legend(loc = 'lower right')\n",
    "plt.plot([0, 1], [0, 1],'r--')\n",
    "plt.xlim([0, 1])\n",
    "plt.ylim([0, 1])\n",
    "plt.ylabel('True Positive Rate')\n",
    "plt.xlabel('False Positive Rate')\n",
    "plt.show()"
   ]
  },
  {
   "cell_type": "markdown",
   "id": "11fc5829",
   "metadata": {},
   "source": [
    "# DecisionTreeClassifier"
   ]
  },
  {
   "cell_type": "code",
   "execution_count": 1655,
   "id": "0c7bf3dd",
   "metadata": {},
   "outputs": [],
   "source": [
    "from sklearn.tree import DecisionTreeClassifier\n",
    "from sklearn.metrics import accuracy_score,classification_report\n",
    "from sklearn.metrics import mean_squared_error,confusion_matrix, precision_score, recall_score, auc,roc_curve\n",
    "from sklearn import tree"
   ]
  },
  {
   "cell_type": "code",
   "execution_count": 1656,
   "id": "a9dc2537",
   "metadata": {},
   "outputs": [
    {
     "name": "stdout",
     "output_type": "stream",
     "text": [
      "(8134, 11)\n",
      "(8134,)\n"
     ]
    }
   ],
   "source": [
    "data3 = data[data.rating != 10]\n",
    "x = data3.drop(['rating','scoring'], axis =1)\n",
    "y = data3['rating']\n",
    "x_train, x_test, y_train, y_test = train_test_split(x, y, test_size=0.2, random_state=1)\n",
    "# print(X.head())\n",
    "print(x.shape)\n",
    "# print(y.head())\n",
    "print(y.shape)"
   ]
  },
  {
   "cell_type": "code",
   "execution_count": 1657,
   "id": "1d805c43",
   "metadata": {},
   "outputs": [
    {
     "name": "stdout",
     "output_type": "stream",
     "text": [
      "(6507, 11)\n",
      "(6507,)\n",
      "(1627, 11)\n",
      "(1627,)\n"
     ]
    }
   ],
   "source": [
    "x_train, x_test, y_train, y_test = train_test_split(x, y, test_size=0.2, random_state=5) # to emulate the split of my data\n",
    "print(x_train.shape)\n",
    "print(y_train.shape)\n",
    "print(x_test.shape)\n",
    "print(y_test.shape)"
   ]
  },
  {
   "cell_type": "code",
   "execution_count": 1658,
   "id": "f3e518cc",
   "metadata": {},
   "outputs": [
    {
     "name": "stdout",
     "output_type": "stream",
     "text": [
      "The accuracy of the  Classifier is: 42.28641671788568 %\n"
     ]
    }
   ],
   "source": [
    "from sklearn.tree import DecisionTreeClassifier, plot_tree\n",
    "\n",
    "rfc = DecisionTreeClassifier()\n",
    "rfc.fit(x_train, y_train)\n",
    "y_pred = rfc.predict(x_test)\n",
    "acc_rfc = rfc.score(x_test, y_test)\n",
    "print('The accuracy of the  Classifier is:', acc_rfc * 100, '%')"
   ]
  },
  {
   "cell_type": "code",
   "execution_count": 1659,
   "id": "ec47f1dc",
   "metadata": {},
   "outputs": [
    {
     "name": "stdout",
     "output_type": "stream",
     "text": [
      "Tuned Decision Tree Parameters: {'criterion': 'gini', 'max_depth': 10, 'max_features': 9, 'min_samples_leaf': 8}\n",
      "Best score is 0.44467658690108725\n"
     ]
    }
   ],
   "source": [
    "from scipy.stats import randint\n",
    " \n",
    "from sklearn.model_selection import RandomizedSearchCV\n",
    "\n",
    "# Setup the parameters and distributions to sample from: param_dist\n",
    "param_dist = {\"max_depth\": [3, 10, 100, None],\n",
    "              \"max_features\": randint(1, 11),\n",
    "              \"min_samples_leaf\": randint(1, 11),\n",
    "              \"criterion\": [\"gini\", \"entropy\"]}\n",
    "# Instantiate a Decision Tree classifier: tree\n",
    "tree = DecisionTreeClassifier()\n",
    "\n",
    "# Instantiate the RandomizedSearchCV object: tree_cv\n",
    "tree_cv = RandomizedSearchCV(tree, param_dist, cv=5)\n",
    "\n",
    "# Fit it to the data\n",
    "tree_cv.fit(x,y)\n",
    "\n",
    "# Print the tuned parameters and score\n",
    "print(\"Tuned Decision Tree Parameters: {}\".format(tree_cv.best_params_))\n",
    "print(\"Best score is {}\".format(tree_cv.best_score_))"
   ]
  },
  {
   "cell_type": "code",
   "execution_count": 1660,
   "id": "fd5407d1",
   "metadata": {},
   "outputs": [],
   "source": [
    "tree_model = DecisionTreeClassifier()"
   ]
  },
  {
   "cell_type": "code",
   "execution_count": 1661,
   "id": "4336738e",
   "metadata": {},
   "outputs": [
    {
     "name": "stdout",
     "output_type": "stream",
     "text": [
      "The accuracy of the Decision Tree is 0.428\n"
     ]
    }
   ],
   "source": [
    "# model that compute the tree algorithm\n",
    "\n",
    "tree_model = DecisionTreeClassifier(criterion= 'gini', max_depth= None, max_features= 10, min_samples_leaf= 9)\n",
    "tree_model.fit(x_train,y_train)\n",
    "\n",
    "# prediction\n",
    "y_predict=tree_model.predict(x_test)  \n",
    "\n",
    "print(\"The accuracy of the Decision Tree is\",\"{:.3f}\".format(metrics.accuracy_score(y_predict,y_test)))"
   ]
  },
  {
   "cell_type": "code",
   "execution_count": 1662,
   "id": "22c22518",
   "metadata": {},
   "outputs": [
    {
     "data": {
      "text/plain": [
       "array([0.07871724, 0.10959525, 0.09445506, 0.21843875, 0.06441684,\n",
       "       0.1229357 , 0.04349571, 0.05094051, 0.07850669, 0.0742831 ,\n",
       "       0.06421516])"
      ]
     },
     "execution_count": 1662,
     "metadata": {},
     "output_type": "execute_result"
    }
   ],
   "source": [
    "tree_model.feature_importances_"
   ]
  },
  {
   "cell_type": "code",
   "execution_count": 1663,
   "id": "6e151407",
   "metadata": {},
   "outputs": [
    {
     "data": {
      "image/png": "[encoded data removed]",
      "text/plain": [
       "<Figure size 2160x1152 with 1 Axes>"
      ]
     },
     "metadata": {
      "needs_background": "light"
     },
     "output_type": "display_data"
    }
   ],
   "source": [
    "plt.figure(figsize = (30,16))\n",
    "fn = x.columns\n",
    "cn = ['1','2','3', '4', '5', '6','7','8','9','10']\n",
    "plot_tree(tree_model, feature_names = fn, class_names = cn, filled = True);"
   ]
  },
  {
   "cell_type": "code",
   "execution_count": 1664,
   "id": "0c474862",
   "metadata": {},
   "outputs": [
    {
     "name": "stdout",
     "output_type": "stream",
     "text": [
      "F1 Score of the DecisionTreeClassifier is: 30.800915513353516\n"
     ]
    }
   ],
   "source": [
    "print(f\"F1 Score of the DecisionTreeClassifier is: {f1_score(y_test, y_predict, average='macro') *100}\")"
   ]
  },
  {
   "cell_type": "code",
   "execution_count": 1665,
   "id": "4c9b6f96",
   "metadata": {},
   "outputs": [
    {
     "name": "stdout",
     "output_type": "stream",
     "text": [
      "Recall Score of the DecisionTreeClassifier is: 29.48867694736512\n"
     ]
    }
   ],
   "source": [
    "print(f\"Recall Score of the DecisionTreeClassifier is: {recall_score(y_test, y_predict ,average='macro')*100}\")"
   ]
  },
  {
   "cell_type": "code",
   "execution_count": 1666,
   "id": "33c5cd1c",
   "metadata": {},
   "outputs": [
    {
     "name": "stdout",
     "output_type": "stream",
     "text": [
      "AUC for our DecisionTreeClassifier is: 0.30431565967940816\n"
     ]
    },
    {
     "data": {
      "image/png": "[encoded data removed]",
      "text/plain": [
       "<Figure size 432x288 with 1 Axes>"
      ]
     },
     "metadata": {
      "needs_background": "light"
     },
     "output_type": "display_data"
    }
   ],
   "source": [
    "fpr, tpr, threshold = roc_curve(y_test, y_predict, pos_label= 2)\n",
    "roc_auc = auc(fpr, tpr)\n",
    "\n",
    "# Printing AUC\n",
    "print(f\"AUC for our DecisionTreeClassifier is: {roc_auc}\")\n",
    "\n",
    "# Plotting the ROC\n",
    "plt.title('Receiver Operating Characteristic')\n",
    "plt.plot(fpr, tpr, 'b', label = 'AUC = %0.2f' % roc_auc)\n",
    "plt.legend(loc = 'lower right')\n",
    "plt.plot([0, 1], [0, 1],'r--')\n",
    "plt.xlim([0, 1])\n",
    "plt.ylim([0, 1])\n",
    "plt.ylabel('True Positive Rate')\n",
    "plt.xlabel('False Positive Rate')\n",
    "plt.show()"
   ]
  },
  {
   "cell_type": "code",
   "execution_count": 1667,
   "id": "a2dfbd6b",
   "metadata": {},
   "outputs": [
    {
     "name": "stdout",
     "output_type": "stream",
     "text": [
      "[[  1   2   2   0   0   0   0   0]\n",
      " [  3   0   6   5   3   2   1   0]\n",
      " [  2   9  22  13  14   9   4   1]\n",
      " [  1   4  20  28  45  23  11   1]\n",
      " [  2   6  18  51 153 125  56   3]\n",
      " [  2   5  11  36 123 228  96   7]\n",
      " [  0   0   3   8  46 104 233  19]\n",
      " [  0   1   0   2   4   9  21  23]]\n"
     ]
    },
    {
     "data": {
      "image/png": "[encoded data removed]",
      "text/plain": [
       "<Figure size 432x288 with 2 Axes>"
      ]
     },
     "metadata": {
      "needs_background": "light"
     },
     "output_type": "display_data"
    }
   ],
   "source": [
    "from sklearn.metrics import plot_confusion_matrix\n",
    "import matplotlib.pyplot as plt\n",
    "\n",
    "# confusion_matrix contains the summary of the predictions\n",
    "print(confusion_matrix(y_test, y_pred))\n",
    "\n",
    "# plotting the confusion_matrix\n",
    "plot_confusion_matrix(tree_model, x_test,y_test)\n",
    "plt.show()"
   ]
  },
  {
   "cell_type": "markdown",
   "id": "c294fb29",
   "metadata": {},
   "source": [
    "Summary of the DecisionTree Classifier Model\n",
    ". Decision tree is a supervised learning algorithm that can be used for regression and classification problems. \n",
    "  The algorithm uses training data to create rules that can be represented by a tree structure.\n",
    ". Like any other tree representation, it has a root node, internal nodes, and leaf nodes. \n",
    "  The internal node represents condition on attributes, the branches represent the results of the condition \n",
    "  and the leaf node represents the class label.\n",
    ". Decision tree can work with both categorical and numerical data.This is in contrast with other ML algorithms \n",
    "  that cannot work with categorical data and requires encoding to numeric values.\n",
    "\n",
    "Advantages of Decision Tree\n",
    ". The decision tree is a white-box model. We can easily understand any particular condition of the model \n",
    "  which results in either true or false.\n",
    ". It can handle both continuous and categorical data.\n",
    "\n",
    "Disadvantages of Decision Tree\n",
    ". Decision trees may become very large and complex with a large number of attributes (like in our case depth 10)\n",
    ". A decision tree at times can be sensitive to the training data, a very small variation in data can lead to a \n",
    "  completely different tree structure.\n",
    "\n",
    ". all Metrics values was under 45%\n",
    "\n",
    ". The ROC plot with a AUc line is under the red line"
   ]
  },
  {
   "cell_type": "code",
   "execution_count": null,
   "id": "08211a4b",
   "metadata": {},
   "outputs": [],
   "source": []
  }
 ],
 "metadata": {
  "kernelspec": {
   "display_name": "Python 3",
   "language": "python",
   "name": "python3"
  },
  "language_info": {
   "codemirror_mode": {
    "name": "ipython",
    "version": 3
   },
   "file_extension": ".py",
   "mimetype": "text/x-python",
   "name": "python",
   "nbconvert_exporter": "python",
   "pygments_lexer": "ipython3",
   "version": "3.8.8"
  }
 },
 "nbformat": 4,
 "nbformat_minor": 5
}
